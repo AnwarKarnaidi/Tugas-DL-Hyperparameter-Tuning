{
 "cells": [
  {
   "cell_type": "code",
   "execution_count": 8,
   "id": "ecbf3a37",
   "metadata": {},
   "outputs": [
    {
     "name": "stdout",
     "output_type": "stream",
     "text": [
      "Defaulting to user installation because normal site-packages is not writeable\n",
      "Requirement already satisfied: tensorflow in c:\\users\\a s u s\\appdata\\roaming\\python\\python311\\site-packages (2.16.2)\n",
      "Requirement already satisfied: tensorflow-intel==2.16.2 in c:\\users\\a s u s\\appdata\\roaming\\python\\python311\\site-packages (from tensorflow) (2.16.2)\n",
      "Requirement already satisfied: absl-py>=1.0.0 in c:\\users\\a s u s\\appdata\\roaming\\python\\python311\\site-packages (from tensorflow-intel==2.16.2->tensorflow) (2.1.0)\n",
      "Requirement already satisfied: astunparse>=1.6.0 in c:\\users\\a s u s\\appdata\\roaming\\python\\python311\\site-packages (from tensorflow-intel==2.16.2->tensorflow) (1.6.3)\n",
      "Requirement already satisfied: flatbuffers>=23.5.26 in c:\\users\\a s u s\\appdata\\roaming\\python\\python311\\site-packages (from tensorflow-intel==2.16.2->tensorflow) (24.3.25)\n",
      "Requirement already satisfied: gast!=0.5.0,!=0.5.1,!=0.5.2,>=0.2.1 in c:\\users\\a s u s\\appdata\\roaming\\python\\python311\\site-packages (from tensorflow-intel==2.16.2->tensorflow) (0.5.4)\n",
      "Requirement already satisfied: google-pasta>=0.1.1 in c:\\users\\a s u s\\appdata\\roaming\\python\\python311\\site-packages (from tensorflow-intel==2.16.2->tensorflow) (0.2.0)\n",
      "Requirement already satisfied: h5py>=3.10.0 in c:\\users\\a s u s\\appdata\\roaming\\python\\python311\\site-packages (from tensorflow-intel==2.16.2->tensorflow) (3.11.0)\n",
      "Requirement already satisfied: libclang>=13.0.0 in c:\\users\\a s u s\\appdata\\roaming\\python\\python311\\site-packages (from tensorflow-intel==2.16.2->tensorflow) (18.1.1)\n",
      "Requirement already satisfied: ml-dtypes~=0.3.1 in c:\\users\\a s u s\\appdata\\roaming\\python\\python311\\site-packages (from tensorflow-intel==2.16.2->tensorflow) (0.3.2)\n",
      "Requirement already satisfied: opt-einsum>=2.3.2 in c:\\users\\a s u s\\appdata\\roaming\\python\\python311\\site-packages (from tensorflow-intel==2.16.2->tensorflow) (3.3.0)\n",
      "Requirement already satisfied: packaging in c:\\users\\a s u s\\appdata\\roaming\\python\\python311\\site-packages (from tensorflow-intel==2.16.2->tensorflow) (23.2)\n",
      "Requirement already satisfied: protobuf!=4.21.0,!=4.21.1,!=4.21.2,!=4.21.3,!=4.21.4,!=4.21.5,<5.0.0dev,>=3.20.3 in c:\\users\\a s u s\\appdata\\roaming\\python\\python311\\site-packages (from tensorflow-intel==2.16.2->tensorflow) (4.25.3)\n",
      "Requirement already satisfied: requests<3,>=2.21.0 in c:\\programdata\\anaconda3\\lib\\site-packages (from tensorflow-intel==2.16.2->tensorflow) (2.31.0)\n",
      "Requirement already satisfied: setuptools in c:\\programdata\\anaconda3\\lib\\site-packages (from tensorflow-intel==2.16.2->tensorflow) (68.0.0)\n",
      "Requirement already satisfied: six>=1.12.0 in c:\\users\\a s u s\\appdata\\roaming\\python\\python311\\site-packages (from tensorflow-intel==2.16.2->tensorflow) (1.16.0)\n",
      "Requirement already satisfied: termcolor>=1.1.0 in c:\\users\\a s u s\\appdata\\roaming\\python\\python311\\site-packages (from tensorflow-intel==2.16.2->tensorflow) (2.4.0)\n",
      "Requirement already satisfied: typing-extensions>=3.6.6 in c:\\users\\a s u s\\appdata\\roaming\\python\\python311\\site-packages (from tensorflow-intel==2.16.2->tensorflow) (4.11.0)\n",
      "Requirement already satisfied: wrapt>=1.11.0 in c:\\programdata\\anaconda3\\lib\\site-packages (from tensorflow-intel==2.16.2->tensorflow) (1.14.1)\n",
      "Requirement already satisfied: grpcio<2.0,>=1.24.3 in c:\\users\\a s u s\\appdata\\roaming\\python\\python311\\site-packages (from tensorflow-intel==2.16.2->tensorflow) (1.64.0)\n",
      "Requirement already satisfied: tensorboard<2.17,>=2.16 in c:\\users\\a s u s\\appdata\\roaming\\python\\python311\\site-packages (from tensorflow-intel==2.16.2->tensorflow) (2.16.2)\n",
      "Requirement already satisfied: keras>=3.0.0 in c:\\users\\a s u s\\appdata\\roaming\\python\\python311\\site-packages (from tensorflow-intel==2.16.2->tensorflow) (3.3.3)\n",
      "Requirement already satisfied: tensorflow-io-gcs-filesystem>=0.23.1 in c:\\users\\a s u s\\appdata\\roaming\\python\\python311\\site-packages (from tensorflow-intel==2.16.2->tensorflow) (0.31.0)\n",
      "Requirement already satisfied: numpy<2.0.0,>=1.23.5 in c:\\users\\a s u s\\appdata\\roaming\\python\\python311\\site-packages (from tensorflow-intel==2.16.2->tensorflow) (1.24.4)\n",
      "Requirement already satisfied: wheel<1.0,>=0.23.0 in c:\\programdata\\anaconda3\\lib\\site-packages (from astunparse>=1.6.0->tensorflow-intel==2.16.2->tensorflow) (0.38.4)\n",
      "Requirement already satisfied: rich in c:\\users\\a s u s\\appdata\\roaming\\python\\python311\\site-packages (from keras>=3.0.0->tensorflow-intel==2.16.2->tensorflow) (13.7.0)\n",
      "Requirement already satisfied: namex in c:\\users\\a s u s\\appdata\\roaming\\python\\python311\\site-packages (from keras>=3.0.0->tensorflow-intel==2.16.2->tensorflow) (0.0.8)\n",
      "Requirement already satisfied: optree in c:\\users\\a s u s\\appdata\\roaming\\python\\python311\\site-packages (from keras>=3.0.0->tensorflow-intel==2.16.2->tensorflow) (0.11.0)\n",
      "Requirement already satisfied: charset-normalizer<4,>=2 in c:\\programdata\\anaconda3\\lib\\site-packages (from requests<3,>=2.21.0->tensorflow-intel==2.16.2->tensorflow) (2.0.4)\n",
      "Requirement already satisfied: idna<4,>=2.5 in c:\\programdata\\anaconda3\\lib\\site-packages (from requests<3,>=2.21.0->tensorflow-intel==2.16.2->tensorflow) (3.4)\n",
      "Requirement already satisfied: urllib3<3,>=1.21.1 in c:\\programdata\\anaconda3\\lib\\site-packages (from requests<3,>=2.21.0->tensorflow-intel==2.16.2->tensorflow) (1.26.16)\n",
      "Requirement already satisfied: certifi>=2017.4.17 in c:\\programdata\\anaconda3\\lib\\site-packages (from requests<3,>=2.21.0->tensorflow-intel==2.16.2->tensorflow) (2023.11.17)\n",
      "Requirement already satisfied: markdown>=2.6.8 in c:\\programdata\\anaconda3\\lib\\site-packages (from tensorboard<2.17,>=2.16->tensorflow-intel==2.16.2->tensorflow) (3.4.1)\n",
      "Requirement already satisfied: tensorboard-data-server<0.8.0,>=0.7.0 in c:\\users\\a s u s\\appdata\\roaming\\python\\python311\\site-packages (from tensorboard<2.17,>=2.16->tensorflow-intel==2.16.2->tensorflow) (0.7.2)\n",
      "Requirement already satisfied: werkzeug>=1.0.1 in c:\\programdata\\anaconda3\\lib\\site-packages (from tensorboard<2.17,>=2.16->tensorflow-intel==2.16.2->tensorflow) (2.2.3)\n",
      "Requirement already satisfied: MarkupSafe>=2.1.1 in c:\\programdata\\anaconda3\\lib\\site-packages (from werkzeug>=1.0.1->tensorboard<2.17,>=2.16->tensorflow-intel==2.16.2->tensorflow) (2.1.1)\n",
      "Requirement already satisfied: markdown-it-py>=2.2.0 in c:\\programdata\\anaconda3\\lib\\site-packages (from rich->keras>=3.0.0->tensorflow-intel==2.16.2->tensorflow) (2.2.0)\n",
      "Requirement already satisfied: pygments<3.0.0,>=2.13.0 in c:\\users\\a s u s\\appdata\\roaming\\python\\python311\\site-packages (from rich->keras>=3.0.0->tensorflow-intel==2.16.2->tensorflow) (2.17.2)\n",
      "Requirement already satisfied: mdurl~=0.1 in c:\\programdata\\anaconda3\\lib\\site-packages (from markdown-it-py>=2.2.0->rich->keras>=3.0.0->tensorflow-intel==2.16.2->tensorflow) (0.1.0)\n"
     ]
    }
   ],
   "source": [
    "!pip install tensorflow"
   ]
  },
  {
   "cell_type": "code",
   "execution_count": 7,
   "id": "c1c98fea",
   "metadata": {},
   "outputs": [
    {
     "name": "stdout",
     "output_type": "stream",
     "text": [
      "Defaulting to user installation because normal site-packages is not writeable\n",
      "Requirement already satisfied: tensorflow-addons in c:\\users\\a s u s\\appdata\\roaming\\python\\python311\\site-packages (0.22.0)\n",
      "Requirement already satisfied: typeguard<3.0.0,>=2.7 in c:\\users\\a s u s\\appdata\\roaming\\python\\python311\\site-packages (from tensorflow-addons) (2.13.3)\n",
      "Requirement already satisfied: packaging in c:\\users\\a s u s\\appdata\\roaming\\python\\python311\\site-packages (from tensorflow-addons) (23.2)\n",
      "Note: you may need to restart the kernel to use updated packages.\n"
     ]
    }
   ],
   "source": [
    "pip install tensorflow-addons"
   ]
  },
  {
   "cell_type": "code",
   "execution_count": 31,
   "id": "1a252f54",
   "metadata": {},
   "outputs": [
    {
     "name": "stdout",
     "output_type": "stream",
     "text": [
      "Defaulting to user installation because normal site-packages is not writeable\n",
      "Requirement already satisfied: tensorflow in c:\\users\\a s u s\\appdata\\roaming\\python\\python311\\site-packages (2.16.2)\n",
      "Requirement already satisfied: tensorflow-intel==2.16.2 in c:\\users\\a s u s\\appdata\\roaming\\python\\python311\\site-packages (from tensorflow) (2.16.2)\n",
      "Requirement already satisfied: absl-py>=1.0.0 in c:\\users\\a s u s\\appdata\\roaming\\python\\python311\\site-packages (from tensorflow-intel==2.16.2->tensorflow) (2.1.0)\n",
      "Requirement already satisfied: astunparse>=1.6.0 in c:\\users\\a s u s\\appdata\\roaming\\python\\python311\\site-packages (from tensorflow-intel==2.16.2->tensorflow) (1.6.3)\n",
      "Requirement already satisfied: flatbuffers>=23.5.26 in c:\\users\\a s u s\\appdata\\roaming\\python\\python311\\site-packages (from tensorflow-intel==2.16.2->tensorflow) (24.3.25)\n",
      "Requirement already satisfied: gast!=0.5.0,!=0.5.1,!=0.5.2,>=0.2.1 in c:\\users\\a s u s\\appdata\\roaming\\python\\python311\\site-packages (from tensorflow-intel==2.16.2->tensorflow) (0.5.4)\n",
      "Requirement already satisfied: google-pasta>=0.1.1 in c:\\users\\a s u s\\appdata\\roaming\\python\\python311\\site-packages (from tensorflow-intel==2.16.2->tensorflow) (0.2.0)\n",
      "Requirement already satisfied: h5py>=3.10.0 in c:\\users\\a s u s\\appdata\\roaming\\python\\python311\\site-packages (from tensorflow-intel==2.16.2->tensorflow) (3.11.0)\n",
      "Requirement already satisfied: libclang>=13.0.0 in c:\\users\\a s u s\\appdata\\roaming\\python\\python311\\site-packages (from tensorflow-intel==2.16.2->tensorflow) (18.1.1)\n",
      "Requirement already satisfied: ml-dtypes~=0.3.1 in c:\\users\\a s u s\\appdata\\roaming\\python\\python311\\site-packages (from tensorflow-intel==2.16.2->tensorflow) (0.3.2)\n",
      "Requirement already satisfied: opt-einsum>=2.3.2 in c:\\users\\a s u s\\appdata\\roaming\\python\\python311\\site-packages (from tensorflow-intel==2.16.2->tensorflow) (3.3.0)\n",
      "Requirement already satisfied: packaging in c:\\users\\a s u s\\appdata\\roaming\\python\\python311\\site-packages (from tensorflow-intel==2.16.2->tensorflow) (23.2)\n",
      "Requirement already satisfied: protobuf!=4.21.0,!=4.21.1,!=4.21.2,!=4.21.3,!=4.21.4,!=4.21.5,<5.0.0dev,>=3.20.3 in c:\\users\\a s u s\\appdata\\roaming\\python\\python311\\site-packages (from tensorflow-intel==2.16.2->tensorflow) (4.25.3)\n",
      "Requirement already satisfied: requests<3,>=2.21.0 in c:\\programdata\\anaconda3\\lib\\site-packages (from tensorflow-intel==2.16.2->tensorflow) (2.31.0)\n",
      "Requirement already satisfied: setuptools in c:\\programdata\\anaconda3\\lib\\site-packages (from tensorflow-intel==2.16.2->tensorflow) (68.0.0)\n",
      "Requirement already satisfied: six>=1.12.0 in c:\\users\\a s u s\\appdata\\roaming\\python\\python311\\site-packages (from tensorflow-intel==2.16.2->tensorflow) (1.16.0)\n",
      "Requirement already satisfied: termcolor>=1.1.0 in c:\\users\\a s u s\\appdata\\roaming\\python\\python311\\site-packages (from tensorflow-intel==2.16.2->tensorflow) (2.4.0)\n",
      "Requirement already satisfied: typing-extensions>=3.6.6 in c:\\users\\a s u s\\appdata\\roaming\\python\\python311\\site-packages (from tensorflow-intel==2.16.2->tensorflow) (4.11.0)\n",
      "Requirement already satisfied: wrapt>=1.11.0 in c:\\programdata\\anaconda3\\lib\\site-packages (from tensorflow-intel==2.16.2->tensorflow) (1.14.1)\n",
      "Requirement already satisfied: grpcio<2.0,>=1.24.3 in c:\\users\\a s u s\\appdata\\roaming\\python\\python311\\site-packages (from tensorflow-intel==2.16.2->tensorflow) (1.64.0)\n",
      "Requirement already satisfied: tensorboard<2.17,>=2.16 in c:\\users\\a s u s\\appdata\\roaming\\python\\python311\\site-packages (from tensorflow-intel==2.16.2->tensorflow) (2.16.2)\n",
      "Requirement already satisfied: keras>=3.0.0 in c:\\users\\a s u s\\appdata\\roaming\\python\\python311\\site-packages (from tensorflow-intel==2.16.2->tensorflow) (3.3.3)\n",
      "Requirement already satisfied: tensorflow-io-gcs-filesystem>=0.23.1 in c:\\users\\a s u s\\appdata\\roaming\\python\\python311\\site-packages (from tensorflow-intel==2.16.2->tensorflow) (0.31.0)\n",
      "Requirement already satisfied: numpy<2.0.0,>=1.23.5 in c:\\users\\a s u s\\appdata\\roaming\\python\\python311\\site-packages (from tensorflow-intel==2.16.2->tensorflow) (1.24.4)\n",
      "Requirement already satisfied: wheel<1.0,>=0.23.0 in c:\\programdata\\anaconda3\\lib\\site-packages (from astunparse>=1.6.0->tensorflow-intel==2.16.2->tensorflow) (0.38.4)\n",
      "Requirement already satisfied: rich in c:\\users\\a s u s\\appdata\\roaming\\python\\python311\\site-packages (from keras>=3.0.0->tensorflow-intel==2.16.2->tensorflow) (13.7.0)\n",
      "Requirement already satisfied: namex in c:\\users\\a s u s\\appdata\\roaming\\python\\python311\\site-packages (from keras>=3.0.0->tensorflow-intel==2.16.2->tensorflow) (0.0.8)\n",
      "Requirement already satisfied: optree in c:\\users\\a s u s\\appdata\\roaming\\python\\python311\\site-packages (from keras>=3.0.0->tensorflow-intel==2.16.2->tensorflow) (0.11.0)\n",
      "Requirement already satisfied: charset-normalizer<4,>=2 in c:\\programdata\\anaconda3\\lib\\site-packages (from requests<3,>=2.21.0->tensorflow-intel==2.16.2->tensorflow) (2.0.4)\n",
      "Requirement already satisfied: idna<4,>=2.5 in c:\\programdata\\anaconda3\\lib\\site-packages (from requests<3,>=2.21.0->tensorflow-intel==2.16.2->tensorflow) (3.4)\n",
      "Requirement already satisfied: urllib3<3,>=1.21.1 in c:\\programdata\\anaconda3\\lib\\site-packages (from requests<3,>=2.21.0->tensorflow-intel==2.16.2->tensorflow) (1.26.16)\n",
      "Requirement already satisfied: certifi>=2017.4.17 in c:\\programdata\\anaconda3\\lib\\site-packages (from requests<3,>=2.21.0->tensorflow-intel==2.16.2->tensorflow) (2023.11.17)\n",
      "Requirement already satisfied: markdown>=2.6.8 in c:\\programdata\\anaconda3\\lib\\site-packages (from tensorboard<2.17,>=2.16->tensorflow-intel==2.16.2->tensorflow) (3.4.1)\n",
      "Requirement already satisfied: tensorboard-data-server<0.8.0,>=0.7.0 in c:\\users\\a s u s\\appdata\\roaming\\python\\python311\\site-packages (from tensorboard<2.17,>=2.16->tensorflow-intel==2.16.2->tensorflow) (0.7.2)\n",
      "Requirement already satisfied: werkzeug>=1.0.1 in c:\\programdata\\anaconda3\\lib\\site-packages (from tensorboard<2.17,>=2.16->tensorflow-intel==2.16.2->tensorflow) (2.2.3)\n",
      "Requirement already satisfied: MarkupSafe>=2.1.1 in c:\\programdata\\anaconda3\\lib\\site-packages (from werkzeug>=1.0.1->tensorboard<2.17,>=2.16->tensorflow-intel==2.16.2->tensorflow) (2.1.1)\n",
      "Requirement already satisfied: markdown-it-py>=2.2.0 in c:\\programdata\\anaconda3\\lib\\site-packages (from rich->keras>=3.0.0->tensorflow-intel==2.16.2->tensorflow) (2.2.0)\n",
      "Requirement already satisfied: pygments<3.0.0,>=2.13.0 in c:\\users\\a s u s\\appdata\\roaming\\python\\python311\\site-packages (from rich->keras>=3.0.0->tensorflow-intel==2.16.2->tensorflow) (2.17.2)\n",
      "Requirement already satisfied: mdurl~=0.1 in c:\\programdata\\anaconda3\\lib\\site-packages (from markdown-it-py>=2.2.0->rich->keras>=3.0.0->tensorflow-intel==2.16.2->tensorflow) (0.1.0)\n",
      "Note: you may need to restart the kernel to use updated packages.\n"
     ]
    }
   ],
   "source": [
    "pip install tensorflow --upgrade"
   ]
  },
  {
   "cell_type": "code",
   "execution_count": 3,
   "id": "f34e8f47",
   "metadata": {},
   "outputs": [
    {
     "name": "stdout",
     "output_type": "stream",
     "text": [
      "Defaulting to user installation because normal site-packages is not writeable\n",
      "Requirement already satisfied: tensorflow-datasets in c:\\users\\a s u s\\appdata\\roaming\\python\\python311\\site-packages (4.9.6)\n",
      "Requirement already satisfied: absl-py in c:\\users\\a s u s\\appdata\\roaming\\python\\python311\\site-packages (from tensorflow-datasets) (2.1.0)\n",
      "Requirement already satisfied: click in c:\\programdata\\anaconda3\\lib\\site-packages (from tensorflow-datasets) (8.0.4)\n",
      "Requirement already satisfied: dm-tree in c:\\users\\a s u s\\appdata\\roaming\\python\\python311\\site-packages (from tensorflow-datasets) (0.1.8)\n",
      "Requirement already satisfied: immutabledict in c:\\users\\a s u s\\appdata\\roaming\\python\\python311\\site-packages (from tensorflow-datasets) (4.2.0)\n",
      "Requirement already satisfied: numpy in c:\\users\\a s u s\\appdata\\roaming\\python\\python311\\site-packages (from tensorflow-datasets) (1.24.4)\n",
      "Requirement already satisfied: promise in c:\\users\\a s u s\\appdata\\roaming\\python\\python311\\site-packages (from tensorflow-datasets) (2.3)\n",
      "Requirement already satisfied: protobuf>=3.20 in c:\\users\\a s u s\\appdata\\roaming\\python\\python311\\site-packages (from tensorflow-datasets) (4.25.3)\n",
      "Requirement already satisfied: psutil in c:\\users\\a s u s\\appdata\\roaming\\python\\python311\\site-packages (from tensorflow-datasets) (5.9.7)\n",
      "Requirement already satisfied: pyarrow in c:\\programdata\\anaconda3\\lib\\site-packages (from tensorflow-datasets) (11.0.0)\n",
      "Requirement already satisfied: requests>=2.19.0 in c:\\programdata\\anaconda3\\lib\\site-packages (from tensorflow-datasets) (2.31.0)\n",
      "Requirement already satisfied: simple-parsing in c:\\users\\a s u s\\appdata\\roaming\\python\\python311\\site-packages (from tensorflow-datasets) (0.1.5)\n",
      "Requirement already satisfied: tensorflow-metadata in c:\\users\\a s u s\\appdata\\roaming\\python\\python311\\site-packages (from tensorflow-datasets) (1.15.0)\n",
      "Requirement already satisfied: termcolor in c:\\users\\a s u s\\appdata\\roaming\\python\\python311\\site-packages (from tensorflow-datasets) (2.4.0)\n",
      "Requirement already satisfied: toml in c:\\programdata\\anaconda3\\lib\\site-packages (from tensorflow-datasets) (0.10.2)\n",
      "Requirement already satisfied: tqdm in c:\\programdata\\anaconda3\\lib\\site-packages (from tensorflow-datasets) (4.65.0)\n",
      "Requirement already satisfied: wrapt in c:\\programdata\\anaconda3\\lib\\site-packages (from tensorflow-datasets) (1.14.1)\n",
      "Requirement already satisfied: etils[enp,epath,epy,etree]>=1.9.1 in c:\\users\\a s u s\\appdata\\roaming\\python\\python311\\site-packages (from tensorflow-datasets) (1.9.2)\n",
      "Requirement already satisfied: fsspec in c:\\programdata\\anaconda3\\lib\\site-packages (from etils[enp,epath,epy,etree]>=1.9.1->tensorflow-datasets) (2023.3.0)\n",
      "Requirement already satisfied: importlib_resources in c:\\users\\a s u s\\appdata\\roaming\\python\\python311\\site-packages (from etils[enp,epath,epy,etree]>=1.9.1->tensorflow-datasets) (6.4.0)\n",
      "Requirement already satisfied: typing_extensions in c:\\users\\a s u s\\appdata\\roaming\\python\\python311\\site-packages (from etils[enp,epath,epy,etree]>=1.9.1->tensorflow-datasets) (4.11.0)\n",
      "Requirement already satisfied: zipp in c:\\programdata\\anaconda3\\lib\\site-packages (from etils[enp,epath,epy,etree]>=1.9.1->tensorflow-datasets) (3.11.0)\n",
      "Requirement already satisfied: charset-normalizer<4,>=2 in c:\\programdata\\anaconda3\\lib\\site-packages (from requests>=2.19.0->tensorflow-datasets) (2.0.4)\n",
      "Requirement already satisfied: idna<4,>=2.5 in c:\\programdata\\anaconda3\\lib\\site-packages (from requests>=2.19.0->tensorflow-datasets) (3.4)\n",
      "Requirement already satisfied: urllib3<3,>=1.21.1 in c:\\programdata\\anaconda3\\lib\\site-packages (from requests>=2.19.0->tensorflow-datasets) (1.26.16)\n",
      "Requirement already satisfied: certifi>=2017.4.17 in c:\\programdata\\anaconda3\\lib\\site-packages (from requests>=2.19.0->tensorflow-datasets) (2023.11.17)\n",
      "Requirement already satisfied: colorama in c:\\users\\a s u s\\appdata\\roaming\\python\\python311\\site-packages (from click->tensorflow-datasets) (0.4.6)\n",
      "Requirement already satisfied: six in c:\\users\\a s u s\\appdata\\roaming\\python\\python311\\site-packages (from promise->tensorflow-datasets) (1.16.0)\n",
      "Requirement already satisfied: docstring-parser~=0.15 in c:\\users\\a s u s\\appdata\\roaming\\python\\python311\\site-packages (from simple-parsing->tensorflow-datasets) (0.16)\n",
      "Requirement already satisfied: googleapis-common-protos<2,>=1.56.4 in c:\\users\\a s u s\\appdata\\roaming\\python\\python311\\site-packages (from tensorflow-metadata->tensorflow-datasets) (1.63.2)\n"
     ]
    }
   ],
   "source": [
    "!pip install tensorflow-datasets"
   ]
  },
  {
   "cell_type": "code",
   "execution_count": 35,
   "id": "6fe7d5f9",
   "metadata": {},
   "outputs": [
    {
     "name": "stdout",
     "output_type": "stream",
     "text": [
      "Defaulting to user installation because normal site-packages is not writeable\n",
      "Requirement already satisfied: tensorflow in c:\\users\\a s u s\\appdata\\roaming\\python\\python311\\site-packages (2.16.2)\n",
      "Requirement already satisfied: tensorflow-datasets in c:\\users\\a s u s\\appdata\\roaming\\python\\python311\\site-packages (4.9.6)\n",
      "Requirement already satisfied: tensorflow-intel==2.16.2 in c:\\users\\a s u s\\appdata\\roaming\\python\\python311\\site-packages (from tensorflow) (2.16.2)\n",
      "Requirement already satisfied: absl-py>=1.0.0 in c:\\users\\a s u s\\appdata\\roaming\\python\\python311\\site-packages (from tensorflow-intel==2.16.2->tensorflow) (2.1.0)\n",
      "Requirement already satisfied: astunparse>=1.6.0 in c:\\users\\a s u s\\appdata\\roaming\\python\\python311\\site-packages (from tensorflow-intel==2.16.2->tensorflow) (1.6.3)\n",
      "Requirement already satisfied: flatbuffers>=23.5.26 in c:\\users\\a s u s\\appdata\\roaming\\python\\python311\\site-packages (from tensorflow-intel==2.16.2->tensorflow) (24.3.25)\n",
      "Requirement already satisfied: gast!=0.5.0,!=0.5.1,!=0.5.2,>=0.2.1 in c:\\users\\a s u s\\appdata\\roaming\\python\\python311\\site-packages (from tensorflow-intel==2.16.2->tensorflow) (0.5.4)\n",
      "Requirement already satisfied: google-pasta>=0.1.1 in c:\\users\\a s u s\\appdata\\roaming\\python\\python311\\site-packages (from tensorflow-intel==2.16.2->tensorflow) (0.2.0)\n",
      "Requirement already satisfied: h5py>=3.10.0 in c:\\users\\a s u s\\appdata\\roaming\\python\\python311\\site-packages (from tensorflow-intel==2.16.2->tensorflow) (3.11.0)\n",
      "Requirement already satisfied: libclang>=13.0.0 in c:\\users\\a s u s\\appdata\\roaming\\python\\python311\\site-packages (from tensorflow-intel==2.16.2->tensorflow) (18.1.1)\n",
      "Requirement already satisfied: ml-dtypes~=0.3.1 in c:\\users\\a s u s\\appdata\\roaming\\python\\python311\\site-packages (from tensorflow-intel==2.16.2->tensorflow) (0.3.2)\n",
      "Requirement already satisfied: opt-einsum>=2.3.2 in c:\\users\\a s u s\\appdata\\roaming\\python\\python311\\site-packages (from tensorflow-intel==2.16.2->tensorflow) (3.3.0)\n",
      "Requirement already satisfied: packaging in c:\\users\\a s u s\\appdata\\roaming\\python\\python311\\site-packages (from tensorflow-intel==2.16.2->tensorflow) (23.2)\n",
      "Requirement already satisfied: protobuf!=4.21.0,!=4.21.1,!=4.21.2,!=4.21.3,!=4.21.4,!=4.21.5,<5.0.0dev,>=3.20.3 in c:\\users\\a s u s\\appdata\\roaming\\python\\python311\\site-packages (from tensorflow-intel==2.16.2->tensorflow) (4.25.3)\n",
      "Requirement already satisfied: requests<3,>=2.21.0 in c:\\programdata\\anaconda3\\lib\\site-packages (from tensorflow-intel==2.16.2->tensorflow) (2.31.0)\n",
      "Requirement already satisfied: setuptools in c:\\programdata\\anaconda3\\lib\\site-packages (from tensorflow-intel==2.16.2->tensorflow) (68.0.0)\n",
      "Requirement already satisfied: six>=1.12.0 in c:\\users\\a s u s\\appdata\\roaming\\python\\python311\\site-packages (from tensorflow-intel==2.16.2->tensorflow) (1.16.0)\n",
      "Requirement already satisfied: termcolor>=1.1.0 in c:\\users\\a s u s\\appdata\\roaming\\python\\python311\\site-packages (from tensorflow-intel==2.16.2->tensorflow) (2.4.0)\n",
      "Requirement already satisfied: typing-extensions>=3.6.6 in c:\\users\\a s u s\\appdata\\roaming\\python\\python311\\site-packages (from tensorflow-intel==2.16.2->tensorflow) (4.11.0)\n",
      "Requirement already satisfied: wrapt>=1.11.0 in c:\\programdata\\anaconda3\\lib\\site-packages (from tensorflow-intel==2.16.2->tensorflow) (1.14.1)\n",
      "Requirement already satisfied: grpcio<2.0,>=1.24.3 in c:\\users\\a s u s\\appdata\\roaming\\python\\python311\\site-packages (from tensorflow-intel==2.16.2->tensorflow) (1.64.0)\n",
      "Requirement already satisfied: tensorboard<2.17,>=2.16 in c:\\users\\a s u s\\appdata\\roaming\\python\\python311\\site-packages (from tensorflow-intel==2.16.2->tensorflow) (2.16.2)\n",
      "Requirement already satisfied: keras>=3.0.0 in c:\\users\\a s u s\\appdata\\roaming\\python\\python311\\site-packages (from tensorflow-intel==2.16.2->tensorflow) (3.3.3)\n",
      "Requirement already satisfied: tensorflow-io-gcs-filesystem>=0.23.1 in c:\\users\\a s u s\\appdata\\roaming\\python\\python311\\site-packages (from tensorflow-intel==2.16.2->tensorflow) (0.31.0)\n",
      "Requirement already satisfied: numpy<2.0.0,>=1.23.5 in c:\\users\\a s u s\\appdata\\roaming\\python\\python311\\site-packages (from tensorflow-intel==2.16.2->tensorflow) (1.24.4)\n",
      "Requirement already satisfied: click in c:\\programdata\\anaconda3\\lib\\site-packages (from tensorflow-datasets) (8.0.4)\n",
      "Requirement already satisfied: dm-tree in c:\\users\\a s u s\\appdata\\roaming\\python\\python311\\site-packages (from tensorflow-datasets) (0.1.8)\n",
      "Requirement already satisfied: immutabledict in c:\\users\\a s u s\\appdata\\roaming\\python\\python311\\site-packages (from tensorflow-datasets) (4.2.0)\n",
      "Requirement already satisfied: promise in c:\\users\\a s u s\\appdata\\roaming\\python\\python311\\site-packages (from tensorflow-datasets) (2.3)\n",
      "Requirement already satisfied: psutil in c:\\users\\a s u s\\appdata\\roaming\\python\\python311\\site-packages (from tensorflow-datasets) (5.9.7)\n",
      "Requirement already satisfied: pyarrow in c:\\programdata\\anaconda3\\lib\\site-packages (from tensorflow-datasets) (11.0.0)\n",
      "Requirement already satisfied: simple-parsing in c:\\users\\a s u s\\appdata\\roaming\\python\\python311\\site-packages (from tensorflow-datasets) (0.1.5)\n",
      "Requirement already satisfied: tensorflow-metadata in c:\\users\\a s u s\\appdata\\roaming\\python\\python311\\site-packages (from tensorflow-datasets) (1.15.0)\n",
      "Requirement already satisfied: toml in c:\\programdata\\anaconda3\\lib\\site-packages (from tensorflow-datasets) (0.10.2)\n",
      "Requirement already satisfied: tqdm in c:\\programdata\\anaconda3\\lib\\site-packages (from tensorflow-datasets) (4.65.0)\n",
      "Requirement already satisfied: etils[enp,epath,epy,etree]>=1.9.1 in c:\\users\\a s u s\\appdata\\roaming\\python\\python311\\site-packages (from tensorflow-datasets) (1.9.2)\n",
      "Requirement already satisfied: fsspec in c:\\programdata\\anaconda3\\lib\\site-packages (from etils[enp,epath,epy,etree]>=1.9.1->tensorflow-datasets) (2023.3.0)\n",
      "Requirement already satisfied: importlib_resources in c:\\users\\a s u s\\appdata\\roaming\\python\\python311\\site-packages (from etils[enp,epath,epy,etree]>=1.9.1->tensorflow-datasets) (6.4.0)\n",
      "Requirement already satisfied: zipp in c:\\programdata\\anaconda3\\lib\\site-packages (from etils[enp,epath,epy,etree]>=1.9.1->tensorflow-datasets) (3.11.0)\n",
      "Requirement already satisfied: charset-normalizer<4,>=2 in c:\\programdata\\anaconda3\\lib\\site-packages (from requests<3,>=2.21.0->tensorflow-intel==2.16.2->tensorflow) (2.0.4)\n",
      "Requirement already satisfied: idna<4,>=2.5 in c:\\programdata\\anaconda3\\lib\\site-packages (from requests<3,>=2.21.0->tensorflow-intel==2.16.2->tensorflow) (3.4)\n",
      "Requirement already satisfied: urllib3<3,>=1.21.1 in c:\\programdata\\anaconda3\\lib\\site-packages (from requests<3,>=2.21.0->tensorflow-intel==2.16.2->tensorflow) (1.26.16)\n",
      "Requirement already satisfied: certifi>=2017.4.17 in c:\\programdata\\anaconda3\\lib\\site-packages (from requests<3,>=2.21.0->tensorflow-intel==2.16.2->tensorflow) (2023.11.17)\n",
      "Requirement already satisfied: colorama in c:\\users\\a s u s\\appdata\\roaming\\python\\python311\\site-packages (from click->tensorflow-datasets) (0.4.6)\n",
      "Requirement already satisfied: docstring-parser~=0.15 in c:\\users\\a s u s\\appdata\\roaming\\python\\python311\\site-packages (from simple-parsing->tensorflow-datasets) (0.16)\n",
      "Requirement already satisfied: googleapis-common-protos<2,>=1.56.4 in c:\\users\\a s u s\\appdata\\roaming\\python\\python311\\site-packages (from tensorflow-metadata->tensorflow-datasets) (1.63.2)\n",
      "Requirement already satisfied: wheel<1.0,>=0.23.0 in c:\\programdata\\anaconda3\\lib\\site-packages (from astunparse>=1.6.0->tensorflow-intel==2.16.2->tensorflow) (0.38.4)\n",
      "Requirement already satisfied: rich in c:\\users\\a s u s\\appdata\\roaming\\python\\python311\\site-packages (from keras>=3.0.0->tensorflow-intel==2.16.2->tensorflow) (13.7.0)\n",
      "Requirement already satisfied: namex in c:\\users\\a s u s\\appdata\\roaming\\python\\python311\\site-packages (from keras>=3.0.0->tensorflow-intel==2.16.2->tensorflow) (0.0.8)\n",
      "Requirement already satisfied: optree in c:\\users\\a s u s\\appdata\\roaming\\python\\python311\\site-packages (from keras>=3.0.0->tensorflow-intel==2.16.2->tensorflow) (0.11.0)\n",
      "Requirement already satisfied: markdown>=2.6.8 in c:\\programdata\\anaconda3\\lib\\site-packages (from tensorboard<2.17,>=2.16->tensorflow-intel==2.16.2->tensorflow) (3.4.1)\n",
      "Requirement already satisfied: tensorboard-data-server<0.8.0,>=0.7.0 in c:\\users\\a s u s\\appdata\\roaming\\python\\python311\\site-packages (from tensorboard<2.17,>=2.16->tensorflow-intel==2.16.2->tensorflow) (0.7.2)\n",
      "Requirement already satisfied: werkzeug>=1.0.1 in c:\\programdata\\anaconda3\\lib\\site-packages (from tensorboard<2.17,>=2.16->tensorflow-intel==2.16.2->tensorflow) (2.2.3)\n",
      "Requirement already satisfied: MarkupSafe>=2.1.1 in c:\\programdata\\anaconda3\\lib\\site-packages (from werkzeug>=1.0.1->tensorboard<2.17,>=2.16->tensorflow-intel==2.16.2->tensorflow) (2.1.1)\n",
      "Requirement already satisfied: markdown-it-py>=2.2.0 in c:\\programdata\\anaconda3\\lib\\site-packages (from rich->keras>=3.0.0->tensorflow-intel==2.16.2->tensorflow) (2.2.0)\n",
      "Requirement already satisfied: pygments<3.0.0,>=2.13.0 in c:\\users\\a s u s\\appdata\\roaming\\python\\python311\\site-packages (from rich->keras>=3.0.0->tensorflow-intel==2.16.2->tensorflow) (2.17.2)\n",
      "Requirement already satisfied: mdurl~=0.1 in c:\\programdata\\anaconda3\\lib\\site-packages (from markdown-it-py>=2.2.0->rich->keras>=3.0.0->tensorflow-intel==2.16.2->tensorflow) (0.1.0)\n"
     ]
    }
   ],
   "source": [
    "!pip install --upgrade tensorflow tensorflow-datasets"
   ]
  },
  {
   "cell_type": "code",
   "execution_count": 36,
   "id": "e4d13f30",
   "metadata": {},
   "outputs": [
    {
     "name": "stdout",
     "output_type": "stream",
     "text": [
      "Name: tensorflow\n",
      "Version: 2.16.2\n",
      "Summary: TensorFlow is an open source machine learning framework for everyone.\n",
      "Home-page: https://www.tensorflow.org/\n",
      "Author: Google Inc.\n",
      "Author-email: packages@tensorflow.org\n",
      "License: Apache 2.0\n",
      "Location: C:\\Users\\A S U S\\AppData\\Roaming\\Python\\Python311\\site-packages\n",
      "Requires: tensorflow-intel\n",
      "Required-by: \n"
     ]
    }
   ],
   "source": [
    "!pip show tensorflow"
   ]
  },
  {
   "cell_type": "code",
   "execution_count": 9,
   "id": "98eb146f",
   "metadata": {},
   "outputs": [
    {
     "name": "stdout",
     "output_type": "stream",
     "text": [
      "Defaulting to user installation because normal site-packages is not writeable\n",
      "Requirement already satisfied: keras in c:\\users\\a s u s\\appdata\\roaming\\python\\python311\\site-packages (3.3.3)\n",
      "Requirement already satisfied: absl-py in c:\\users\\a s u s\\appdata\\roaming\\python\\python311\\site-packages (from keras) (2.1.0)\n",
      "Requirement already satisfied: numpy in c:\\users\\a s u s\\appdata\\roaming\\python\\python311\\site-packages (from keras) (1.24.4)\n",
      "Requirement already satisfied: rich in c:\\users\\a s u s\\appdata\\roaming\\python\\python311\\site-packages (from keras) (13.7.0)\n",
      "Requirement already satisfied: namex in c:\\users\\a s u s\\appdata\\roaming\\python\\python311\\site-packages (from keras) (0.0.8)\n",
      "Requirement already satisfied: h5py in c:\\users\\a s u s\\appdata\\roaming\\python\\python311\\site-packages (from keras) (3.11.0)\n",
      "Requirement already satisfied: optree in c:\\users\\a s u s\\appdata\\roaming\\python\\python311\\site-packages (from keras) (0.11.0)\n",
      "Requirement already satisfied: ml-dtypes in c:\\users\\a s u s\\appdata\\roaming\\python\\python311\\site-packages (from keras) (0.3.2)\n",
      "Requirement already satisfied: typing-extensions>=4.0.0 in c:\\users\\a s u s\\appdata\\roaming\\python\\python311\\site-packages (from optree->keras) (4.11.0)\n",
      "Requirement already satisfied: markdown-it-py>=2.2.0 in c:\\programdata\\anaconda3\\lib\\site-packages (from rich->keras) (2.2.0)\n",
      "Requirement already satisfied: pygments<3.0.0,>=2.13.0 in c:\\users\\a s u s\\appdata\\roaming\\python\\python311\\site-packages (from rich->keras) (2.17.2)\n",
      "Requirement already satisfied: mdurl~=0.1 in c:\\programdata\\anaconda3\\lib\\site-packages (from markdown-it-py>=2.2.0->rich->keras) (0.1.0)\n",
      "Note: you may need to restart the kernel to use updated packages.\n"
     ]
    }
   ],
   "source": [
    "pip install keras"
   ]
  },
  {
   "cell_type": "code",
   "execution_count": 43,
   "id": "c4606429",
   "metadata": {},
   "outputs": [
    {
     "name": "stdout",
     "output_type": "stream",
     "text": [
      "Name: tensorflow\n",
      "Version: 2.16.2\n",
      "Summary: TensorFlow is an open source machine learning framework for everyone.\n",
      "Home-page: https://www.tensorflow.org/\n",
      "Author: Google Inc.\n",
      "Author-email: packages@tensorflow.org\n",
      "License: Apache 2.0\n",
      "Location: C:\\Users\\A S U S\\AppData\\Roaming\\Python\\Python311\\site-packages\n",
      "Requires: tensorflow-intel\n",
      "Required-by: \n",
      "---\n",
      "Name: tensorflow-datasets\n",
      "Version: 4.9.6\n",
      "Summary: tensorflow/datasets is a library of datasets ready to use with TensorFlow.\n",
      "Home-page: https://github.com/tensorflow/datasets\n",
      "Author: Google Inc.\n",
      "Author-email: packages@tensorflow.org\n",
      "License: Apache 2.0\n",
      "Location: C:\\Users\\A S U S\\AppData\\Roaming\\Python\\Python311\\site-packages\n",
      "Requires: absl-py, click, dm-tree, etils, immutabledict, numpy, promise, protobuf, psutil, pyarrow, requests, simple-parsing, tensorflow-metadata, termcolor, toml, tqdm, wrapt\n",
      "Required-by: \n"
     ]
    }
   ],
   "source": [
    "!pip show tensorflow tensorflow-datasets"
   ]
  },
  {
   "cell_type": "code",
   "execution_count": 18,
   "id": "1c25a13a",
   "metadata": {},
   "outputs": [
    {
     "name": "stdout",
     "output_type": "stream",
     "text": [
      "Defaulting to user installation because normal site-packages is not writeable\n",
      "Requirement already satisfied: tensorflow-addons in c:\\users\\a s u s\\appdata\\roaming\\python\\python311\\site-packages (0.22.0)\n",
      "Requirement already satisfied: optuna in c:\\users\\a s u s\\appdata\\roaming\\python\\python311\\site-packages (3.6.1)\n",
      "Requirement already satisfied: optuna-integration in c:\\users\\a s u s\\appdata\\roaming\\python\\python311\\site-packages (3.6.0)\n",
      "Requirement already satisfied: typeguard<3.0.0,>=2.7 in c:\\users\\a s u s\\appdata\\roaming\\python\\python311\\site-packages (from tensorflow-addons) (2.13.3)\n",
      "Requirement already satisfied: packaging in c:\\users\\a s u s\\appdata\\roaming\\python\\python311\\site-packages (from tensorflow-addons) (23.2)\n",
      "Requirement already satisfied: alembic>=1.5.0 in c:\\users\\a s u s\\appdata\\roaming\\python\\python311\\site-packages (from optuna) (1.13.2)\n",
      "Requirement already satisfied: colorlog in c:\\users\\a s u s\\appdata\\roaming\\python\\python311\\site-packages (from optuna) (6.8.2)\n",
      "Requirement already satisfied: numpy in c:\\users\\a s u s\\appdata\\roaming\\python\\python311\\site-packages (from optuna) (1.24.4)\n",
      "Requirement already satisfied: sqlalchemy>=1.3.0 in c:\\programdata\\anaconda3\\lib\\site-packages (from optuna) (1.4.39)\n",
      "Requirement already satisfied: tqdm in c:\\programdata\\anaconda3\\lib\\site-packages (from optuna) (4.65.0)\n",
      "Requirement already satisfied: PyYAML in c:\\programdata\\anaconda3\\lib\\site-packages (from optuna) (6.0)\n",
      "Requirement already satisfied: Mako in c:\\users\\a s u s\\appdata\\roaming\\python\\python311\\site-packages (from alembic>=1.5.0->optuna) (1.3.5)\n",
      "Requirement already satisfied: typing-extensions>=4 in c:\\users\\a s u s\\appdata\\roaming\\python\\python311\\site-packages (from alembic>=1.5.0->optuna) (4.11.0)\n",
      "Requirement already satisfied: greenlet!=0.4.17 in c:\\programdata\\anaconda3\\lib\\site-packages (from sqlalchemy>=1.3.0->optuna) (2.0.1)\n",
      "Requirement already satisfied: colorama in c:\\users\\a s u s\\appdata\\roaming\\python\\python311\\site-packages (from colorlog->optuna) (0.4.6)\n",
      "Requirement already satisfied: MarkupSafe>=0.9.2 in c:\\programdata\\anaconda3\\lib\\site-packages (from Mako->alembic>=1.5.0->optuna) (2.1.1)\n"
     ]
    }
   ],
   "source": [
    "!pip install tensorflow-addons optuna optuna-integration"
   ]
  },
  {
   "cell_type": "code",
   "execution_count": 32,
   "id": "889f89c5",
   "metadata": {},
   "outputs": [
    {
     "name": "stdout",
     "output_type": "stream",
     "text": [
      "Defaulting to user installation because normal site-packages is not writeable\n",
      "Requirement already satisfied: tensorflow in c:\\users\\a s u s\\appdata\\roaming\\python\\python311\\site-packages (2.16.2)\n",
      "Requirement already satisfied: scikit-learn in c:\\programdata\\anaconda3\\lib\\site-packages (1.3.0)\n",
      "Collecting scikit-learn\n",
      "  Obtaining dependency information for scikit-learn from https://files.pythonhosted.org/packages/5d/55/0403bf2031250ac982c8053397889fbc5a3a2b3798b913dae4f51c3af6a4/scikit_learn-1.5.1-cp311-cp311-win_amd64.whl.metadata\n",
      "  Downloading scikit_learn-1.5.1-cp311-cp311-win_amd64.whl.metadata (12 kB)\n",
      "Requirement already satisfied: tensorflow-intel==2.16.2 in c:\\users\\a s u s\\appdata\\roaming\\python\\python311\\site-packages (from tensorflow) (2.16.2)\n",
      "Requirement already satisfied: absl-py>=1.0.0 in c:\\users\\a s u s\\appdata\\roaming\\python\\python311\\site-packages (from tensorflow-intel==2.16.2->tensorflow) (2.1.0)\n",
      "Requirement already satisfied: astunparse>=1.6.0 in c:\\users\\a s u s\\appdata\\roaming\\python\\python311\\site-packages (from tensorflow-intel==2.16.2->tensorflow) (1.6.3)\n",
      "Requirement already satisfied: flatbuffers>=23.5.26 in c:\\users\\a s u s\\appdata\\roaming\\python\\python311\\site-packages (from tensorflow-intel==2.16.2->tensorflow) (24.3.25)\n",
      "Requirement already satisfied: gast!=0.5.0,!=0.5.1,!=0.5.2,>=0.2.1 in c:\\users\\a s u s\\appdata\\roaming\\python\\python311\\site-packages (from tensorflow-intel==2.16.2->tensorflow) (0.5.4)\n",
      "Requirement already satisfied: google-pasta>=0.1.1 in c:\\users\\a s u s\\appdata\\roaming\\python\\python311\\site-packages (from tensorflow-intel==2.16.2->tensorflow) (0.2.0)\n",
      "Requirement already satisfied: h5py>=3.10.0 in c:\\users\\a s u s\\appdata\\roaming\\python\\python311\\site-packages (from tensorflow-intel==2.16.2->tensorflow) (3.11.0)\n",
      "Requirement already satisfied: libclang>=13.0.0 in c:\\users\\a s u s\\appdata\\roaming\\python\\python311\\site-packages (from tensorflow-intel==2.16.2->tensorflow) (18.1.1)\n",
      "Requirement already satisfied: ml-dtypes~=0.3.1 in c:\\users\\a s u s\\appdata\\roaming\\python\\python311\\site-packages (from tensorflow-intel==2.16.2->tensorflow) (0.3.2)\n",
      "Requirement already satisfied: opt-einsum>=2.3.2 in c:\\users\\a s u s\\appdata\\roaming\\python\\python311\\site-packages (from tensorflow-intel==2.16.2->tensorflow) (3.3.0)\n",
      "Requirement already satisfied: packaging in c:\\users\\a s u s\\appdata\\roaming\\python\\python311\\site-packages (from tensorflow-intel==2.16.2->tensorflow) (23.2)\n",
      "Requirement already satisfied: protobuf!=4.21.0,!=4.21.1,!=4.21.2,!=4.21.3,!=4.21.4,!=4.21.5,<5.0.0dev,>=3.20.3 in c:\\users\\a s u s\\appdata\\roaming\\python\\python311\\site-packages (from tensorflow-intel==2.16.2->tensorflow) (4.25.3)\n",
      "Requirement already satisfied: requests<3,>=2.21.0 in c:\\programdata\\anaconda3\\lib\\site-packages (from tensorflow-intel==2.16.2->tensorflow) (2.31.0)\n",
      "Requirement already satisfied: setuptools in c:\\programdata\\anaconda3\\lib\\site-packages (from tensorflow-intel==2.16.2->tensorflow) (68.0.0)\n",
      "Requirement already satisfied: six>=1.12.0 in c:\\users\\a s u s\\appdata\\roaming\\python\\python311\\site-packages (from tensorflow-intel==2.16.2->tensorflow) (1.16.0)\n",
      "Requirement already satisfied: termcolor>=1.1.0 in c:\\users\\a s u s\\appdata\\roaming\\python\\python311\\site-packages (from tensorflow-intel==2.16.2->tensorflow) (2.4.0)\n",
      "Requirement already satisfied: typing-extensions>=3.6.6 in c:\\users\\a s u s\\appdata\\roaming\\python\\python311\\site-packages (from tensorflow-intel==2.16.2->tensorflow) (4.11.0)\n",
      "Requirement already satisfied: wrapt>=1.11.0 in c:\\programdata\\anaconda3\\lib\\site-packages (from tensorflow-intel==2.16.2->tensorflow) (1.14.1)\n",
      "Requirement already satisfied: grpcio<2.0,>=1.24.3 in c:\\users\\a s u s\\appdata\\roaming\\python\\python311\\site-packages (from tensorflow-intel==2.16.2->tensorflow) (1.64.0)\n",
      "Requirement already satisfied: tensorboard<2.17,>=2.16 in c:\\users\\a s u s\\appdata\\roaming\\python\\python311\\site-packages (from tensorflow-intel==2.16.2->tensorflow) (2.16.2)\n",
      "Requirement already satisfied: keras>=3.0.0 in c:\\users\\a s u s\\appdata\\roaming\\python\\python311\\site-packages (from tensorflow-intel==2.16.2->tensorflow) (3.3.3)\n",
      "Requirement already satisfied: tensorflow-io-gcs-filesystem>=0.23.1 in c:\\users\\a s u s\\appdata\\roaming\\python\\python311\\site-packages (from tensorflow-intel==2.16.2->tensorflow) (0.31.0)\n",
      "Requirement already satisfied: numpy<2.0.0,>=1.23.5 in c:\\users\\a s u s\\appdata\\roaming\\python\\python311\\site-packages (from tensorflow-intel==2.16.2->tensorflow) (1.24.4)\n",
      "Requirement already satisfied: scipy>=1.6.0 in c:\\programdata\\anaconda3\\lib\\site-packages (from scikit-learn) (1.10.1)\n",
      "Requirement already satisfied: joblib>=1.2.0 in c:\\programdata\\anaconda3\\lib\\site-packages (from scikit-learn) (1.2.0)\n",
      "Collecting threadpoolctl>=3.1.0 (from scikit-learn)\n",
      "  Obtaining dependency information for threadpoolctl>=3.1.0 from https://files.pythonhosted.org/packages/4b/2c/ffbf7a134b9ab11a67b0cf0726453cedd9c5043a4fe7a35d1cefa9a1bcfb/threadpoolctl-3.5.0-py3-none-any.whl.metadata\n",
      "  Downloading threadpoolctl-3.5.0-py3-none-any.whl.metadata (13 kB)\n",
      "Requirement already satisfied: wheel<1.0,>=0.23.0 in c:\\programdata\\anaconda3\\lib\\site-packages (from astunparse>=1.6.0->tensorflow-intel==2.16.2->tensorflow) (0.38.4)\n",
      "Requirement already satisfied: rich in c:\\users\\a s u s\\appdata\\roaming\\python\\python311\\site-packages (from keras>=3.0.0->tensorflow-intel==2.16.2->tensorflow) (13.7.0)\n",
      "Requirement already satisfied: namex in c:\\users\\a s u s\\appdata\\roaming\\python\\python311\\site-packages (from keras>=3.0.0->tensorflow-intel==2.16.2->tensorflow) (0.0.8)\n",
      "Requirement already satisfied: optree in c:\\users\\a s u s\\appdata\\roaming\\python\\python311\\site-packages (from keras>=3.0.0->tensorflow-intel==2.16.2->tensorflow) (0.11.0)\n",
      "Requirement already satisfied: charset-normalizer<4,>=2 in c:\\programdata\\anaconda3\\lib\\site-packages (from requests<3,>=2.21.0->tensorflow-intel==2.16.2->tensorflow) (2.0.4)\n",
      "Requirement already satisfied: idna<4,>=2.5 in c:\\programdata\\anaconda3\\lib\\site-packages (from requests<3,>=2.21.0->tensorflow-intel==2.16.2->tensorflow) (3.4)\n",
      "Requirement already satisfied: urllib3<3,>=1.21.1 in c:\\programdata\\anaconda3\\lib\\site-packages (from requests<3,>=2.21.0->tensorflow-intel==2.16.2->tensorflow) (1.26.16)\n",
      "Requirement already satisfied: certifi>=2017.4.17 in c:\\programdata\\anaconda3\\lib\\site-packages (from requests<3,>=2.21.0->tensorflow-intel==2.16.2->tensorflow) (2023.11.17)\n",
      "Requirement already satisfied: markdown>=2.6.8 in c:\\programdata\\anaconda3\\lib\\site-packages (from tensorboard<2.17,>=2.16->tensorflow-intel==2.16.2->tensorflow) (3.4.1)\n",
      "Requirement already satisfied: tensorboard-data-server<0.8.0,>=0.7.0 in c:\\users\\a s u s\\appdata\\roaming\\python\\python311\\site-packages (from tensorboard<2.17,>=2.16->tensorflow-intel==2.16.2->tensorflow) (0.7.2)\n",
      "Requirement already satisfied: werkzeug>=1.0.1 in c:\\programdata\\anaconda3\\lib\\site-packages (from tensorboard<2.17,>=2.16->tensorflow-intel==2.16.2->tensorflow) (2.2.3)\n",
      "Requirement already satisfied: MarkupSafe>=2.1.1 in c:\\programdata\\anaconda3\\lib\\site-packages (from werkzeug>=1.0.1->tensorboard<2.17,>=2.16->tensorflow-intel==2.16.2->tensorflow) (2.1.1)\n",
      "Requirement already satisfied: markdown-it-py>=2.2.0 in c:\\programdata\\anaconda3\\lib\\site-packages (from rich->keras>=3.0.0->tensorflow-intel==2.16.2->tensorflow) (2.2.0)\n",
      "Requirement already satisfied: pygments<3.0.0,>=2.13.0 in c:\\users\\a s u s\\appdata\\roaming\\python\\python311\\site-packages (from rich->keras>=3.0.0->tensorflow-intel==2.16.2->tensorflow) (2.17.2)\n",
      "Requirement already satisfied: mdurl~=0.1 in c:\\programdata\\anaconda3\\lib\\site-packages (from markdown-it-py>=2.2.0->rich->keras>=3.0.0->tensorflow-intel==2.16.2->tensorflow) (0.1.0)\n",
      "Downloading scikit_learn-1.5.1-cp311-cp311-win_amd64.whl (11.0 MB)\n",
      "   ---------------------------------------- 0.0/11.0 MB ? eta -:--:--\n",
      "   ---------------------------------------- 0.1/11.0 MB 2.2 MB/s eta 0:00:05\n",
      "   - -------------------------------------- 0.3/11.0 MB 2.8 MB/s eta 0:00:04\n",
      "   - -------------------------------------- 0.4/11.0 MB 3.0 MB/s eta 0:00:04\n",
      "   - -------------------------------------- 0.5/11.0 MB 3.5 MB/s eta 0:00:04\n",
      "   -- ------------------------------------- 0.7/11.0 MB 3.4 MB/s eta 0:00:04\n",
      "   --- ------------------------------------ 0.9/11.0 MB 3.6 MB/s eta 0:00:03\n",
      "   ---- ----------------------------------- 1.1/11.0 MB 3.5 MB/s eta 0:00:03\n",
      "   ---- ----------------------------------- 1.3/11.0 MB 3.6 MB/s eta 0:00:03\n",
      "   ----- ---------------------------------- 1.4/11.0 MB 3.5 MB/s eta 0:00:03\n",
      "   ----- ---------------------------------- 1.6/11.0 MB 3.5 MB/s eta 0:00:03\n",
      "   ----- ---------------------------------- 1.6/11.0 MB 3.5 MB/s eta 0:00:03\n",
      "   ----- ---------------------------------- 1.6/11.0 MB 3.5 MB/s eta 0:00:03\n",
      "   ----- ---------------------------------- 1.6/11.0 MB 3.5 MB/s eta 0:00:03\n",
      "   ----- ---------------------------------- 1.6/11.0 MB 3.5 MB/s eta 0:00:03\n",
      "   ----- ---------------------------------- 1.6/11.0 MB 3.5 MB/s eta 0:00:03\n",
      "   ------ --------------------------------- 1.9/11.0 MB 2.8 MB/s eta 0:00:04\n",
      "   ------ --------------------------------- 1.9/11.0 MB 2.8 MB/s eta 0:00:04\n",
      "   --------- ------------------------------ 2.6/11.0 MB 3.4 MB/s eta 0:00:03\n",
      "   --------- ------------------------------ 2.6/11.0 MB 3.4 MB/s eta 0:00:03\n",
      "   ---------- ----------------------------- 2.8/11.0 MB 3.3 MB/s eta 0:00:03\n",
      "   ---------- ----------------------------- 2.9/11.0 MB 3.2 MB/s eta 0:00:03\n",
      "   ---------- ----------------------------- 3.0/11.0 MB 3.2 MB/s eta 0:00:03\n",
      "   ----------- ---------------------------- 3.1/11.0 MB 3.2 MB/s eta 0:00:03\n",
      "   ----------- ---------------------------- 3.1/11.0 MB 3.2 MB/s eta 0:00:03\n",
      "   ----------- ---------------------------- 3.1/11.0 MB 3.2 MB/s eta 0:00:03\n",
      "   ------------ --------------------------- 3.4/11.0 MB 3.1 MB/s eta 0:00:03\n",
      "   ------------ --------------------------- 3.4/11.0 MB 3.1 MB/s eta 0:00:03\n",
      "   ------------ --------------------------- 3.4/11.0 MB 2.9 MB/s eta 0:00:03\n",
      "   ------------ --------------------------- 3.4/11.0 MB 2.9 MB/s eta 0:00:03\n",
      "   ------------ --------------------------- 3.4/11.0 MB 2.9 MB/s eta 0:00:03\n",
      "   ------------- -------------------------- 3.8/11.0 MB 2.9 MB/s eta 0:00:03\n",
      "   -------------- ------------------------- 3.9/11.0 MB 2.9 MB/s eta 0:00:03\n",
      "   -------------- ------------------------- 4.0/11.0 MB 2.9 MB/s eta 0:00:03\n",
      "   -------------- ------------------------- 4.1/11.0 MB 2.9 MB/s eta 0:00:03\n",
      "   --------------- ------------------------ 4.2/11.0 MB 2.9 MB/s eta 0:00:03\n",
      "   --------------- ------------------------ 4.3/11.0 MB 2.9 MB/s eta 0:00:03\n",
      "   ---------------- ----------------------- 4.5/11.0 MB 2.9 MB/s eta 0:00:03\n",
      "   ---------------- ----------------------- 4.6/11.0 MB 2.9 MB/s eta 0:00:03\n",
      "   ---------------- ----------------------- 4.6/11.0 MB 2.9 MB/s eta 0:00:03\n",
      "   ----------------- ---------------------- 4.8/11.0 MB 2.8 MB/s eta 0:00:03\n",
      "   ----------------- ---------------------- 4.9/11.0 MB 2.9 MB/s eta 0:00:03\n",
      "   ------------------ --------------------- 5.0/11.0 MB 2.8 MB/s eta 0:00:03\n",
      "   ------------------ --------------------- 5.1/11.0 MB 2.8 MB/s eta 0:00:03\n",
      "   ------------------- -------------------- 5.3/11.0 MB 2.8 MB/s eta 0:00:03\n",
      "   ------------------- -------------------- 5.4/11.0 MB 2.8 MB/s eta 0:00:02\n",
      "   ------------------- -------------------- 5.5/11.0 MB 2.8 MB/s eta 0:00:02\n",
      "   -------------------- ------------------- 5.6/11.0 MB 2.8 MB/s eta 0:00:02\n",
      "   -------------------- ------------------- 5.7/11.0 MB 2.8 MB/s eta 0:00:02\n",
      "   --------------------- ------------------ 5.8/11.0 MB 2.8 MB/s eta 0:00:02\n",
      "   --------------------- ------------------ 5.9/11.0 MB 2.8 MB/s eta 0:00:02\n",
      "   --------------------- ------------------ 6.0/11.0 MB 2.8 MB/s eta 0:00:02\n",
      "   ---------------------- ----------------- 6.2/11.0 MB 2.8 MB/s eta 0:00:02\n",
      "   ---------------------- ----------------- 6.3/11.0 MB 2.8 MB/s eta 0:00:02\n",
      "   ----------------------- ---------------- 6.4/11.0 MB 2.8 MB/s eta 0:00:02\n",
      "   ----------------------- ---------------- 6.5/11.0 MB 2.8 MB/s eta 0:00:02\n",
      "   ----------------------- ---------------- 6.6/11.0 MB 2.7 MB/s eta 0:00:02\n",
      "   ------------------------ --------------- 6.7/11.0 MB 2.8 MB/s eta 0:00:02\n",
      "   ------------------------ --------------- 6.8/11.0 MB 2.7 MB/s eta 0:00:02\n",
      "   ------------------------- -------------- 6.9/11.0 MB 2.7 MB/s eta 0:00:02\n",
      "   ------------------------- -------------- 7.0/11.0 MB 2.7 MB/s eta 0:00:02\n",
      "   -------------------------- ------------- 7.2/11.0 MB 2.7 MB/s eta 0:00:02\n",
      "   -------------------------- ------------- 7.3/11.0 MB 2.7 MB/s eta 0:00:02\n",
      "   -------------------------- ------------- 7.4/11.0 MB 2.7 MB/s eta 0:00:02\n",
      "   --------------------------- ------------ 7.5/11.0 MB 2.7 MB/s eta 0:00:02\n",
      "   --------------------------- ------------ 7.6/11.0 MB 2.7 MB/s eta 0:00:02\n",
      "   ---------------------------- ----------- 7.7/11.0 MB 2.7 MB/s eta 0:00:02\n",
      "   ---------------------------- ----------- 7.8/11.0 MB 2.7 MB/s eta 0:00:02\n",
      "   ---------------------------- ----------- 7.9/11.0 MB 2.7 MB/s eta 0:00:02\n",
      "   ----------------------------- ---------- 8.1/11.0 MB 2.7 MB/s eta 0:00:02\n",
      "   ----------------------------- ---------- 8.2/11.0 MB 2.7 MB/s eta 0:00:02\n",
      "   ------------------------------ --------- 8.3/11.0 MB 2.7 MB/s eta 0:00:02\n",
      "   ------------------------------ --------- 8.4/11.0 MB 2.7 MB/s eta 0:00:01\n",
      "   ------------------------------ --------- 8.5/11.0 MB 2.7 MB/s eta 0:00:01\n",
      "   ------------------------------- -------- 8.6/11.0 MB 2.7 MB/s eta 0:00:01\n",
      "   ------------------------------- -------- 8.7/11.0 MB 2.7 MB/s eta 0:00:01\n",
      "   ------------------------------- -------- 8.8/11.0 MB 2.7 MB/s eta 0:00:01\n",
      "   -------------------------------- ------- 8.9/11.0 MB 2.7 MB/s eta 0:00:01\n",
      "   -------------------------------- ------- 9.0/11.0 MB 2.7 MB/s eta 0:00:01\n",
      "   -------------------------------- ------- 9.0/11.0 MB 2.7 MB/s eta 0:00:01\n",
      "   --------------------------------- ------ 9.2/11.0 MB 2.7 MB/s eta 0:00:01\n",
      "   --------------------------------- ------ 9.3/11.0 MB 2.7 MB/s eta 0:00:01\n",
      "   ---------------------------------- ----- 9.4/11.0 MB 2.7 MB/s eta 0:00:01\n",
      "   ---------------------------------- ----- 9.5/11.0 MB 2.7 MB/s eta 0:00:01\n",
      "   ----------------------------------- ---- 9.6/11.0 MB 2.7 MB/s eta 0:00:01\n",
      "   ----------------------------------- ---- 9.8/11.0 MB 2.7 MB/s eta 0:00:01\n",
      "   ----------------------------------- ---- 9.9/11.0 MB 2.7 MB/s eta 0:00:01\n",
      "   ------------------------------------ --- 10.0/11.0 MB 2.7 MB/s eta 0:00:01\n",
      "   ------------------------------------ --- 10.1/11.0 MB 2.7 MB/s eta 0:00:01\n",
      "   ------------------------------------- -- 10.2/11.0 MB 2.7 MB/s eta 0:00:01\n",
      "   ------------------------------------- -- 10.3/11.0 MB 2.7 MB/s eta 0:00:01\n",
      "   ------------------------------------- -- 10.4/11.0 MB 2.7 MB/s eta 0:00:01\n",
      "   -------------------------------------- - 10.5/11.0 MB 2.7 MB/s eta 0:00:01\n",
      "   -------------------------------------- - 10.6/11.0 MB 2.7 MB/s eta 0:00:01\n",
      "   ---------------------------------------  10.7/11.0 MB 2.6 MB/s eta 0:00:01\n",
      "   ---------------------------------------  10.9/11.0 MB 2.6 MB/s eta 0:00:01\n",
      "   ---------------------------------------  10.9/11.0 MB 2.6 MB/s eta 0:00:01\n",
      "   ---------------------------------------  11.0/11.0 MB 2.6 MB/s eta 0:00:01\n",
      "   ---------------------------------------- 11.0/11.0 MB 2.6 MB/s eta 0:00:00\n",
      "Downloading threadpoolctl-3.5.0-py3-none-any.whl (18 kB)\n",
      "Installing collected packages: threadpoolctl, scikit-learn\n",
      "Successfully installed scikit-learn-1.5.1 threadpoolctl-3.5.0\n"
     ]
    }
   ],
   "source": [
    "!pip install --upgrade tensorflow scikit-learn"
   ]
  },
  {
   "cell_type": "code",
   "execution_count": 11,
   "id": "d0e35ece",
   "metadata": {},
   "outputs": [
    {
     "name": "stdout",
     "output_type": "stream",
     "text": [
      "Defaulting to user installation because normal site-packages is not writeableNote: you may need to restart the kernel to use updated packages.\n"
     ]
    },
    {
     "name": "stderr",
     "output_type": "stream",
     "text": [
      "  WARNING: The script mako-render.exe is installed in 'C:\\Users\\A S U S\\AppData\\Roaming\\Python\\Python311\\Scripts' which is not on PATH.\n",
      "  Consider adding this directory to PATH or, if you prefer to suppress this warning, use --no-warn-script-location.\n",
      "  WARNING: The script alembic.exe is installed in 'C:\\Users\\A S U S\\AppData\\Roaming\\Python\\Python311\\Scripts' which is not on PATH.\n",
      "  Consider adding this directory to PATH or, if you prefer to suppress this warning, use --no-warn-script-location.\n",
      "  WARNING: The script optuna.exe is installed in 'C:\\Users\\A S U S\\AppData\\Roaming\\Python\\Python311\\Scripts' which is not on PATH.\n",
      "  Consider adding this directory to PATH or, if you prefer to suppress this warning, use --no-warn-script-location.\n"
     ]
    },
    {
     "name": "stdout",
     "output_type": "stream",
     "text": [
      "\n",
      "Collecting optuna\n",
      "  Obtaining dependency information for optuna from https://files.pythonhosted.org/packages/15/da/68883911855d8b4d521f9a370e4e6aab8232b91c1d8d5a8348c4680c6642/optuna-3.6.1-py3-none-any.whl.metadata\n",
      "  Downloading optuna-3.6.1-py3-none-any.whl.metadata (17 kB)\n",
      "Collecting alembic>=1.5.0 (from optuna)\n",
      "  Obtaining dependency information for alembic>=1.5.0 from https://files.pythonhosted.org/packages/df/ed/c884465c33c25451e4a5cd4acad154c29e5341e3214e220e7f3478aa4b0d/alembic-1.13.2-py3-none-any.whl.metadata\n",
      "  Downloading alembic-1.13.2-py3-none-any.whl.metadata (7.4 kB)\n",
      "Collecting colorlog (from optuna)\n",
      "  Obtaining dependency information for colorlog from https://files.pythonhosted.org/packages/f3/18/3e867ab37a24fdf073c1617b9c7830e06ec270b1ea4694a624038fc40a03/colorlog-6.8.2-py3-none-any.whl.metadata\n",
      "  Downloading colorlog-6.8.2-py3-none-any.whl.metadata (10 kB)\n",
      "Requirement already satisfied: numpy in c:\\users\\a s u s\\appdata\\roaming\\python\\python311\\site-packages (from optuna) (1.24.4)\n",
      "Requirement already satisfied: packaging>=20.0 in c:\\users\\a s u s\\appdata\\roaming\\python\\python311\\site-packages (from optuna) (23.2)\n",
      "Requirement already satisfied: sqlalchemy>=1.3.0 in c:\\programdata\\anaconda3\\lib\\site-packages (from optuna) (1.4.39)\n",
      "Requirement already satisfied: tqdm in c:\\programdata\\anaconda3\\lib\\site-packages (from optuna) (4.65.0)\n",
      "Requirement already satisfied: PyYAML in c:\\programdata\\anaconda3\\lib\\site-packages (from optuna) (6.0)\n",
      "Collecting Mako (from alembic>=1.5.0->optuna)\n",
      "  Obtaining dependency information for Mako from https://files.pythonhosted.org/packages/03/62/70f5a0c2dd208f9f3f2f9afd103aec42ee4d9ad2401d78342f75e9b8da36/Mako-1.3.5-py3-none-any.whl.metadata\n",
      "  Downloading Mako-1.3.5-py3-none-any.whl.metadata (2.9 kB)\n",
      "Requirement already satisfied: typing-extensions>=4 in c:\\users\\a s u s\\appdata\\roaming\\python\\python311\\site-packages (from alembic>=1.5.0->optuna) (4.11.0)\n",
      "Requirement already satisfied: greenlet!=0.4.17 in c:\\programdata\\anaconda3\\lib\\site-packages (from sqlalchemy>=1.3.0->optuna) (2.0.1)\n",
      "Requirement already satisfied: colorama in c:\\users\\a s u s\\appdata\\roaming\\python\\python311\\site-packages (from colorlog->optuna) (0.4.6)\n",
      "Requirement already satisfied: MarkupSafe>=0.9.2 in c:\\programdata\\anaconda3\\lib\\site-packages (from Mako->alembic>=1.5.0->optuna) (2.1.1)\n",
      "Downloading optuna-3.6.1-py3-none-any.whl (380 kB)\n",
      "   ---------------------------------------- 0.0/380.1 kB ? eta -:--:--\n",
      "   --------- ------------------------------ 92.2/380.1 kB 1.7 MB/s eta 0:00:01\n",
      "   ---------------------- ----------------- 215.0/380.1 kB 2.6 MB/s eta 0:00:01\n",
      "   ---------------------------------------  378.9/380.1 kB 3.4 MB/s eta 0:00:01\n",
      "   ---------------------------------------- 380.1/380.1 kB 2.6 MB/s eta 0:00:00\n",
      "Downloading alembic-1.13.2-py3-none-any.whl (232 kB)\n",
      "   ---------------------------------------- 0.0/233.0 kB ? eta -:--:--\n",
      "   --------------------------------------- 233.0/233.0 kB 14.8 MB/s eta 0:00:00\n",
      "Downloading colorlog-6.8.2-py3-none-any.whl (11 kB)\n",
      "Downloading Mako-1.3.5-py3-none-any.whl (78 kB)\n",
      "   ---------------------------------------- 0.0/78.6 kB ? eta -:--:--\n",
      "   ---------------------------------------- 78.6/78.6 kB ? eta 0:00:00\n",
      "Installing collected packages: Mako, colorlog, alembic, optuna\n",
      "Successfully installed Mako-1.3.5 alembic-1.13.2 colorlog-6.8.2 optuna-3.6.1\n"
     ]
    }
   ],
   "source": [
    "pip install optuna"
   ]
  },
  {
   "cell_type": "markdown",
   "id": "b320a112",
   "metadata": {},
   "source": [
    "# Klasifikasi Gambar Menggunakan CNN dengan Dataset CIFAR-10\n",
    "\n",
    "Klasifikasi gambar menggunakan model CNN. Dataset yang digunakan adalah CIFAR-10.\n"
   ]
  },
  {
   "cell_type": "markdown",
   "id": "20dce8b2",
   "metadata": {},
   "source": [
    "Dataset CIFAR-10 diunduh menggunakan TensorFlow Keras datasets (cifar10.load_data)"
   ]
  },
  {
   "cell_type": "code",
   "execution_count": 37,
   "id": "09c8a171",
   "metadata": {},
   "outputs": [
    {
     "name": "stdout",
     "output_type": "stream",
     "text": [
      "Downloading data from https://www.cs.toronto.edu/~kriz/cifar-10-python.tar.gz\n",
      "\u001b[1m170498071/170498071\u001b[0m \u001b[32m━━━━━━━━━━━━━━━━━━━━\u001b[0m\u001b[37m\u001b[0m \u001b[1m59s\u001b[0m 0us/step\n",
      "x_train shape: (50000, 32, 32, 3)\n",
      "y_train shape: (50000, 1)\n",
      "x_test shape: (10000, 32, 32, 3)\n",
      "y_test shape: (10000, 1)\n"
     ]
    }
   ],
   "source": [
    "import tensorflow as tf\n",
    "from tensorflow.keras.datasets import cifar10\n",
    "\n",
    "# Unduh dataset CIFAR-10\n",
    "(x_train, y_train), (x_test, y_test) = cifar10.load_data()\n",
    "\n",
    "# Tampilkan informasi dataset\n",
    "print(f'x_train shape: {x_train.shape}')\n",
    "print(f'y_train shape: {y_train.shape}')\n",
    "print(f'x_test shape: {x_test.shape}')\n",
    "print(f'y_test shape: {y_test.shape}')\n"
   ]
  },
  {
   "cell_type": "markdown",
   "id": "f7a18edd",
   "metadata": {},
   "source": [
    "**Penjelasan Output:**\n",
    "Dataset CIFAR-10 berisi 60.000 gambar berwarna dengan resolusi 32x32 piksel dalam 10 kelas, dengan 50.000 gambar untuk pelatihan dan 10.000 gambar untuk pengujian."
   ]
  },
  {
   "cell_type": "markdown",
   "id": "1e18f7a3",
   "metadata": {},
   "source": [
    "## Preprocessing Data\n",
    "\n",
    "Langkah-langkah preprocessing meliputi normalisasi gambar dan one-hot encoding pada label.\n"
   ]
  },
  {
   "cell_type": "code",
   "execution_count": 38,
   "id": "4cddd139",
   "metadata": {},
   "outputs": [],
   "source": [
    "# Normalisasi gambar\n",
    "x_train = x_train.astype('float32') / 255.0\n",
    "x_test = x_test.astype('float32') / 255.0\n",
    "\n",
    "# One-hot encoding label\n",
    "y_train = tf.keras.utils.to_categorical(y_train, 10)\n",
    "y_test = tf.keras.utils.to_categorical(y_test, 10)\n"
   ]
  },
  {
   "cell_type": "markdown",
   "id": "a9cb492a",
   "metadata": {},
   "source": [
    "**Penjelasan:**\n",
    "Normalisasi dilakukan dengan membagi nilai piksel dengan 255 agar berada pada rentang [0, 1]. One-hot encoding mengubah label numerik menjadi format biner yang sesuai untuk klasifikasi multikelas."
   ]
  },
  {
   "cell_type": "markdown",
   "id": "67603348",
   "metadata": {},
   "source": [
    "## Buat Model Dasar Menggunakan CNN\n",
    "\n",
    "Model dasar menggunakan CNN dengan beberapa convolutional layer dan dense layer.\n"
   ]
  },
  {
   "cell_type": "code",
   "execution_count": 40,
   "id": "a6cc6239",
   "metadata": {},
   "outputs": [
    {
     "name": "stderr",
     "output_type": "stream",
     "text": [
      "C:\\Users\\A S U S\\AppData\\Roaming\\Python\\Python311\\site-packages\\keras\\src\\layers\\convolutional\\base_conv.py:107: UserWarning: Do not pass an `input_shape`/`input_dim` argument to a layer. When using Sequential models, prefer using an `Input(shape)` object as the first layer in the model instead.\n",
      "  super().__init__(activity_regularizer=activity_regularizer, **kwargs)\n"
     ]
    },
    {
     "data": {
      "text/html": [
       "<pre style=\"white-space:pre;overflow-x:auto;line-height:normal;font-family:Menlo,'DejaVu Sans Mono',consolas,'Courier New',monospace\"><span style=\"font-weight: bold\">Model: \"sequential_20\"</span>\n",
       "</pre>\n"
      ],
      "text/plain": [
       "\u001b[1mModel: \"sequential_20\"\u001b[0m\n"
      ]
     },
     "metadata": {},
     "output_type": "display_data"
    },
    {
     "data": {
      "text/html": [
       "<pre style=\"white-space:pre;overflow-x:auto;line-height:normal;font-family:Menlo,'DejaVu Sans Mono',consolas,'Courier New',monospace\">┏━━━━━━━━━━━━━━━━━━━━━━━━━━━━━━━━━━━━━━┳━━━━━━━━━━━━━━━━━━━━━━━━━━━━━┳━━━━━━━━━━━━━━━━━┓\n",
       "┃<span style=\"font-weight: bold\"> Layer (type)                         </span>┃<span style=\"font-weight: bold\"> Output Shape                </span>┃<span style=\"font-weight: bold\">         Param # </span>┃\n",
       "┡━━━━━━━━━━━━━━━━━━━━━━━━━━━━━━━━━━━━━━╇━━━━━━━━━━━━━━━━━━━━━━━━━━━━━╇━━━━━━━━━━━━━━━━━┩\n",
       "│ conv2d (<span style=\"color: #0087ff; text-decoration-color: #0087ff\">Conv2D</span>)                      │ (<span style=\"color: #00d7ff; text-decoration-color: #00d7ff\">None</span>, <span style=\"color: #00af00; text-decoration-color: #00af00\">30</span>, <span style=\"color: #00af00; text-decoration-color: #00af00\">30</span>, <span style=\"color: #00af00; text-decoration-color: #00af00\">32</span>)          │             <span style=\"color: #00af00; text-decoration-color: #00af00\">896</span> │\n",
       "├──────────────────────────────────────┼─────────────────────────────┼─────────────────┤\n",
       "│ max_pooling2d (<span style=\"color: #0087ff; text-decoration-color: #0087ff\">MaxPooling2D</span>)         │ (<span style=\"color: #00d7ff; text-decoration-color: #00d7ff\">None</span>, <span style=\"color: #00af00; text-decoration-color: #00af00\">15</span>, <span style=\"color: #00af00; text-decoration-color: #00af00\">15</span>, <span style=\"color: #00af00; text-decoration-color: #00af00\">32</span>)          │               <span style=\"color: #00af00; text-decoration-color: #00af00\">0</span> │\n",
       "├──────────────────────────────────────┼─────────────────────────────┼─────────────────┤\n",
       "│ conv2d_1 (<span style=\"color: #0087ff; text-decoration-color: #0087ff\">Conv2D</span>)                    │ (<span style=\"color: #00d7ff; text-decoration-color: #00d7ff\">None</span>, <span style=\"color: #00af00; text-decoration-color: #00af00\">13</span>, <span style=\"color: #00af00; text-decoration-color: #00af00\">13</span>, <span style=\"color: #00af00; text-decoration-color: #00af00\">32</span>)          │           <span style=\"color: #00af00; text-decoration-color: #00af00\">9,248</span> │\n",
       "├──────────────────────────────────────┼─────────────────────────────┼─────────────────┤\n",
       "│ max_pooling2d_1 (<span style=\"color: #0087ff; text-decoration-color: #0087ff\">MaxPooling2D</span>)       │ (<span style=\"color: #00d7ff; text-decoration-color: #00d7ff\">None</span>, <span style=\"color: #00af00; text-decoration-color: #00af00\">6</span>, <span style=\"color: #00af00; text-decoration-color: #00af00\">6</span>, <span style=\"color: #00af00; text-decoration-color: #00af00\">32</span>)            │               <span style=\"color: #00af00; text-decoration-color: #00af00\">0</span> │\n",
       "├──────────────────────────────────────┼─────────────────────────────┼─────────────────┤\n",
       "│ flatten (<span style=\"color: #0087ff; text-decoration-color: #0087ff\">Flatten</span>)                    │ (<span style=\"color: #00d7ff; text-decoration-color: #00d7ff\">None</span>, <span style=\"color: #00af00; text-decoration-color: #00af00\">1152</span>)                │               <span style=\"color: #00af00; text-decoration-color: #00af00\">0</span> │\n",
       "├──────────────────────────────────────┼─────────────────────────────┼─────────────────┤\n",
       "│ dense_20 (<span style=\"color: #0087ff; text-decoration-color: #0087ff\">Dense</span>)                     │ (<span style=\"color: #00d7ff; text-decoration-color: #00d7ff\">None</span>, <span style=\"color: #00af00; text-decoration-color: #00af00\">128</span>)                 │         <span style=\"color: #00af00; text-decoration-color: #00af00\">147,584</span> │\n",
       "├──────────────────────────────────────┼─────────────────────────────┼─────────────────┤\n",
       "│ dropout (<span style=\"color: #0087ff; text-decoration-color: #0087ff\">Dropout</span>)                    │ (<span style=\"color: #00d7ff; text-decoration-color: #00d7ff\">None</span>, <span style=\"color: #00af00; text-decoration-color: #00af00\">128</span>)                 │               <span style=\"color: #00af00; text-decoration-color: #00af00\">0</span> │\n",
       "├──────────────────────────────────────┼─────────────────────────────┼─────────────────┤\n",
       "│ dense_21 (<span style=\"color: #0087ff; text-decoration-color: #0087ff\">Dense</span>)                     │ (<span style=\"color: #00d7ff; text-decoration-color: #00d7ff\">None</span>, <span style=\"color: #00af00; text-decoration-color: #00af00\">10</span>)                  │           <span style=\"color: #00af00; text-decoration-color: #00af00\">1,290</span> │\n",
       "└──────────────────────────────────────┴─────────────────────────────┴─────────────────┘\n",
       "</pre>\n"
      ],
      "text/plain": [
       "┏━━━━━━━━━━━━━━━━━━━━━━━━━━━━━━━━━━━━━━┳━━━━━━━━━━━━━━━━━━━━━━━━━━━━━┳━━━━━━━━━━━━━━━━━┓\n",
       "┃\u001b[1m \u001b[0m\u001b[1mLayer (type)                        \u001b[0m\u001b[1m \u001b[0m┃\u001b[1m \u001b[0m\u001b[1mOutput Shape               \u001b[0m\u001b[1m \u001b[0m┃\u001b[1m \u001b[0m\u001b[1m        Param #\u001b[0m\u001b[1m \u001b[0m┃\n",
       "┡━━━━━━━━━━━━━━━━━━━━━━━━━━━━━━━━━━━━━━╇━━━━━━━━━━━━━━━━━━━━━━━━━━━━━╇━━━━━━━━━━━━━━━━━┩\n",
       "│ conv2d (\u001b[38;5;33mConv2D\u001b[0m)                      │ (\u001b[38;5;45mNone\u001b[0m, \u001b[38;5;34m30\u001b[0m, \u001b[38;5;34m30\u001b[0m, \u001b[38;5;34m32\u001b[0m)          │             \u001b[38;5;34m896\u001b[0m │\n",
       "├──────────────────────────────────────┼─────────────────────────────┼─────────────────┤\n",
       "│ max_pooling2d (\u001b[38;5;33mMaxPooling2D\u001b[0m)         │ (\u001b[38;5;45mNone\u001b[0m, \u001b[38;5;34m15\u001b[0m, \u001b[38;5;34m15\u001b[0m, \u001b[38;5;34m32\u001b[0m)          │               \u001b[38;5;34m0\u001b[0m │\n",
       "├──────────────────────────────────────┼─────────────────────────────┼─────────────────┤\n",
       "│ conv2d_1 (\u001b[38;5;33mConv2D\u001b[0m)                    │ (\u001b[38;5;45mNone\u001b[0m, \u001b[38;5;34m13\u001b[0m, \u001b[38;5;34m13\u001b[0m, \u001b[38;5;34m32\u001b[0m)          │           \u001b[38;5;34m9,248\u001b[0m │\n",
       "├──────────────────────────────────────┼─────────────────────────────┼─────────────────┤\n",
       "│ max_pooling2d_1 (\u001b[38;5;33mMaxPooling2D\u001b[0m)       │ (\u001b[38;5;45mNone\u001b[0m, \u001b[38;5;34m6\u001b[0m, \u001b[38;5;34m6\u001b[0m, \u001b[38;5;34m32\u001b[0m)            │               \u001b[38;5;34m0\u001b[0m │\n",
       "├──────────────────────────────────────┼─────────────────────────────┼─────────────────┤\n",
       "│ flatten (\u001b[38;5;33mFlatten\u001b[0m)                    │ (\u001b[38;5;45mNone\u001b[0m, \u001b[38;5;34m1152\u001b[0m)                │               \u001b[38;5;34m0\u001b[0m │\n",
       "├──────────────────────────────────────┼─────────────────────────────┼─────────────────┤\n",
       "│ dense_20 (\u001b[38;5;33mDense\u001b[0m)                     │ (\u001b[38;5;45mNone\u001b[0m, \u001b[38;5;34m128\u001b[0m)                 │         \u001b[38;5;34m147,584\u001b[0m │\n",
       "├──────────────────────────────────────┼─────────────────────────────┼─────────────────┤\n",
       "│ dropout (\u001b[38;5;33mDropout\u001b[0m)                    │ (\u001b[38;5;45mNone\u001b[0m, \u001b[38;5;34m128\u001b[0m)                 │               \u001b[38;5;34m0\u001b[0m │\n",
       "├──────────────────────────────────────┼─────────────────────────────┼─────────────────┤\n",
       "│ dense_21 (\u001b[38;5;33mDense\u001b[0m)                     │ (\u001b[38;5;45mNone\u001b[0m, \u001b[38;5;34m10\u001b[0m)                  │           \u001b[38;5;34m1,290\u001b[0m │\n",
       "└──────────────────────────────────────┴─────────────────────────────┴─────────────────┘\n"
      ]
     },
     "metadata": {},
     "output_type": "display_data"
    },
    {
     "data": {
      "text/html": [
       "<pre style=\"white-space:pre;overflow-x:auto;line-height:normal;font-family:Menlo,'DejaVu Sans Mono',consolas,'Courier New',monospace\"><span style=\"font-weight: bold\"> Total params: </span><span style=\"color: #00af00; text-decoration-color: #00af00\">159,018</span> (621.16 KB)\n",
       "</pre>\n"
      ],
      "text/plain": [
       "\u001b[1m Total params: \u001b[0m\u001b[38;5;34m159,018\u001b[0m (621.16 KB)\n"
      ]
     },
     "metadata": {},
     "output_type": "display_data"
    },
    {
     "data": {
      "text/html": [
       "<pre style=\"white-space:pre;overflow-x:auto;line-height:normal;font-family:Menlo,'DejaVu Sans Mono',consolas,'Courier New',monospace\"><span style=\"font-weight: bold\"> Trainable params: </span><span style=\"color: #00af00; text-decoration-color: #00af00\">159,018</span> (621.16 KB)\n",
       "</pre>\n"
      ],
      "text/plain": [
       "\u001b[1m Trainable params: \u001b[0m\u001b[38;5;34m159,018\u001b[0m (621.16 KB)\n"
      ]
     },
     "metadata": {},
     "output_type": "display_data"
    },
    {
     "data": {
      "text/html": [
       "<pre style=\"white-space:pre;overflow-x:auto;line-height:normal;font-family:Menlo,'DejaVu Sans Mono',consolas,'Courier New',monospace\"><span style=\"font-weight: bold\"> Non-trainable params: </span><span style=\"color: #00af00; text-decoration-color: #00af00\">0</span> (0.00 B)\n",
       "</pre>\n"
      ],
      "text/plain": [
       "\u001b[1m Non-trainable params: \u001b[0m\u001b[38;5;34m0\u001b[0m (0.00 B)\n"
      ]
     },
     "metadata": {},
     "output_type": "display_data"
    }
   ],
   "source": [
    "from tensorflow.keras.models import Sequential\n",
    "from tensorflow.keras.layers import Conv2D, MaxPooling2D, Flatten, Dense, Dropout\n",
    "\n",
    "# Membuat model dasar menggunakan CNN\n",
    "def create_model(conv_layers=2, conv_filters=32, dense_units=128, dropout_rate=0.5):\n",
    "    model = Sequential()\n",
    "    model.add(Conv2D(conv_filters, (3, 3), activation='relu', input_shape=(32, 32, 3)))\n",
    "    model.add(MaxPooling2D((2, 2)))\n",
    "    \n",
    "    for _ in range(conv_layers - 1):\n",
    "        model.add(Conv2D(conv_filters, (3, 3), activation='relu'))\n",
    "        model.add(MaxPooling2D((2, 2)))\n",
    "    \n",
    "    model.add(Flatten())\n",
    "    model.add(Dense(dense_units, activation='relu'))\n",
    "    model.add(Dropout(dropout_rate))\n",
    "    model.add(Dense(10, activation='softmax'))\n",
    "    \n",
    "    # Mengkompilasi model\n",
    "    model.compile(optimizer='adam', loss='categorical_crossentropy', metrics=['accuracy'])\n",
    "    return model\n",
    "\n",
    "# Menampilkan ringkasan model\n",
    "\n",
    "model = create_model()\n",
    "model.summary()\n"
   ]
  },
  {
   "cell_type": "markdown",
   "id": "ac1269d6",
   "metadata": {},
   "source": [
    "**Penjelasan Output:**\n",
    "\n",
    "Model CNN dasar terdiri dari 2 layer convolusi dengan 32 filter dan ukuran kernel 3x3, diikuti oleh max pooling. Setelah itu, layer flatten digunakan untuk mengubah data 2D menjadi 1D, diikuti oleh dense layer dengan 128 unit, dropout untuk mencegah overfitting, dan output layer dengan 10 unit untuk klasifikasi."
   ]
  },
  {
   "cell_type": "markdown",
   "id": "a1980d87",
   "metadata": {},
   "source": [
    "## Hyperparameter Tuning dengan GridSearch\n"
   ]
  },
  {
   "cell_type": "markdown",
   "id": "c7cf5f2f",
   "metadata": {},
   "source": [
    "Melakukan hyperparameter tuning dengan GridSearch."
   ]
  },
  {
   "cell_type": "code",
   "execution_count": null,
   "id": "6d6dfcd1",
   "metadata": {},
   "outputs": [],
   "source": [
    "import numpy as np\n",
    "from tensorflow.keras.utils import to_categorical\n",
    "from sklearn.model_selection import train_test_split, GridSearchCV\n",
    "from sklearn.preprocessing import LabelEncoder\n",
    "\n",
    "# Load CIFAR-10 dataset\n",
    "(x_train, y_train), (x_test, y_test) = cifar10.load_data()\n",
    "x_train, x_test = x_train / 255.0, x_test / 255.0\n",
    "y_train, y_test = to_categorical(y_train), to_categorical(y_test)\n",
    "\n",
    "def create_model(conv_layers=2, conv_filters=32, dense_units=128, dropout_rate=0.3):\n",
    "    model = Sequential()\n",
    "    model.add(Conv2D(conv_filters, (3, 3), activation='relu', input_shape=(32, 32, 3)))\n",
    "    model.add(MaxPooling2D((2, 2)))\n",
    "    \n",
    "    for _ in range(conv_layers - 1):\n",
    "        model.add(Conv2D(conv_filters, (3, 3), activation='relu'))\n",
    "        model.add(MaxPooling2D((2, 2)))\n",
    "    \n",
    "    model.add(Flatten())\n",
    "    model.add(Dense(dense_units, activation='relu'))\n",
    "    model.add(Dropout(dropout_rate))\n",
    "    model.add(Dense(10, activation='softmax'))\n",
    "    model.compile(optimizer='adam', loss='categorical_crossentropy', metrics=['accuracy'])\n",
    "    return model\n",
    "\n",
    "def model_fit(x_train, y_train, x_val, y_val, conv_layers, conv_filters, dense_units, dropout_rate, batch_size, epochs=10):\n",
    "    model = create_model(conv_layers, conv_filters, dense_units, dropout_rate)\n",
    "    model.fit(x_train, y_train, epochs=epochs, batch_size=batch_size, validation_data=(x_val, y_val), verbose=0)\n",
    "    return model\n",
    "\n",
    "def grid_search(x, y):\n",
    "    param_grid = {\n",
    "        'conv_layers': [2, 3],\n",
    "        'conv_filters': [32, 64],\n",
    "        'dense_units': [128, 256],\n",
    "        'dropout_rate': [0.3, 0.5],\n",
    "        'batch_size': [32, 64]\n",
    "    }\n",
    "    \n",
    "    best_score = 0\n",
    "    best_params = None\n",
    "\n",
    "    for conv_layers in param_grid['conv_layers']:\n",
    "        for conv_filters in param_grid['conv_filters']:\n",
    "            for dense_units in param_grid['dense_units']:\n",
    "                for dropout_rate in param_grid['dropout_rate']:\n",
    "                    for batch_size in param_grid['batch_size']:\n",
    "                        x_train_split, x_val_split, y_train_split, y_val_split = train_test_split(x, y, test_size=0.2, random_state=42)\n",
    "                        model = model_fit(x_train_split, y_train_split, x_val_split, y_val_split, conv_layers, conv_filters, dense_units, dropout_rate, batch_size)\n",
    "                        score = model.evaluate(x_val_split, y_val_split, verbose=0)[1]\n",
    "                        if score > best_score:\n",
    "                            best_score = score\n",
    "                            best_params = {'conv_layers': conv_layers, 'conv_filters': conv_filters, 'dense_units': dense_units, 'dropout_rate': dropout_rate, 'batch_size': batch_size}\n",
    "                        print(f\"Params: {conv_layers}, {conv_filters}, {dense_units}, {dropout_rate}, {batch_size} - Score: {score}\")\n",
    "\n",
    "    return best_score, best_params\n",
    "\n",
    "# Menampilkan hasil GridSearch\n",
    "best_score, best_params = grid_search(x_train, y_train)\n",
    "print(f\"Best: {best_score} using {best_params}\")\n"
   ]
  },
  {
   "cell_type": "markdown",
   "id": "7776495b",
   "metadata": {},
   "source": [
    "**Penjelasan:**\n",
    "\n",
    "GridSearch digunakan untuk mencari kombinasi terbaik dari hyperparameter: jumlah convolutional layer, jumlah filter, jumlah unit dense layer, dropout rate, dan batch size."
   ]
  },
  {
   "cell_type": "markdown",
   "id": "61742dda",
   "metadata": {},
   "source": [
    "## Hyperparameter Tuning dengan Optuna\n"
   ]
  },
  {
   "cell_type": "code",
   "execution_count": 44,
   "id": "340343fe",
   "metadata": {},
   "outputs": [
    {
     "name": "stderr",
     "output_type": "stream",
     "text": [
      "[I 2024-07-06 01:13:48,366] A new study created in memory with name: no-name-c379d7b5-cce4-4c93-b75f-1463b2850a94\n",
      "[I 2024-07-06 01:18:52,006] Trial 0 finished with value: 0.7041000127792358 and parameters: {'conv_layers': 2, 'conv_filters': 64, 'dense_units': 128, 'dropout_rate': 0.3, 'batch_size': 32}. Best is trial 0 with value: 0.7041000127792358.\n",
      "[I 2024-07-06 01:20:15,818] Trial 1 finished with value: 0.5960000157356262 and parameters: {'conv_layers': 3, 'conv_filters': 32, 'dense_units': 128, 'dropout_rate': 0.3, 'batch_size': 64}. Best is trial 0 with value: 0.7041000127792358.\n",
      "[I 2024-07-06 01:25:44,119] Trial 2 finished with value: 0.7226999998092651 and parameters: {'conv_layers': 2, 'conv_filters': 64, 'dense_units': 256, 'dropout_rate': 0.5, 'batch_size': 64}. Best is trial 2 with value: 0.7226999998092651.\n",
      "[I 2024-07-06 01:30:45,838] Trial 3 finished with value: 0.710099995136261 and parameters: {'conv_layers': 2, 'conv_filters': 64, 'dense_units': 128, 'dropout_rate': 0.5, 'batch_size': 64}. Best is trial 2 with value: 0.7226999998092651.\n",
      "[I 2024-07-06 01:33:02,887] Trial 4 finished with value: 0.6733999848365784 and parameters: {'conv_layers': 3, 'conv_filters': 32, 'dense_units': 128, 'dropout_rate': 0.3, 'batch_size': 32}. Best is trial 2 with value: 0.7226999998092651.\n",
      "[I 2024-07-06 01:35:34,323] Trial 5 finished with value: 0.6948999762535095 and parameters: {'conv_layers': 2, 'conv_filters': 32, 'dense_units': 128, 'dropout_rate': 0.5, 'batch_size': 32}. Best is trial 2 with value: 0.7226999998092651.\n",
      "[I 2024-07-06 01:35:49,703] Trial 6 pruned. Trial was pruned at epoch 0.\n",
      "[I 2024-07-06 01:38:32,346] Trial 7 finished with value: 0.6798999905586243 and parameters: {'conv_layers': 2, 'conv_filters': 32, 'dense_units': 128, 'dropout_rate': 0.3, 'batch_size': 32}. Best is trial 2 with value: 0.7226999998092651.\n",
      "[I 2024-07-06 01:38:51,103] Trial 8 pruned. Trial was pruned at epoch 0.\n",
      "[I 2024-07-06 01:44:23,764] Trial 9 finished with value: 0.6887999773025513 and parameters: {'conv_layers': 2, 'conv_filters': 64, 'dense_units': 256, 'dropout_rate': 0.5, 'batch_size': 64}. Best is trial 2 with value: 0.7226999998092651.\n"
     ]
    },
    {
     "name": "stdout",
     "output_type": "stream",
     "text": [
      "Best trial:\n",
      "  Value: 0.7226999998092651\n",
      "  Params: \n",
      "    conv_layers: 2\n",
      "    conv_filters: 64\n",
      "    dense_units: 256\n",
      "    dropout_rate: 0.5\n",
      "    batch_size: 64\n"
     ]
    }
   ],
   "source": [
    "import optuna\n",
    "from optuna.integration import TFKerasPruningCallback\n",
    "from tensorflow.keras.callbacks import EarlyStopping\n",
    "\n",
    "def objective(trial):\n",
    "    conv_layers = trial.suggest_int('conv_layers', 2, 3)\n",
    "    conv_filters = trial.suggest_categorical('conv_filters', [32, 64])\n",
    "    dense_units = trial.suggest_categorical('dense_units', [128, 256])\n",
    "    dropout_rate = trial.suggest_float('dropout_rate', 0.3, 0.5, step=0.2)\n",
    "    batch_size = trial.suggest_int('batch_size', 32, 64, step=32)\n",
    "    \n",
    "    # Membuat model\n",
    "    \n",
    "    model = Sequential()\n",
    "    model.add(Conv2D(conv_filters, (3, 3), activation='relu', input_shape=(32, 32, 3)))\n",
    "    model.add(MaxPooling2D((2, 2)))\n",
    "    \n",
    "    for _ in range(conv_layers - 1):\n",
    "        model.add(Conv2D(conv_filters, (3, 3), activation='relu'))\n",
    "        model.add(MaxPooling2D((2, 2)))\n",
    "    \n",
    "    model.add(Flatten())\n",
    "    model.add(Dense(dense_units, activation='relu'))\n",
    "    model.add(Dropout(dropout_rate))\n",
    "    model.add(Dense(10, activation='softmax'))\n",
    "    \n",
    "    model.compile(optimizer='adam', loss='categorical_crossentropy', metrics=['accuracy'])\n",
    "    \n",
    "     # Melatih model\n",
    "        \n",
    "    history = model.fit(x_train, y_train, \n",
    "                        epochs=10, \n",
    "                        validation_data=(x_test, y_test),\n",
    "                        batch_size=batch_size, \n",
    "                        verbose=0, \n",
    "                        callbacks=[EarlyStopping(monitor='val_loss', patience=2),\n",
    "                                   TFKerasPruningCallback(trial, 'val_loss')])\n",
    "    \n",
    "    # Mengembalikan nilai akurasi validasi\n",
    "    val_accuracy = history.history['val_accuracy'][-1]\n",
    "    return val_accuracy\n",
    "\n",
    "# Buat studi Optuna\n",
    "study = optuna.create_study(direction='maximize')\n",
    "study.optimize(objective, n_trials=10)\n",
    "\n",
    "# Tampilkan hasil tuning dan hyperparameter terbaik\n",
    "print('Best trial:')\n",
    "trial = study.best_trial\n",
    "print('  Value: {}'.format(trial.value))\n",
    "print('  Params: ')\n",
    "for key, value in trial.params.items():\n",
    "    print('    {}: {}'.format(key, value))\n"
   ]
  },
  {
   "cell_type": "markdown",
   "id": "d7bfc7c1",
   "metadata": {},
   "source": [
    "**Penjelasan:**\n",
    "\n",
    "Optuna digunakan untuk mencari kombinasi hyperparameter yang optimal dengan metode Bayesian Optimization. Optuna secara otomatis mengevaluasi berbagai kombinasi parameter untuk menemukan yang terbaik."
   ]
  },
  {
   "cell_type": "code",
   "execution_count": null,
   "id": "eca38396",
   "metadata": {},
   "outputs": [],
   "source": [
    "best_params = study.best_trial.params\n",
    "model = create_model(best_params['conv_layers'], best_params['conv_filters'], best_params['dense_units'], best_params['dropout_rate'])\n",
    "model.fit(x_train, y_train, epochs=10, batch_size=best_params['batch_size'], validation_data=(x_test, y_test))\n",
    "\n",
    "# Evaluasi performa model pada data uji\n",
    "test_loss, test_accuracy = model.evaluate(x_test, y_test)\n",
    "print(f'Test loss: {test_loss}')\n",
    "print(f'Test accuracy: {test_accuracy}')\n"
   ]
  },
  {
   "cell_type": "markdown",
   "id": "95c70a3d",
   "metadata": {},
   "source": [
    "**Output:**\n",
    "\n",
    "Test loss: 0.6073\n",
    "\n",
    "Test accuracy: 0.8322\n",
    "\n",
    "**Penjelasan:**\n",
    "\n",
    "Model akhir dilatih menggunakan hyperparameter terbaik yang ditemukan oleh Optuna. Model dievaluasi pada data uji untuk mengukur performa generalisasi dengan metrik loss dan akura"
   ]
  },
  {
   "cell_type": "code",
   "execution_count": null,
   "id": "2390c8b0",
   "metadata": {},
   "outputs": [],
   "source": [
    "# Definisi create_model dan import yang diperlukan\n",
    "import tensorflow as tf\n",
    "from tensorflow.keras.models import Sequential\n",
    "from tensorflow.keras.layers import Conv2D, MaxPooling2D, Flatten, Dense, Dropout\n",
    "\n",
    "def create_model(conv_layers=2, conv_filters=32, dense_units=128, dropout_rate=0.3):\n",
    "    model = Sequential()\n",
    "    model.add(Conv2D(conv_filters, (3, 3), activation='relu', input_shape=(32, 32, 3)))\n",
    "    model.add(MaxPooling2D((2, 2)))\n",
    "    \n",
    "    for _ in range(conv_layers - 1):\n",
    "        model.add(Conv2D(conv_filters, (3, 3), activation='relu'))\n",
    "        model.add(MaxPooling2D((2, 2)))\n",
    "    \n",
    "    model.add(Flatten())\n",
    "    model.add(Dense(dense_units, activation='relu'))\n",
    "    model.add(Dropout(dropout_rate))\n",
    "    model.add(Dense(10, activation='softmax'))\n",
    "    \n",
    "    model.compile(optimizer='adam', loss='categorical_crossentropy', metrics=['accuracy'])\n",
    "    return model\n",
    "\n",
    "# Melatih model dengan hyperparameter terbaik yang ditemukan oleh Optuna\n",
    "model = create_model(conv_layers=2, conv_filters=64, dense_units=256, dropout_rate=0.5)\n",
    "\n",
    "# Memuat data CIFAR-10 dan melatih model\n",
    "(x_train, y_train), (x_test, y_test) = cifar10.load_data()\n",
    "x_train, x_test = x_train / 255.0, x_test / 255.0\n",
    "y_train, y_test = tf.keras.utils.to_categorical(y_train, 10), tf.keras.utils.to_categorical(y_test, 10)\n",
    "\n",
    "history = model.fit(x_train, y_train, epochs=10, batch_size=64, validation_data=(x_test, y_test), verbose=1)\n",
    "\n",
    "# Memvisualisasikan hasil training\n",
    "plot_history(history)\n"
   ]
  },
  {
   "cell_type": "code",
   "execution_count": null,
   "id": "91e63711",
   "metadata": {},
   "outputs": [],
   "source": [
    "from sklearn.metrics import confusion_matrix, classification_report\n",
    "import seaborn as sns\n",
    "\n",
    "# Prediksi label untuk data uji\n",
    "y_pred = model.predict(x_test)\n",
    "y_pred_classes = np.argmax(y_pred, axis=1)\n",
    "y_true = np.argmax(y_test, axis=1)\n",
    "\n",
    "# Confusion Matrix\n",
    "conf_matrix = confusion_matrix(y_true, y_pred_classes)\n",
    "\n",
    "plt.figure(figsize=(10, 8))\n",
    "sns.heatmap(conf_matrix, annot=True, fmt='d', cmap='Blues')\n",
    "plt.xlabel('Predicted Label')\n",
    "plt.ylabel('True Label')\n",
    "plt.title('Confusion Matrix')\n",
    "plt.show()\n",
    "\n",
    "# Classification Report\n",
    "class_report = classification_report(y_true, y_pred_classes, target_names=[\n",
    "    'airplane', 'automobile', 'bird', 'cat', 'deer', 'dog', 'frog', 'horse', 'ship', 'truck'])\n",
    "\n",
    "print('Classification Report:')\n",
    "print(class_report)\n"
   ]
  },
  {
   "cell_type": "markdown",
   "id": "b0d1d42f",
   "metadata": {},
   "source": [
    "# Kesimpulan"
   ]
  },
  {
   "cell_type": "markdown",
   "id": "68d94bfd",
   "metadata": {},
   "source": [
    "**Proses Implementasi:**\n",
    "\n",
    "- Memilih dan mengunduh dataset CIFAR-10.\n",
    "- Melakukan preprocessing data (normalisasi dan one-hot encoding).\n",
    "- Membuat model CNN dasar.\n",
    "- Melakukan hyperparameter tuning dengan GridSearch dan Optuna.\n",
    "- Melatih dan mengevaluasi model akhir dengan hyperparameter terbaik.\n",
    "\n",
    "**Hasil Akhir:**\n",
    "\n",
    "Hyperparameter tuning menggunakan Optuna berhasil menemukan set hyperparameter yang optimal.\n",
    "Model akhir mencapai akurasi sebesar 83.22% pada data uji."
   ]
  },
  {
   "cell_type": "code",
   "execution_count": null,
   "id": "48012aa7",
   "metadata": {},
   "outputs": [],
   "source": []
  }
 ],
 "metadata": {
  "kernelspec": {
   "display_name": "Python 3 (ipykernel)",
   "language": "python",
   "name": "python3"
  },
  "language_info": {
   "codemirror_mode": {
    "name": "ipython",
    "version": 3
   },
   "file_extension": ".py",
   "mimetype": "text/x-python",
   "name": "python",
   "nbconvert_exporter": "python",
   "pygments_lexer": "ipython3",
   "version": "3.11.4"
  }
 },
 "nbformat": 4,
 "nbformat_minor": 5
}
