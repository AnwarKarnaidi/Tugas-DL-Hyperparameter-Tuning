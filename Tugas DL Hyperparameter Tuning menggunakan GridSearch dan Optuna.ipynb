{
 "cells": [
  {
   "cell_type": "code",
   "execution_count": 7,
   "id": "c1c98fea",
   "metadata": {},
   "outputs": [
    {
     "name": "stdout",
     "output_type": "stream",
     "text": [
      "Defaulting to user installation because normal site-packages is not writeable\n",
      "Requirement already satisfied: tensorflow-addons in c:\\users\\a s u s\\appdata\\roaming\\python\\python311\\site-packages (0.22.0)\n",
      "Requirement already satisfied: typeguard<3.0.0,>=2.7 in c:\\users\\a s u s\\appdata\\roaming\\python\\python311\\site-packages (from tensorflow-addons) (2.13.3)\n",
      "Requirement already satisfied: packaging in c:\\users\\a s u s\\appdata\\roaming\\python\\python311\\site-packages (from tensorflow-addons) (23.2)\n",
      "Note: you may need to restart the kernel to use updated packages.\n"
     ]
    }
   ],
   "source": [
    "pip install tensorflow-addons"
   ]
  },
  {
   "cell_type": "code",
   "execution_count": 31,
   "id": "1a252f54",
   "metadata": {},
   "outputs": [
    {
     "name": "stdout",
     "output_type": "stream",
     "text": [
      "Defaulting to user installation because normal site-packages is not writeable\n",
      "Requirement already satisfied: tensorflow in c:\\users\\a s u s\\appdata\\roaming\\python\\python311\\site-packages (2.16.2)\n",
      "Requirement already satisfied: tensorflow-intel==2.16.2 in c:\\users\\a s u s\\appdata\\roaming\\python\\python311\\site-packages (from tensorflow) (2.16.2)\n",
      "Requirement already satisfied: absl-py>=1.0.0 in c:\\users\\a s u s\\appdata\\roaming\\python\\python311\\site-packages (from tensorflow-intel==2.16.2->tensorflow) (2.1.0)\n",
      "Requirement already satisfied: astunparse>=1.6.0 in c:\\users\\a s u s\\appdata\\roaming\\python\\python311\\site-packages (from tensorflow-intel==2.16.2->tensorflow) (1.6.3)\n",
      "Requirement already satisfied: flatbuffers>=23.5.26 in c:\\users\\a s u s\\appdata\\roaming\\python\\python311\\site-packages (from tensorflow-intel==2.16.2->tensorflow) (24.3.25)\n",
      "Requirement already satisfied: gast!=0.5.0,!=0.5.1,!=0.5.2,>=0.2.1 in c:\\users\\a s u s\\appdata\\roaming\\python\\python311\\site-packages (from tensorflow-intel==2.16.2->tensorflow) (0.5.4)\n",
      "Requirement already satisfied: google-pasta>=0.1.1 in c:\\users\\a s u s\\appdata\\roaming\\python\\python311\\site-packages (from tensorflow-intel==2.16.2->tensorflow) (0.2.0)\n",
      "Requirement already satisfied: h5py>=3.10.0 in c:\\users\\a s u s\\appdata\\roaming\\python\\python311\\site-packages (from tensorflow-intel==2.16.2->tensorflow) (3.11.0)\n",
      "Requirement already satisfied: libclang>=13.0.0 in c:\\users\\a s u s\\appdata\\roaming\\python\\python311\\site-packages (from tensorflow-intel==2.16.2->tensorflow) (18.1.1)\n",
      "Requirement already satisfied: ml-dtypes~=0.3.1 in c:\\users\\a s u s\\appdata\\roaming\\python\\python311\\site-packages (from tensorflow-intel==2.16.2->tensorflow) (0.3.2)\n",
      "Requirement already satisfied: opt-einsum>=2.3.2 in c:\\users\\a s u s\\appdata\\roaming\\python\\python311\\site-packages (from tensorflow-intel==2.16.2->tensorflow) (3.3.0)\n",
      "Requirement already satisfied: packaging in c:\\users\\a s u s\\appdata\\roaming\\python\\python311\\site-packages (from tensorflow-intel==2.16.2->tensorflow) (23.2)\n",
      "Requirement already satisfied: protobuf!=4.21.0,!=4.21.1,!=4.21.2,!=4.21.3,!=4.21.4,!=4.21.5,<5.0.0dev,>=3.20.3 in c:\\users\\a s u s\\appdata\\roaming\\python\\python311\\site-packages (from tensorflow-intel==2.16.2->tensorflow) (4.25.3)\n",
      "Requirement already satisfied: requests<3,>=2.21.0 in c:\\programdata\\anaconda3\\lib\\site-packages (from tensorflow-intel==2.16.2->tensorflow) (2.31.0)\n",
      "Requirement already satisfied: setuptools in c:\\programdata\\anaconda3\\lib\\site-packages (from tensorflow-intel==2.16.2->tensorflow) (68.0.0)\n",
      "Requirement already satisfied: six>=1.12.0 in c:\\users\\a s u s\\appdata\\roaming\\python\\python311\\site-packages (from tensorflow-intel==2.16.2->tensorflow) (1.16.0)\n",
      "Requirement already satisfied: termcolor>=1.1.0 in c:\\users\\a s u s\\appdata\\roaming\\python\\python311\\site-packages (from tensorflow-intel==2.16.2->tensorflow) (2.4.0)\n",
      "Requirement already satisfied: typing-extensions>=3.6.6 in c:\\users\\a s u s\\appdata\\roaming\\python\\python311\\site-packages (from tensorflow-intel==2.16.2->tensorflow) (4.11.0)\n",
      "Requirement already satisfied: wrapt>=1.11.0 in c:\\programdata\\anaconda3\\lib\\site-packages (from tensorflow-intel==2.16.2->tensorflow) (1.14.1)\n",
      "Requirement already satisfied: grpcio<2.0,>=1.24.3 in c:\\users\\a s u s\\appdata\\roaming\\python\\python311\\site-packages (from tensorflow-intel==2.16.2->tensorflow) (1.64.0)\n",
      "Requirement already satisfied: tensorboard<2.17,>=2.16 in c:\\users\\a s u s\\appdata\\roaming\\python\\python311\\site-packages (from tensorflow-intel==2.16.2->tensorflow) (2.16.2)\n",
      "Requirement already satisfied: keras>=3.0.0 in c:\\users\\a s u s\\appdata\\roaming\\python\\python311\\site-packages (from tensorflow-intel==2.16.2->tensorflow) (3.3.3)\n",
      "Requirement already satisfied: tensorflow-io-gcs-filesystem>=0.23.1 in c:\\users\\a s u s\\appdata\\roaming\\python\\python311\\site-packages (from tensorflow-intel==2.16.2->tensorflow) (0.31.0)\n",
      "Requirement already satisfied: numpy<2.0.0,>=1.23.5 in c:\\users\\a s u s\\appdata\\roaming\\python\\python311\\site-packages (from tensorflow-intel==2.16.2->tensorflow) (1.24.4)\n",
      "Requirement already satisfied: wheel<1.0,>=0.23.0 in c:\\programdata\\anaconda3\\lib\\site-packages (from astunparse>=1.6.0->tensorflow-intel==2.16.2->tensorflow) (0.38.4)\n",
      "Requirement already satisfied: rich in c:\\users\\a s u s\\appdata\\roaming\\python\\python311\\site-packages (from keras>=3.0.0->tensorflow-intel==2.16.2->tensorflow) (13.7.0)\n",
      "Requirement already satisfied: namex in c:\\users\\a s u s\\appdata\\roaming\\python\\python311\\site-packages (from keras>=3.0.0->tensorflow-intel==2.16.2->tensorflow) (0.0.8)\n",
      "Requirement already satisfied: optree in c:\\users\\a s u s\\appdata\\roaming\\python\\python311\\site-packages (from keras>=3.0.0->tensorflow-intel==2.16.2->tensorflow) (0.11.0)\n",
      "Requirement already satisfied: charset-normalizer<4,>=2 in c:\\programdata\\anaconda3\\lib\\site-packages (from requests<3,>=2.21.0->tensorflow-intel==2.16.2->tensorflow) (2.0.4)\n",
      "Requirement already satisfied: idna<4,>=2.5 in c:\\programdata\\anaconda3\\lib\\site-packages (from requests<3,>=2.21.0->tensorflow-intel==2.16.2->tensorflow) (3.4)\n",
      "Requirement already satisfied: urllib3<3,>=1.21.1 in c:\\programdata\\anaconda3\\lib\\site-packages (from requests<3,>=2.21.0->tensorflow-intel==2.16.2->tensorflow) (1.26.16)\n",
      "Requirement already satisfied: certifi>=2017.4.17 in c:\\programdata\\anaconda3\\lib\\site-packages (from requests<3,>=2.21.0->tensorflow-intel==2.16.2->tensorflow) (2023.11.17)\n",
      "Requirement already satisfied: markdown>=2.6.8 in c:\\programdata\\anaconda3\\lib\\site-packages (from tensorboard<2.17,>=2.16->tensorflow-intel==2.16.2->tensorflow) (3.4.1)\n",
      "Requirement already satisfied: tensorboard-data-server<0.8.0,>=0.7.0 in c:\\users\\a s u s\\appdata\\roaming\\python\\python311\\site-packages (from tensorboard<2.17,>=2.16->tensorflow-intel==2.16.2->tensorflow) (0.7.2)\n",
      "Requirement already satisfied: werkzeug>=1.0.1 in c:\\programdata\\anaconda3\\lib\\site-packages (from tensorboard<2.17,>=2.16->tensorflow-intel==2.16.2->tensorflow) (2.2.3)\n",
      "Requirement already satisfied: MarkupSafe>=2.1.1 in c:\\programdata\\anaconda3\\lib\\site-packages (from werkzeug>=1.0.1->tensorboard<2.17,>=2.16->tensorflow-intel==2.16.2->tensorflow) (2.1.1)\n",
      "Requirement already satisfied: markdown-it-py>=2.2.0 in c:\\programdata\\anaconda3\\lib\\site-packages (from rich->keras>=3.0.0->tensorflow-intel==2.16.2->tensorflow) (2.2.0)\n",
      "Requirement already satisfied: pygments<3.0.0,>=2.13.0 in c:\\users\\a s u s\\appdata\\roaming\\python\\python311\\site-packages (from rich->keras>=3.0.0->tensorflow-intel==2.16.2->tensorflow) (2.17.2)\n",
      "Requirement already satisfied: mdurl~=0.1 in c:\\programdata\\anaconda3\\lib\\site-packages (from markdown-it-py>=2.2.0->rich->keras>=3.0.0->tensorflow-intel==2.16.2->tensorflow) (0.1.0)\n",
      "Note: you may need to restart the kernel to use updated packages.\n"
     ]
    }
   ],
   "source": [
    "pip install tensorflow --upgrade"
   ]
  },
  {
   "cell_type": "code",
   "execution_count": 3,
   "id": "f34e8f47",
   "metadata": {},
   "outputs": [
    {
     "name": "stdout",
     "output_type": "stream",
     "text": [
      "Defaulting to user installation because normal site-packages is not writeable\n",
      "Requirement already satisfied: tensorflow-datasets in c:\\users\\a s u s\\appdata\\roaming\\python\\python311\\site-packages (4.9.6)\n",
      "Requirement already satisfied: absl-py in c:\\users\\a s u s\\appdata\\roaming\\python\\python311\\site-packages (from tensorflow-datasets) (2.1.0)\n",
      "Requirement already satisfied: click in c:\\programdata\\anaconda3\\lib\\site-packages (from tensorflow-datasets) (8.0.4)\n",
      "Requirement already satisfied: dm-tree in c:\\users\\a s u s\\appdata\\roaming\\python\\python311\\site-packages (from tensorflow-datasets) (0.1.8)\n",
      "Requirement already satisfied: immutabledict in c:\\users\\a s u s\\appdata\\roaming\\python\\python311\\site-packages (from tensorflow-datasets) (4.2.0)\n",
      "Requirement already satisfied: numpy in c:\\users\\a s u s\\appdata\\roaming\\python\\python311\\site-packages (from tensorflow-datasets) (1.24.4)\n",
      "Requirement already satisfied: promise in c:\\users\\a s u s\\appdata\\roaming\\python\\python311\\site-packages (from tensorflow-datasets) (2.3)\n",
      "Requirement already satisfied: protobuf>=3.20 in c:\\users\\a s u s\\appdata\\roaming\\python\\python311\\site-packages (from tensorflow-datasets) (4.25.3)\n",
      "Requirement already satisfied: psutil in c:\\users\\a s u s\\appdata\\roaming\\python\\python311\\site-packages (from tensorflow-datasets) (5.9.7)\n",
      "Requirement already satisfied: pyarrow in c:\\programdata\\anaconda3\\lib\\site-packages (from tensorflow-datasets) (11.0.0)\n",
      "Requirement already satisfied: requests>=2.19.0 in c:\\programdata\\anaconda3\\lib\\site-packages (from tensorflow-datasets) (2.31.0)\n",
      "Requirement already satisfied: simple-parsing in c:\\users\\a s u s\\appdata\\roaming\\python\\python311\\site-packages (from tensorflow-datasets) (0.1.5)\n",
      "Requirement already satisfied: tensorflow-metadata in c:\\users\\a s u s\\appdata\\roaming\\python\\python311\\site-packages (from tensorflow-datasets) (1.15.0)\n",
      "Requirement already satisfied: termcolor in c:\\users\\a s u s\\appdata\\roaming\\python\\python311\\site-packages (from tensorflow-datasets) (2.4.0)\n",
      "Requirement already satisfied: toml in c:\\programdata\\anaconda3\\lib\\site-packages (from tensorflow-datasets) (0.10.2)\n",
      "Requirement already satisfied: tqdm in c:\\programdata\\anaconda3\\lib\\site-packages (from tensorflow-datasets) (4.65.0)\n",
      "Requirement already satisfied: wrapt in c:\\programdata\\anaconda3\\lib\\site-packages (from tensorflow-datasets) (1.14.1)\n",
      "Requirement already satisfied: etils[enp,epath,epy,etree]>=1.9.1 in c:\\users\\a s u s\\appdata\\roaming\\python\\python311\\site-packages (from tensorflow-datasets) (1.9.2)\n",
      "Requirement already satisfied: fsspec in c:\\programdata\\anaconda3\\lib\\site-packages (from etils[enp,epath,epy,etree]>=1.9.1->tensorflow-datasets) (2023.3.0)\n",
      "Requirement already satisfied: importlib_resources in c:\\users\\a s u s\\appdata\\roaming\\python\\python311\\site-packages (from etils[enp,epath,epy,etree]>=1.9.1->tensorflow-datasets) (6.4.0)\n",
      "Requirement already satisfied: typing_extensions in c:\\users\\a s u s\\appdata\\roaming\\python\\python311\\site-packages (from etils[enp,epath,epy,etree]>=1.9.1->tensorflow-datasets) (4.11.0)\n",
      "Requirement already satisfied: zipp in c:\\programdata\\anaconda3\\lib\\site-packages (from etils[enp,epath,epy,etree]>=1.9.1->tensorflow-datasets) (3.11.0)\n",
      "Requirement already satisfied: charset-normalizer<4,>=2 in c:\\programdata\\anaconda3\\lib\\site-packages (from requests>=2.19.0->tensorflow-datasets) (2.0.4)\n",
      "Requirement already satisfied: idna<4,>=2.5 in c:\\programdata\\anaconda3\\lib\\site-packages (from requests>=2.19.0->tensorflow-datasets) (3.4)\n",
      "Requirement already satisfied: urllib3<3,>=1.21.1 in c:\\programdata\\anaconda3\\lib\\site-packages (from requests>=2.19.0->tensorflow-datasets) (1.26.16)\n",
      "Requirement already satisfied: certifi>=2017.4.17 in c:\\programdata\\anaconda3\\lib\\site-packages (from requests>=2.19.0->tensorflow-datasets) (2023.11.17)\n",
      "Requirement already satisfied: colorama in c:\\users\\a s u s\\appdata\\roaming\\python\\python311\\site-packages (from click->tensorflow-datasets) (0.4.6)\n",
      "Requirement already satisfied: six in c:\\users\\a s u s\\appdata\\roaming\\python\\python311\\site-packages (from promise->tensorflow-datasets) (1.16.0)\n",
      "Requirement already satisfied: docstring-parser~=0.15 in c:\\users\\a s u s\\appdata\\roaming\\python\\python311\\site-packages (from simple-parsing->tensorflow-datasets) (0.16)\n",
      "Requirement already satisfied: googleapis-common-protos<2,>=1.56.4 in c:\\users\\a s u s\\appdata\\roaming\\python\\python311\\site-packages (from tensorflow-metadata->tensorflow-datasets) (1.63.2)\n"
     ]
    }
   ],
   "source": [
    "!pip install tensorflow-datasets"
   ]
  },
  {
   "cell_type": "code",
   "execution_count": 35,
   "id": "6fe7d5f9",
   "metadata": {},
   "outputs": [
    {
     "name": "stdout",
     "output_type": "stream",
     "text": [
      "Defaulting to user installation because normal site-packages is not writeable\n",
      "Requirement already satisfied: tensorflow in c:\\users\\a s u s\\appdata\\roaming\\python\\python311\\site-packages (2.16.2)\n",
      "Requirement already satisfied: tensorflow-datasets in c:\\users\\a s u s\\appdata\\roaming\\python\\python311\\site-packages (4.9.6)\n",
      "Requirement already satisfied: tensorflow-intel==2.16.2 in c:\\users\\a s u s\\appdata\\roaming\\python\\python311\\site-packages (from tensorflow) (2.16.2)\n",
      "Requirement already satisfied: absl-py>=1.0.0 in c:\\users\\a s u s\\appdata\\roaming\\python\\python311\\site-packages (from tensorflow-intel==2.16.2->tensorflow) (2.1.0)\n",
      "Requirement already satisfied: astunparse>=1.6.0 in c:\\users\\a s u s\\appdata\\roaming\\python\\python311\\site-packages (from tensorflow-intel==2.16.2->tensorflow) (1.6.3)\n",
      "Requirement already satisfied: flatbuffers>=23.5.26 in c:\\users\\a s u s\\appdata\\roaming\\python\\python311\\site-packages (from tensorflow-intel==2.16.2->tensorflow) (24.3.25)\n",
      "Requirement already satisfied: gast!=0.5.0,!=0.5.1,!=0.5.2,>=0.2.1 in c:\\users\\a s u s\\appdata\\roaming\\python\\python311\\site-packages (from tensorflow-intel==2.16.2->tensorflow) (0.5.4)\n",
      "Requirement already satisfied: google-pasta>=0.1.1 in c:\\users\\a s u s\\appdata\\roaming\\python\\python311\\site-packages (from tensorflow-intel==2.16.2->tensorflow) (0.2.0)\n",
      "Requirement already satisfied: h5py>=3.10.0 in c:\\users\\a s u s\\appdata\\roaming\\python\\python311\\site-packages (from tensorflow-intel==2.16.2->tensorflow) (3.11.0)\n",
      "Requirement already satisfied: libclang>=13.0.0 in c:\\users\\a s u s\\appdata\\roaming\\python\\python311\\site-packages (from tensorflow-intel==2.16.2->tensorflow) (18.1.1)\n",
      "Requirement already satisfied: ml-dtypes~=0.3.1 in c:\\users\\a s u s\\appdata\\roaming\\python\\python311\\site-packages (from tensorflow-intel==2.16.2->tensorflow) (0.3.2)\n",
      "Requirement already satisfied: opt-einsum>=2.3.2 in c:\\users\\a s u s\\appdata\\roaming\\python\\python311\\site-packages (from tensorflow-intel==2.16.2->tensorflow) (3.3.0)\n",
      "Requirement already satisfied: packaging in c:\\users\\a s u s\\appdata\\roaming\\python\\python311\\site-packages (from tensorflow-intel==2.16.2->tensorflow) (23.2)\n",
      "Requirement already satisfied: protobuf!=4.21.0,!=4.21.1,!=4.21.2,!=4.21.3,!=4.21.4,!=4.21.5,<5.0.0dev,>=3.20.3 in c:\\users\\a s u s\\appdata\\roaming\\python\\python311\\site-packages (from tensorflow-intel==2.16.2->tensorflow) (4.25.3)\n",
      "Requirement already satisfied: requests<3,>=2.21.0 in c:\\programdata\\anaconda3\\lib\\site-packages (from tensorflow-intel==2.16.2->tensorflow) (2.31.0)\n",
      "Requirement already satisfied: setuptools in c:\\programdata\\anaconda3\\lib\\site-packages (from tensorflow-intel==2.16.2->tensorflow) (68.0.0)\n",
      "Requirement already satisfied: six>=1.12.0 in c:\\users\\a s u s\\appdata\\roaming\\python\\python311\\site-packages (from tensorflow-intel==2.16.2->tensorflow) (1.16.0)\n",
      "Requirement already satisfied: termcolor>=1.1.0 in c:\\users\\a s u s\\appdata\\roaming\\python\\python311\\site-packages (from tensorflow-intel==2.16.2->tensorflow) (2.4.0)\n",
      "Requirement already satisfied: typing-extensions>=3.6.6 in c:\\users\\a s u s\\appdata\\roaming\\python\\python311\\site-packages (from tensorflow-intel==2.16.2->tensorflow) (4.11.0)\n",
      "Requirement already satisfied: wrapt>=1.11.0 in c:\\programdata\\anaconda3\\lib\\site-packages (from tensorflow-intel==2.16.2->tensorflow) (1.14.1)\n",
      "Requirement already satisfied: grpcio<2.0,>=1.24.3 in c:\\users\\a s u s\\appdata\\roaming\\python\\python311\\site-packages (from tensorflow-intel==2.16.2->tensorflow) (1.64.0)\n",
      "Requirement already satisfied: tensorboard<2.17,>=2.16 in c:\\users\\a s u s\\appdata\\roaming\\python\\python311\\site-packages (from tensorflow-intel==2.16.2->tensorflow) (2.16.2)\n",
      "Requirement already satisfied: keras>=3.0.0 in c:\\users\\a s u s\\appdata\\roaming\\python\\python311\\site-packages (from tensorflow-intel==2.16.2->tensorflow) (3.3.3)\n",
      "Requirement already satisfied: tensorflow-io-gcs-filesystem>=0.23.1 in c:\\users\\a s u s\\appdata\\roaming\\python\\python311\\site-packages (from tensorflow-intel==2.16.2->tensorflow) (0.31.0)\n",
      "Requirement already satisfied: numpy<2.0.0,>=1.23.5 in c:\\users\\a s u s\\appdata\\roaming\\python\\python311\\site-packages (from tensorflow-intel==2.16.2->tensorflow) (1.24.4)\n",
      "Requirement already satisfied: click in c:\\programdata\\anaconda3\\lib\\site-packages (from tensorflow-datasets) (8.0.4)\n",
      "Requirement already satisfied: dm-tree in c:\\users\\a s u s\\appdata\\roaming\\python\\python311\\site-packages (from tensorflow-datasets) (0.1.8)\n",
      "Requirement already satisfied: immutabledict in c:\\users\\a s u s\\appdata\\roaming\\python\\python311\\site-packages (from tensorflow-datasets) (4.2.0)\n",
      "Requirement already satisfied: promise in c:\\users\\a s u s\\appdata\\roaming\\python\\python311\\site-packages (from tensorflow-datasets) (2.3)\n",
      "Requirement already satisfied: psutil in c:\\users\\a s u s\\appdata\\roaming\\python\\python311\\site-packages (from tensorflow-datasets) (5.9.7)\n",
      "Requirement already satisfied: pyarrow in c:\\programdata\\anaconda3\\lib\\site-packages (from tensorflow-datasets) (11.0.0)\n",
      "Requirement already satisfied: simple-parsing in c:\\users\\a s u s\\appdata\\roaming\\python\\python311\\site-packages (from tensorflow-datasets) (0.1.5)\n",
      "Requirement already satisfied: tensorflow-metadata in c:\\users\\a s u s\\appdata\\roaming\\python\\python311\\site-packages (from tensorflow-datasets) (1.15.0)\n",
      "Requirement already satisfied: toml in c:\\programdata\\anaconda3\\lib\\site-packages (from tensorflow-datasets) (0.10.2)\n",
      "Requirement already satisfied: tqdm in c:\\programdata\\anaconda3\\lib\\site-packages (from tensorflow-datasets) (4.65.0)\n",
      "Requirement already satisfied: etils[enp,epath,epy,etree]>=1.9.1 in c:\\users\\a s u s\\appdata\\roaming\\python\\python311\\site-packages (from tensorflow-datasets) (1.9.2)\n",
      "Requirement already satisfied: fsspec in c:\\programdata\\anaconda3\\lib\\site-packages (from etils[enp,epath,epy,etree]>=1.9.1->tensorflow-datasets) (2023.3.0)\n",
      "Requirement already satisfied: importlib_resources in c:\\users\\a s u s\\appdata\\roaming\\python\\python311\\site-packages (from etils[enp,epath,epy,etree]>=1.9.1->tensorflow-datasets) (6.4.0)\n",
      "Requirement already satisfied: zipp in c:\\programdata\\anaconda3\\lib\\site-packages (from etils[enp,epath,epy,etree]>=1.9.1->tensorflow-datasets) (3.11.0)\n",
      "Requirement already satisfied: charset-normalizer<4,>=2 in c:\\programdata\\anaconda3\\lib\\site-packages (from requests<3,>=2.21.0->tensorflow-intel==2.16.2->tensorflow) (2.0.4)\n",
      "Requirement already satisfied: idna<4,>=2.5 in c:\\programdata\\anaconda3\\lib\\site-packages (from requests<3,>=2.21.0->tensorflow-intel==2.16.2->tensorflow) (3.4)\n",
      "Requirement already satisfied: urllib3<3,>=1.21.1 in c:\\programdata\\anaconda3\\lib\\site-packages (from requests<3,>=2.21.0->tensorflow-intel==2.16.2->tensorflow) (1.26.16)\n",
      "Requirement already satisfied: certifi>=2017.4.17 in c:\\programdata\\anaconda3\\lib\\site-packages (from requests<3,>=2.21.0->tensorflow-intel==2.16.2->tensorflow) (2023.11.17)\n",
      "Requirement already satisfied: colorama in c:\\users\\a s u s\\appdata\\roaming\\python\\python311\\site-packages (from click->tensorflow-datasets) (0.4.6)\n",
      "Requirement already satisfied: docstring-parser~=0.15 in c:\\users\\a s u s\\appdata\\roaming\\python\\python311\\site-packages (from simple-parsing->tensorflow-datasets) (0.16)\n",
      "Requirement already satisfied: googleapis-common-protos<2,>=1.56.4 in c:\\users\\a s u s\\appdata\\roaming\\python\\python311\\site-packages (from tensorflow-metadata->tensorflow-datasets) (1.63.2)\n",
      "Requirement already satisfied: wheel<1.0,>=0.23.0 in c:\\programdata\\anaconda3\\lib\\site-packages (from astunparse>=1.6.0->tensorflow-intel==2.16.2->tensorflow) (0.38.4)\n",
      "Requirement already satisfied: rich in c:\\users\\a s u s\\appdata\\roaming\\python\\python311\\site-packages (from keras>=3.0.0->tensorflow-intel==2.16.2->tensorflow) (13.7.0)\n",
      "Requirement already satisfied: namex in c:\\users\\a s u s\\appdata\\roaming\\python\\python311\\site-packages (from keras>=3.0.0->tensorflow-intel==2.16.2->tensorflow) (0.0.8)\n",
      "Requirement already satisfied: optree in c:\\users\\a s u s\\appdata\\roaming\\python\\python311\\site-packages (from keras>=3.0.0->tensorflow-intel==2.16.2->tensorflow) (0.11.0)\n",
      "Requirement already satisfied: markdown>=2.6.8 in c:\\programdata\\anaconda3\\lib\\site-packages (from tensorboard<2.17,>=2.16->tensorflow-intel==2.16.2->tensorflow) (3.4.1)\n",
      "Requirement already satisfied: tensorboard-data-server<0.8.0,>=0.7.0 in c:\\users\\a s u s\\appdata\\roaming\\python\\python311\\site-packages (from tensorboard<2.17,>=2.16->tensorflow-intel==2.16.2->tensorflow) (0.7.2)\n",
      "Requirement already satisfied: werkzeug>=1.0.1 in c:\\programdata\\anaconda3\\lib\\site-packages (from tensorboard<2.17,>=2.16->tensorflow-intel==2.16.2->tensorflow) (2.2.3)\n",
      "Requirement already satisfied: MarkupSafe>=2.1.1 in c:\\programdata\\anaconda3\\lib\\site-packages (from werkzeug>=1.0.1->tensorboard<2.17,>=2.16->tensorflow-intel==2.16.2->tensorflow) (2.1.1)\n",
      "Requirement already satisfied: markdown-it-py>=2.2.0 in c:\\programdata\\anaconda3\\lib\\site-packages (from rich->keras>=3.0.0->tensorflow-intel==2.16.2->tensorflow) (2.2.0)\n",
      "Requirement already satisfied: pygments<3.0.0,>=2.13.0 in c:\\users\\a s u s\\appdata\\roaming\\python\\python311\\site-packages (from rich->keras>=3.0.0->tensorflow-intel==2.16.2->tensorflow) (2.17.2)\n",
      "Requirement already satisfied: mdurl~=0.1 in c:\\programdata\\anaconda3\\lib\\site-packages (from markdown-it-py>=2.2.0->rich->keras>=3.0.0->tensorflow-intel==2.16.2->tensorflow) (0.1.0)\n"
     ]
    }
   ],
   "source": [
    "!pip install --upgrade tensorflow tensorflow-datasets"
   ]
  },
  {
   "cell_type": "code",
   "execution_count": 36,
   "id": "e4d13f30",
   "metadata": {},
   "outputs": [
    {
     "name": "stdout",
     "output_type": "stream",
     "text": [
      "Name: tensorflow\n",
      "Version: 2.16.2\n",
      "Summary: TensorFlow is an open source machine learning framework for everyone.\n",
      "Home-page: https://www.tensorflow.org/\n",
      "Author: Google Inc.\n",
      "Author-email: packages@tensorflow.org\n",
      "License: Apache 2.0\n",
      "Location: C:\\Users\\A S U S\\AppData\\Roaming\\Python\\Python311\\site-packages\n",
      "Requires: tensorflow-intel\n",
      "Required-by: \n"
     ]
    }
   ],
   "source": [
    "!pip show tensorflow"
   ]
  },
  {
   "cell_type": "code",
   "execution_count": 11,
   "id": "d0e35ece",
   "metadata": {},
   "outputs": [
    {
     "name": "stdout",
     "output_type": "stream",
     "text": [
      "Requirement already satisfied: optuna in c:\\users\\a s u s\\myenv\\lib\\site-packages (3.6.1)\n",
      "Requirement already satisfied: alembic>=1.5.0 in c:\\users\\a s u s\\myenv\\lib\\site-packages (from optuna) (1.13.2)\n",
      "Requirement already satisfied: colorlog in c:\\users\\a s u s\\myenv\\lib\\site-packages (from optuna) (6.8.2)\n",
      "Requirement already satisfied: numpy in c:\\users\\a s u s\\myenv\\lib\\site-packages (from optuna) (1.24.3)\n",
      "Requirement already satisfied: packaging>=20.0 in c:\\users\\a s u s\\myenv\\lib\\site-packages (from optuna) (24.1)\n",
      "Requirement already satisfied: sqlalchemy>=1.3.0 in c:\\users\\a s u s\\myenv\\lib\\site-packages (from optuna) (2.0.31)\n",
      "Requirement already satisfied: tqdm in c:\\users\\a s u s\\myenv\\lib\\site-packages (from optuna) (4.66.4)\n",
      "Requirement already satisfied: PyYAML in c:\\users\\a s u s\\myenv\\lib\\site-packages (from optuna) (6.0.1)\n",
      "Requirement already satisfied: Mako in c:\\users\\a s u s\\myenv\\lib\\site-packages (from alembic>=1.5.0->optuna) (1.3.5)\n",
      "Requirement already satisfied: typing-extensions>=4 in c:\\users\\a s u s\\myenv\\lib\\site-packages (from alembic>=1.5.0->optuna) (4.12.2)\n",
      "Requirement already satisfied: importlib-metadata in c:\\users\\a s u s\\myenv\\lib\\site-packages (from alembic>=1.5.0->optuna) (8.0.0)\n",
      "Requirement already satisfied: importlib-resources in c:\\users\\a s u s\\myenv\\lib\\site-packages (from alembic>=1.5.0->optuna) (6.4.0)\n",
      "Requirement already satisfied: greenlet!=0.4.17 in c:\\users\\a s u s\\myenv\\lib\\site-packages (from sqlalchemy>=1.3.0->optuna) (3.0.3)\n",
      "Requirement already satisfied: colorama in c:\\users\\a s u s\\myenv\\lib\\site-packages (from colorlog->optuna) (0.4.6)\n",
      "Requirement already satisfied: zipp>=0.5 in c:\\users\\a s u s\\myenv\\lib\\site-packages (from importlib-metadata->alembic>=1.5.0->optuna) (3.19.2)\n",
      "Requirement already satisfied: MarkupSafe>=0.9.2 in c:\\users\\a s u s\\myenv\\lib\\site-packages (from Mako->alembic>=1.5.0->optuna) (2.1.5)\n",
      "Note: you may need to restart the kernel to use updated packages.\n"
     ]
    }
   ],
   "source": [
    "pip install optuna"
   ]
  },
  {
   "cell_type": "code",
   "execution_count": 9,
   "id": "98eb146f",
   "metadata": {},
   "outputs": [
    {
     "name": "stdout",
     "output_type": "stream",
     "text": [
      "Defaulting to user installation because normal site-packages is not writeable\n",
      "Requirement already satisfied: keras in c:\\users\\a s u s\\appdata\\roaming\\python\\python311\\site-packages (3.3.3)\n",
      "Requirement already satisfied: absl-py in c:\\users\\a s u s\\appdata\\roaming\\python\\python311\\site-packages (from keras) (2.1.0)\n",
      "Requirement already satisfied: numpy in c:\\users\\a s u s\\appdata\\roaming\\python\\python311\\site-packages (from keras) (1.24.4)\n",
      "Requirement already satisfied: rich in c:\\users\\a s u s\\appdata\\roaming\\python\\python311\\site-packages (from keras) (13.7.0)\n",
      "Requirement already satisfied: namex in c:\\users\\a s u s\\appdata\\roaming\\python\\python311\\site-packages (from keras) (0.0.8)\n",
      "Requirement already satisfied: h5py in c:\\users\\a s u s\\appdata\\roaming\\python\\python311\\site-packages (from keras) (3.11.0)\n",
      "Requirement already satisfied: optree in c:\\users\\a s u s\\appdata\\roaming\\python\\python311\\site-packages (from keras) (0.11.0)\n",
      "Requirement already satisfied: ml-dtypes in c:\\users\\a s u s\\appdata\\roaming\\python\\python311\\site-packages (from keras) (0.3.2)\n",
      "Requirement already satisfied: typing-extensions>=4.0.0 in c:\\users\\a s u s\\appdata\\roaming\\python\\python311\\site-packages (from optree->keras) (4.11.0)\n",
      "Requirement already satisfied: markdown-it-py>=2.2.0 in c:\\programdata\\anaconda3\\lib\\site-packages (from rich->keras) (2.2.0)\n",
      "Requirement already satisfied: pygments<3.0.0,>=2.13.0 in c:\\users\\a s u s\\appdata\\roaming\\python\\python311\\site-packages (from rich->keras) (2.17.2)\n",
      "Requirement already satisfied: mdurl~=0.1 in c:\\programdata\\anaconda3\\lib\\site-packages (from markdown-it-py>=2.2.0->rich->keras) (0.1.0)\n",
      "Note: you may need to restart the kernel to use updated packages.\n"
     ]
    }
   ],
   "source": [
    "pip install keras"
   ]
  },
  {
   "cell_type": "code",
   "execution_count": 32,
   "id": "889f89c5",
   "metadata": {},
   "outputs": [
    {
     "name": "stdout",
     "output_type": "stream",
     "text": [
      "Defaulting to user installation because normal site-packages is not writeable\n",
      "Requirement already satisfied: tensorflow in c:\\users\\a s u s\\appdata\\roaming\\python\\python311\\site-packages (2.16.2)\n",
      "Requirement already satisfied: scikit-learn in c:\\programdata\\anaconda3\\lib\\site-packages (1.3.0)\n",
      "Collecting scikit-learn\n",
      "  Obtaining dependency information for scikit-learn from https://files.pythonhosted.org/packages/5d/55/0403bf2031250ac982c8053397889fbc5a3a2b3798b913dae4f51c3af6a4/scikit_learn-1.5.1-cp311-cp311-win_amd64.whl.metadata\n",
      "  Downloading scikit_learn-1.5.1-cp311-cp311-win_amd64.whl.metadata (12 kB)\n",
      "Requirement already satisfied: tensorflow-intel==2.16.2 in c:\\users\\a s u s\\appdata\\roaming\\python\\python311\\site-packages (from tensorflow) (2.16.2)\n",
      "Requirement already satisfied: absl-py>=1.0.0 in c:\\users\\a s u s\\appdata\\roaming\\python\\python311\\site-packages (from tensorflow-intel==2.16.2->tensorflow) (2.1.0)\n",
      "Requirement already satisfied: astunparse>=1.6.0 in c:\\users\\a s u s\\appdata\\roaming\\python\\python311\\site-packages (from tensorflow-intel==2.16.2->tensorflow) (1.6.3)\n",
      "Requirement already satisfied: flatbuffers>=23.5.26 in c:\\users\\a s u s\\appdata\\roaming\\python\\python311\\site-packages (from tensorflow-intel==2.16.2->tensorflow) (24.3.25)\n",
      "Requirement already satisfied: gast!=0.5.0,!=0.5.1,!=0.5.2,>=0.2.1 in c:\\users\\a s u s\\appdata\\roaming\\python\\python311\\site-packages (from tensorflow-intel==2.16.2->tensorflow) (0.5.4)\n",
      "Requirement already satisfied: google-pasta>=0.1.1 in c:\\users\\a s u s\\appdata\\roaming\\python\\python311\\site-packages (from tensorflow-intel==2.16.2->tensorflow) (0.2.0)\n",
      "Requirement already satisfied: h5py>=3.10.0 in c:\\users\\a s u s\\appdata\\roaming\\python\\python311\\site-packages (from tensorflow-intel==2.16.2->tensorflow) (3.11.0)\n",
      "Requirement already satisfied: libclang>=13.0.0 in c:\\users\\a s u s\\appdata\\roaming\\python\\python311\\site-packages (from tensorflow-intel==2.16.2->tensorflow) (18.1.1)\n",
      "Requirement already satisfied: ml-dtypes~=0.3.1 in c:\\users\\a s u s\\appdata\\roaming\\python\\python311\\site-packages (from tensorflow-intel==2.16.2->tensorflow) (0.3.2)\n",
      "Requirement already satisfied: opt-einsum>=2.3.2 in c:\\users\\a s u s\\appdata\\roaming\\python\\python311\\site-packages (from tensorflow-intel==2.16.2->tensorflow) (3.3.0)\n",
      "Requirement already satisfied: packaging in c:\\users\\a s u s\\appdata\\roaming\\python\\python311\\site-packages (from tensorflow-intel==2.16.2->tensorflow) (23.2)\n",
      "Requirement already satisfied: protobuf!=4.21.0,!=4.21.1,!=4.21.2,!=4.21.3,!=4.21.4,!=4.21.5,<5.0.0dev,>=3.20.3 in c:\\users\\a s u s\\appdata\\roaming\\python\\python311\\site-packages (from tensorflow-intel==2.16.2->tensorflow) (4.25.3)\n",
      "Requirement already satisfied: requests<3,>=2.21.0 in c:\\programdata\\anaconda3\\lib\\site-packages (from tensorflow-intel==2.16.2->tensorflow) (2.31.0)\n",
      "Requirement already satisfied: setuptools in c:\\programdata\\anaconda3\\lib\\site-packages (from tensorflow-intel==2.16.2->tensorflow) (68.0.0)\n",
      "Requirement already satisfied: six>=1.12.0 in c:\\users\\a s u s\\appdata\\roaming\\python\\python311\\site-packages (from tensorflow-intel==2.16.2->tensorflow) (1.16.0)\n",
      "Requirement already satisfied: termcolor>=1.1.0 in c:\\users\\a s u s\\appdata\\roaming\\python\\python311\\site-packages (from tensorflow-intel==2.16.2->tensorflow) (2.4.0)\n",
      "Requirement already satisfied: typing-extensions>=3.6.6 in c:\\users\\a s u s\\appdata\\roaming\\python\\python311\\site-packages (from tensorflow-intel==2.16.2->tensorflow) (4.11.0)\n",
      "Requirement already satisfied: wrapt>=1.11.0 in c:\\programdata\\anaconda3\\lib\\site-packages (from tensorflow-intel==2.16.2->tensorflow) (1.14.1)\n",
      "Requirement already satisfied: grpcio<2.0,>=1.24.3 in c:\\users\\a s u s\\appdata\\roaming\\python\\python311\\site-packages (from tensorflow-intel==2.16.2->tensorflow) (1.64.0)\n",
      "Requirement already satisfied: tensorboard<2.17,>=2.16 in c:\\users\\a s u s\\appdata\\roaming\\python\\python311\\site-packages (from tensorflow-intel==2.16.2->tensorflow) (2.16.2)\n",
      "Requirement already satisfied: keras>=3.0.0 in c:\\users\\a s u s\\appdata\\roaming\\python\\python311\\site-packages (from tensorflow-intel==2.16.2->tensorflow) (3.3.3)\n",
      "Requirement already satisfied: tensorflow-io-gcs-filesystem>=0.23.1 in c:\\users\\a s u s\\appdata\\roaming\\python\\python311\\site-packages (from tensorflow-intel==2.16.2->tensorflow) (0.31.0)\n",
      "Requirement already satisfied: numpy<2.0.0,>=1.23.5 in c:\\users\\a s u s\\appdata\\roaming\\python\\python311\\site-packages (from tensorflow-intel==2.16.2->tensorflow) (1.24.4)\n",
      "Requirement already satisfied: scipy>=1.6.0 in c:\\programdata\\anaconda3\\lib\\site-packages (from scikit-learn) (1.10.1)\n",
      "Requirement already satisfied: joblib>=1.2.0 in c:\\programdata\\anaconda3\\lib\\site-packages (from scikit-learn) (1.2.0)\n",
      "Collecting threadpoolctl>=3.1.0 (from scikit-learn)\n",
      "  Obtaining dependency information for threadpoolctl>=3.1.0 from https://files.pythonhosted.org/packages/4b/2c/ffbf7a134b9ab11a67b0cf0726453cedd9c5043a4fe7a35d1cefa9a1bcfb/threadpoolctl-3.5.0-py3-none-any.whl.metadata\n",
      "  Downloading threadpoolctl-3.5.0-py3-none-any.whl.metadata (13 kB)\n",
      "Requirement already satisfied: wheel<1.0,>=0.23.0 in c:\\programdata\\anaconda3\\lib\\site-packages (from astunparse>=1.6.0->tensorflow-intel==2.16.2->tensorflow) (0.38.4)\n",
      "Requirement already satisfied: rich in c:\\users\\a s u s\\appdata\\roaming\\python\\python311\\site-packages (from keras>=3.0.0->tensorflow-intel==2.16.2->tensorflow) (13.7.0)\n",
      "Requirement already satisfied: namex in c:\\users\\a s u s\\appdata\\roaming\\python\\python311\\site-packages (from keras>=3.0.0->tensorflow-intel==2.16.2->tensorflow) (0.0.8)\n",
      "Requirement already satisfied: optree in c:\\users\\a s u s\\appdata\\roaming\\python\\python311\\site-packages (from keras>=3.0.0->tensorflow-intel==2.16.2->tensorflow) (0.11.0)\n",
      "Requirement already satisfied: charset-normalizer<4,>=2 in c:\\programdata\\anaconda3\\lib\\site-packages (from requests<3,>=2.21.0->tensorflow-intel==2.16.2->tensorflow) (2.0.4)\n",
      "Requirement already satisfied: idna<4,>=2.5 in c:\\programdata\\anaconda3\\lib\\site-packages (from requests<3,>=2.21.0->tensorflow-intel==2.16.2->tensorflow) (3.4)\n",
      "Requirement already satisfied: urllib3<3,>=1.21.1 in c:\\programdata\\anaconda3\\lib\\site-packages (from requests<3,>=2.21.0->tensorflow-intel==2.16.2->tensorflow) (1.26.16)\n",
      "Requirement already satisfied: certifi>=2017.4.17 in c:\\programdata\\anaconda3\\lib\\site-packages (from requests<3,>=2.21.0->tensorflow-intel==2.16.2->tensorflow) (2023.11.17)\n",
      "Requirement already satisfied: markdown>=2.6.8 in c:\\programdata\\anaconda3\\lib\\site-packages (from tensorboard<2.17,>=2.16->tensorflow-intel==2.16.2->tensorflow) (3.4.1)\n",
      "Requirement already satisfied: tensorboard-data-server<0.8.0,>=0.7.0 in c:\\users\\a s u s\\appdata\\roaming\\python\\python311\\site-packages (from tensorboard<2.17,>=2.16->tensorflow-intel==2.16.2->tensorflow) (0.7.2)\n",
      "Requirement already satisfied: werkzeug>=1.0.1 in c:\\programdata\\anaconda3\\lib\\site-packages (from tensorboard<2.17,>=2.16->tensorflow-intel==2.16.2->tensorflow) (2.2.3)\n",
      "Requirement already satisfied: MarkupSafe>=2.1.1 in c:\\programdata\\anaconda3\\lib\\site-packages (from werkzeug>=1.0.1->tensorboard<2.17,>=2.16->tensorflow-intel==2.16.2->tensorflow) (2.1.1)\n",
      "Requirement already satisfied: markdown-it-py>=2.2.0 in c:\\programdata\\anaconda3\\lib\\site-packages (from rich->keras>=3.0.0->tensorflow-intel==2.16.2->tensorflow) (2.2.0)\n",
      "Requirement already satisfied: pygments<3.0.0,>=2.13.0 in c:\\users\\a s u s\\appdata\\roaming\\python\\python311\\site-packages (from rich->keras>=3.0.0->tensorflow-intel==2.16.2->tensorflow) (2.17.2)\n",
      "Requirement already satisfied: mdurl~=0.1 in c:\\programdata\\anaconda3\\lib\\site-packages (from markdown-it-py>=2.2.0->rich->keras>=3.0.0->tensorflow-intel==2.16.2->tensorflow) (0.1.0)\n",
      "Downloading scikit_learn-1.5.1-cp311-cp311-win_amd64.whl (11.0 MB)\n",
      "   ---------------------------------------- 0.0/11.0 MB ? eta -:--:--\n",
      "   ---------------------------------------- 0.1/11.0 MB 2.2 MB/s eta 0:00:05\n",
      "   - -------------------------------------- 0.3/11.0 MB 2.8 MB/s eta 0:00:04\n",
      "   - -------------------------------------- 0.4/11.0 MB 3.0 MB/s eta 0:00:04\n",
      "   - -------------------------------------- 0.5/11.0 MB 3.5 MB/s eta 0:00:04\n",
      "   -- ------------------------------------- 0.7/11.0 MB 3.4 MB/s eta 0:00:04\n",
      "   --- ------------------------------------ 0.9/11.0 MB 3.6 MB/s eta 0:00:03\n",
      "   ---- ----------------------------------- 1.1/11.0 MB 3.5 MB/s eta 0:00:03\n",
      "   ---- ----------------------------------- 1.3/11.0 MB 3.6 MB/s eta 0:00:03\n",
      "   ----- ---------------------------------- 1.4/11.0 MB 3.5 MB/s eta 0:00:03\n",
      "   ----- ---------------------------------- 1.6/11.0 MB 3.5 MB/s eta 0:00:03\n",
      "   ----- ---------------------------------- 1.6/11.0 MB 3.5 MB/s eta 0:00:03\n",
      "   ----- ---------------------------------- 1.6/11.0 MB 3.5 MB/s eta 0:00:03\n",
      "   ----- ---------------------------------- 1.6/11.0 MB 3.5 MB/s eta 0:00:03\n",
      "   ----- ---------------------------------- 1.6/11.0 MB 3.5 MB/s eta 0:00:03\n",
      "   ----- ---------------------------------- 1.6/11.0 MB 3.5 MB/s eta 0:00:03\n",
      "   ------ --------------------------------- 1.9/11.0 MB 2.8 MB/s eta 0:00:04\n",
      "   ------ --------------------------------- 1.9/11.0 MB 2.8 MB/s eta 0:00:04\n",
      "   --------- ------------------------------ 2.6/11.0 MB 3.4 MB/s eta 0:00:03\n",
      "   --------- ------------------------------ 2.6/11.0 MB 3.4 MB/s eta 0:00:03\n",
      "   ---------- ----------------------------- 2.8/11.0 MB 3.3 MB/s eta 0:00:03\n",
      "   ---------- ----------------------------- 2.9/11.0 MB 3.2 MB/s eta 0:00:03\n",
      "   ---------- ----------------------------- 3.0/11.0 MB 3.2 MB/s eta 0:00:03\n",
      "   ----------- ---------------------------- 3.1/11.0 MB 3.2 MB/s eta 0:00:03\n",
      "   ----------- ---------------------------- 3.1/11.0 MB 3.2 MB/s eta 0:00:03\n",
      "   ----------- ---------------------------- 3.1/11.0 MB 3.2 MB/s eta 0:00:03\n",
      "   ------------ --------------------------- 3.4/11.0 MB 3.1 MB/s eta 0:00:03\n",
      "   ------------ --------------------------- 3.4/11.0 MB 3.1 MB/s eta 0:00:03\n",
      "   ------------ --------------------------- 3.4/11.0 MB 2.9 MB/s eta 0:00:03\n",
      "   ------------ --------------------------- 3.4/11.0 MB 2.9 MB/s eta 0:00:03\n",
      "   ------------ --------------------------- 3.4/11.0 MB 2.9 MB/s eta 0:00:03\n",
      "   ------------- -------------------------- 3.8/11.0 MB 2.9 MB/s eta 0:00:03\n",
      "   -------------- ------------------------- 3.9/11.0 MB 2.9 MB/s eta 0:00:03\n",
      "   -------------- ------------------------- 4.0/11.0 MB 2.9 MB/s eta 0:00:03\n",
      "   -------------- ------------------------- 4.1/11.0 MB 2.9 MB/s eta 0:00:03\n",
      "   --------------- ------------------------ 4.2/11.0 MB 2.9 MB/s eta 0:00:03\n",
      "   --------------- ------------------------ 4.3/11.0 MB 2.9 MB/s eta 0:00:03\n",
      "   ---------------- ----------------------- 4.5/11.0 MB 2.9 MB/s eta 0:00:03\n",
      "   ---------------- ----------------------- 4.6/11.0 MB 2.9 MB/s eta 0:00:03\n",
      "   ---------------- ----------------------- 4.6/11.0 MB 2.9 MB/s eta 0:00:03\n",
      "   ----------------- ---------------------- 4.8/11.0 MB 2.8 MB/s eta 0:00:03\n",
      "   ----------------- ---------------------- 4.9/11.0 MB 2.9 MB/s eta 0:00:03\n",
      "   ------------------ --------------------- 5.0/11.0 MB 2.8 MB/s eta 0:00:03\n",
      "   ------------------ --------------------- 5.1/11.0 MB 2.8 MB/s eta 0:00:03\n",
      "   ------------------- -------------------- 5.3/11.0 MB 2.8 MB/s eta 0:00:03\n",
      "   ------------------- -------------------- 5.4/11.0 MB 2.8 MB/s eta 0:00:02\n",
      "   ------------------- -------------------- 5.5/11.0 MB 2.8 MB/s eta 0:00:02\n",
      "   -------------------- ------------------- 5.6/11.0 MB 2.8 MB/s eta 0:00:02\n",
      "   -------------------- ------------------- 5.7/11.0 MB 2.8 MB/s eta 0:00:02\n",
      "   --------------------- ------------------ 5.8/11.0 MB 2.8 MB/s eta 0:00:02\n",
      "   --------------------- ------------------ 5.9/11.0 MB 2.8 MB/s eta 0:00:02\n",
      "   --------------------- ------------------ 6.0/11.0 MB 2.8 MB/s eta 0:00:02\n",
      "   ---------------------- ----------------- 6.2/11.0 MB 2.8 MB/s eta 0:00:02\n",
      "   ---------------------- ----------------- 6.3/11.0 MB 2.8 MB/s eta 0:00:02\n",
      "   ----------------------- ---------------- 6.4/11.0 MB 2.8 MB/s eta 0:00:02\n",
      "   ----------------------- ---------------- 6.5/11.0 MB 2.8 MB/s eta 0:00:02\n",
      "   ----------------------- ---------------- 6.6/11.0 MB 2.7 MB/s eta 0:00:02\n",
      "   ------------------------ --------------- 6.7/11.0 MB 2.8 MB/s eta 0:00:02\n",
      "   ------------------------ --------------- 6.8/11.0 MB 2.7 MB/s eta 0:00:02\n",
      "   ------------------------- -------------- 6.9/11.0 MB 2.7 MB/s eta 0:00:02\n",
      "   ------------------------- -------------- 7.0/11.0 MB 2.7 MB/s eta 0:00:02\n",
      "   -------------------------- ------------- 7.2/11.0 MB 2.7 MB/s eta 0:00:02\n",
      "   -------------------------- ------------- 7.3/11.0 MB 2.7 MB/s eta 0:00:02\n",
      "   -------------------------- ------------- 7.4/11.0 MB 2.7 MB/s eta 0:00:02\n",
      "   --------------------------- ------------ 7.5/11.0 MB 2.7 MB/s eta 0:00:02\n",
      "   --------------------------- ------------ 7.6/11.0 MB 2.7 MB/s eta 0:00:02\n",
      "   ---------------------------- ----------- 7.7/11.0 MB 2.7 MB/s eta 0:00:02\n",
      "   ---------------------------- ----------- 7.8/11.0 MB 2.7 MB/s eta 0:00:02\n",
      "   ---------------------------- ----------- 7.9/11.0 MB 2.7 MB/s eta 0:00:02\n",
      "   ----------------------------- ---------- 8.1/11.0 MB 2.7 MB/s eta 0:00:02\n",
      "   ----------------------------- ---------- 8.2/11.0 MB 2.7 MB/s eta 0:00:02\n",
      "   ------------------------------ --------- 8.3/11.0 MB 2.7 MB/s eta 0:00:02\n",
      "   ------------------------------ --------- 8.4/11.0 MB 2.7 MB/s eta 0:00:01\n",
      "   ------------------------------ --------- 8.5/11.0 MB 2.7 MB/s eta 0:00:01\n",
      "   ------------------------------- -------- 8.6/11.0 MB 2.7 MB/s eta 0:00:01\n",
      "   ------------------------------- -------- 8.7/11.0 MB 2.7 MB/s eta 0:00:01\n",
      "   ------------------------------- -------- 8.8/11.0 MB 2.7 MB/s eta 0:00:01\n",
      "   -------------------------------- ------- 8.9/11.0 MB 2.7 MB/s eta 0:00:01\n",
      "   -------------------------------- ------- 9.0/11.0 MB 2.7 MB/s eta 0:00:01\n",
      "   -------------------------------- ------- 9.0/11.0 MB 2.7 MB/s eta 0:00:01\n",
      "   --------------------------------- ------ 9.2/11.0 MB 2.7 MB/s eta 0:00:01\n",
      "   --------------------------------- ------ 9.3/11.0 MB 2.7 MB/s eta 0:00:01\n",
      "   ---------------------------------- ----- 9.4/11.0 MB 2.7 MB/s eta 0:00:01\n",
      "   ---------------------------------- ----- 9.5/11.0 MB 2.7 MB/s eta 0:00:01\n",
      "   ----------------------------------- ---- 9.6/11.0 MB 2.7 MB/s eta 0:00:01\n",
      "   ----------------------------------- ---- 9.8/11.0 MB 2.7 MB/s eta 0:00:01\n",
      "   ----------------------------------- ---- 9.9/11.0 MB 2.7 MB/s eta 0:00:01\n",
      "   ------------------------------------ --- 10.0/11.0 MB 2.7 MB/s eta 0:00:01\n",
      "   ------------------------------------ --- 10.1/11.0 MB 2.7 MB/s eta 0:00:01\n",
      "   ------------------------------------- -- 10.2/11.0 MB 2.7 MB/s eta 0:00:01\n",
      "   ------------------------------------- -- 10.3/11.0 MB 2.7 MB/s eta 0:00:01\n",
      "   ------------------------------------- -- 10.4/11.0 MB 2.7 MB/s eta 0:00:01\n",
      "   -------------------------------------- - 10.5/11.0 MB 2.7 MB/s eta 0:00:01\n",
      "   -------------------------------------- - 10.6/11.0 MB 2.7 MB/s eta 0:00:01\n",
      "   ---------------------------------------  10.7/11.0 MB 2.6 MB/s eta 0:00:01\n",
      "   ---------------------------------------  10.9/11.0 MB 2.6 MB/s eta 0:00:01\n",
      "   ---------------------------------------  10.9/11.0 MB 2.6 MB/s eta 0:00:01\n",
      "   ---------------------------------------  11.0/11.0 MB 2.6 MB/s eta 0:00:01\n",
      "   ---------------------------------------- 11.0/11.0 MB 2.6 MB/s eta 0:00:00\n",
      "Downloading threadpoolctl-3.5.0-py3-none-any.whl (18 kB)\n",
      "Installing collected packages: threadpoolctl, scikit-learn\n",
      "Successfully installed scikit-learn-1.5.1 threadpoolctl-3.5.0\n"
     ]
    }
   ],
   "source": [
    "!pip install --upgrade tensorflow scikit-learn"
   ]
  },
  {
   "cell_type": "code",
   "execution_count": 43,
   "id": "c4606429",
   "metadata": {},
   "outputs": [
    {
     "name": "stdout",
     "output_type": "stream",
     "text": [
      "Name: tensorflow\n",
      "Version: 2.16.2\n",
      "Summary: TensorFlow is an open source machine learning framework for everyone.\n",
      "Home-page: https://www.tensorflow.org/\n",
      "Author: Google Inc.\n",
      "Author-email: packages@tensorflow.org\n",
      "License: Apache 2.0\n",
      "Location: C:\\Users\\A S U S\\AppData\\Roaming\\Python\\Python311\\site-packages\n",
      "Requires: tensorflow-intel\n",
      "Required-by: \n",
      "---\n",
      "Name: tensorflow-datasets\n",
      "Version: 4.9.6\n",
      "Summary: tensorflow/datasets is a library of datasets ready to use with TensorFlow.\n",
      "Home-page: https://github.com/tensorflow/datasets\n",
      "Author: Google Inc.\n",
      "Author-email: packages@tensorflow.org\n",
      "License: Apache 2.0\n",
      "Location: C:\\Users\\A S U S\\AppData\\Roaming\\Python\\Python311\\site-packages\n",
      "Requires: absl-py, click, dm-tree, etils, immutabledict, numpy, promise, protobuf, psutil, pyarrow, requests, simple-parsing, tensorflow-metadata, termcolor, toml, tqdm, wrapt\n",
      "Required-by: \n"
     ]
    }
   ],
   "source": [
    "!pip show tensorflow tensorflow-datasets"
   ]
  },
  {
   "cell_type": "code",
   "execution_count": 4,
   "id": "ffb9181c",
   "metadata": {},
   "outputs": [
    {
     "name": "stdout",
     "output_type": "stream",
     "text": [
      "Defaulting to user installation because normal site-packages is not writeable\n",
      "Requirement already satisfied: tensorflow in c:\\users\\a s u s\\appdata\\roaming\\python\\python311\\site-packages (2.16.2)\n",
      "Requirement already satisfied: tensorflow-datasets in c:\\users\\a s u s\\appdata\\roaming\\python\\python311\\site-packages (4.9.6)\n",
      "Requirement already satisfied: tensorflow-intel==2.16.2 in c:\\users\\a s u s\\appdata\\roaming\\python\\python311\\site-packages (from tensorflow) (2.16.2)\n",
      "Requirement already satisfied: absl-py>=1.0.0 in c:\\users\\a s u s\\appdata\\roaming\\python\\python311\\site-packages (from tensorflow-intel==2.16.2->tensorflow) (2.1.0)\n",
      "Requirement already satisfied: astunparse>=1.6.0 in c:\\users\\a s u s\\appdata\\roaming\\python\\python311\\site-packages (from tensorflow-intel==2.16.2->tensorflow) (1.6.3)\n",
      "Requirement already satisfied: flatbuffers>=23.5.26 in c:\\users\\a s u s\\appdata\\roaming\\python\\python311\\site-packages (from tensorflow-intel==2.16.2->tensorflow) (24.3.25)\n",
      "Requirement already satisfied: gast!=0.5.0,!=0.5.1,!=0.5.2,>=0.2.1 in c:\\users\\a s u s\\appdata\\roaming\\python\\python311\\site-packages (from tensorflow-intel==2.16.2->tensorflow) (0.5.4)\n",
      "Requirement already satisfied: google-pasta>=0.1.1 in c:\\users\\a s u s\\appdata\\roaming\\python\\python311\\site-packages (from tensorflow-intel==2.16.2->tensorflow) (0.2.0)\n",
      "Requirement already satisfied: h5py>=3.10.0 in c:\\users\\a s u s\\appdata\\roaming\\python\\python311\\site-packages (from tensorflow-intel==2.16.2->tensorflow) (3.11.0)\n",
      "Requirement already satisfied: libclang>=13.0.0 in c:\\users\\a s u s\\appdata\\roaming\\python\\python311\\site-packages (from tensorflow-intel==2.16.2->tensorflow) (18.1.1)\n",
      "Requirement already satisfied: ml-dtypes~=0.3.1 in c:\\users\\a s u s\\appdata\\roaming\\python\\python311\\site-packages (from tensorflow-intel==2.16.2->tensorflow) (0.3.2)\n",
      "Requirement already satisfied: opt-einsum>=2.3.2 in c:\\users\\a s u s\\appdata\\roaming\\python\\python311\\site-packages (from tensorflow-intel==2.16.2->tensorflow) (3.3.0)\n",
      "Requirement already satisfied: packaging in c:\\users\\a s u s\\appdata\\roaming\\python\\python311\\site-packages (from tensorflow-intel==2.16.2->tensorflow) (23.2)\n",
      "Requirement already satisfied: protobuf!=4.21.0,!=4.21.1,!=4.21.2,!=4.21.3,!=4.21.4,!=4.21.5,<5.0.0dev,>=3.20.3 in c:\\users\\a s u s\\appdata\\roaming\\python\\python311\\site-packages (from tensorflow-intel==2.16.2->tensorflow) (4.25.3)\n",
      "Requirement already satisfied: requests<3,>=2.21.0 in c:\\programdata\\anaconda3\\lib\\site-packages (from tensorflow-intel==2.16.2->tensorflow) (2.31.0)\n",
      "Requirement already satisfied: setuptools in c:\\programdata\\anaconda3\\lib\\site-packages (from tensorflow-intel==2.16.2->tensorflow) (68.0.0)\n",
      "Requirement already satisfied: six>=1.12.0 in c:\\users\\a s u s\\appdata\\roaming\\python\\python311\\site-packages (from tensorflow-intel==2.16.2->tensorflow) (1.16.0)\n",
      "Requirement already satisfied: termcolor>=1.1.0 in c:\\users\\a s u s\\appdata\\roaming\\python\\python311\\site-packages (from tensorflow-intel==2.16.2->tensorflow) (2.4.0)\n",
      "Requirement already satisfied: typing-extensions>=3.6.6 in c:\\users\\a s u s\\appdata\\roaming\\python\\python311\\site-packages (from tensorflow-intel==2.16.2->tensorflow) (4.11.0)\n",
      "Requirement already satisfied: wrapt>=1.11.0 in c:\\programdata\\anaconda3\\lib\\site-packages (from tensorflow-intel==2.16.2->tensorflow) (1.14.1)\n",
      "Requirement already satisfied: grpcio<2.0,>=1.24.3 in c:\\users\\a s u s\\appdata\\roaming\\python\\python311\\site-packages (from tensorflow-intel==2.16.2->tensorflow) (1.64.0)\n",
      "Requirement already satisfied: tensorboard<2.17,>=2.16 in c:\\users\\a s u s\\appdata\\roaming\\python\\python311\\site-packages (from tensorflow-intel==2.16.2->tensorflow) (2.16.2)\n",
      "Requirement already satisfied: keras>=3.0.0 in c:\\users\\a s u s\\appdata\\roaming\\python\\python311\\site-packages (from tensorflow-intel==2.16.2->tensorflow) (3.3.3)\n",
      "Requirement already satisfied: tensorflow-io-gcs-filesystem>=0.23.1 in c:\\users\\a s u s\\appdata\\roaming\\python\\python311\\site-packages (from tensorflow-intel==2.16.2->tensorflow) (0.31.0)\n",
      "Requirement already satisfied: numpy<2.0.0,>=1.23.5 in c:\\users\\a s u s\\appdata\\roaming\\python\\python311\\site-packages (from tensorflow-intel==2.16.2->tensorflow) (1.24.4)\n",
      "Requirement already satisfied: click in c:\\programdata\\anaconda3\\lib\\site-packages (from tensorflow-datasets) (8.0.4)\n",
      "Requirement already satisfied: dm-tree in c:\\users\\a s u s\\appdata\\roaming\\python\\python311\\site-packages (from tensorflow-datasets) (0.1.8)\n",
      "Requirement already satisfied: immutabledict in c:\\users\\a s u s\\appdata\\roaming\\python\\python311\\site-packages (from tensorflow-datasets) (4.2.0)\n",
      "Requirement already satisfied: promise in c:\\users\\a s u s\\appdata\\roaming\\python\\python311\\site-packages (from tensorflow-datasets) (2.3)\n",
      "Requirement already satisfied: psutil in c:\\users\\a s u s\\appdata\\roaming\\python\\python311\\site-packages (from tensorflow-datasets) (5.9.7)\n",
      "Requirement already satisfied: pyarrow in c:\\programdata\\anaconda3\\lib\\site-packages (from tensorflow-datasets) (11.0.0)\n",
      "Requirement already satisfied: simple-parsing in c:\\users\\a s u s\\appdata\\roaming\\python\\python311\\site-packages (from tensorflow-datasets) (0.1.5)\n",
      "Requirement already satisfied: tensorflow-metadata in c:\\users\\a s u s\\appdata\\roaming\\python\\python311\\site-packages (from tensorflow-datasets) (1.15.0)\n",
      "Requirement already satisfied: toml in c:\\programdata\\anaconda3\\lib\\site-packages (from tensorflow-datasets) (0.10.2)\n",
      "Requirement already satisfied: tqdm in c:\\programdata\\anaconda3\\lib\\site-packages (from tensorflow-datasets) (4.65.0)\n",
      "Requirement already satisfied: etils[enp,epath,epy,etree]>=1.9.1 in c:\\users\\a s u s\\appdata\\roaming\\python\\python311\\site-packages (from tensorflow-datasets) (1.9.2)\n",
      "Requirement already satisfied: fsspec in c:\\programdata\\anaconda3\\lib\\site-packages (from etils[enp,epath,epy,etree]>=1.9.1->tensorflow-datasets) (2023.3.0)\n",
      "Requirement already satisfied: importlib_resources in c:\\users\\a s u s\\appdata\\roaming\\python\\python311\\site-packages (from etils[enp,epath,epy,etree]>=1.9.1->tensorflow-datasets) (6.4.0)\n",
      "Requirement already satisfied: zipp in c:\\programdata\\anaconda3\\lib\\site-packages (from etils[enp,epath,epy,etree]>=1.9.1->tensorflow-datasets) (3.11.0)\n",
      "Requirement already satisfied: charset-normalizer<4,>=2 in c:\\programdata\\anaconda3\\lib\\site-packages (from requests<3,>=2.21.0->tensorflow-intel==2.16.2->tensorflow) (2.0.4)\n",
      "Requirement already satisfied: idna<4,>=2.5 in c:\\programdata\\anaconda3\\lib\\site-packages (from requests<3,>=2.21.0->tensorflow-intel==2.16.2->tensorflow) (3.4)\n",
      "Requirement already satisfied: urllib3<3,>=1.21.1 in c:\\programdata\\anaconda3\\lib\\site-packages (from requests<3,>=2.21.0->tensorflow-intel==2.16.2->tensorflow) (1.26.16)\n",
      "Requirement already satisfied: certifi>=2017.4.17 in c:\\programdata\\anaconda3\\lib\\site-packages (from requests<3,>=2.21.0->tensorflow-intel==2.16.2->tensorflow) (2023.11.17)\n",
      "Requirement already satisfied: colorama in c:\\users\\a s u s\\appdata\\roaming\\python\\python311\\site-packages (from click->tensorflow-datasets) (0.4.6)\n",
      "Requirement already satisfied: docstring-parser~=0.15 in c:\\users\\a s u s\\appdata\\roaming\\python\\python311\\site-packages (from simple-parsing->tensorflow-datasets) (0.16)\n",
      "Requirement already satisfied: googleapis-common-protos<2,>=1.56.4 in c:\\users\\a s u s\\appdata\\roaming\\python\\python311\\site-packages (from tensorflow-metadata->tensorflow-datasets) (1.63.2)\n",
      "Requirement already satisfied: wheel<1.0,>=0.23.0 in c:\\programdata\\anaconda3\\lib\\site-packages (from astunparse>=1.6.0->tensorflow-intel==2.16.2->tensorflow) (0.38.4)\n",
      "Requirement already satisfied: rich in c:\\users\\a s u s\\appdata\\roaming\\python\\python311\\site-packages (from keras>=3.0.0->tensorflow-intel==2.16.2->tensorflow) (13.7.0)\n",
      "Requirement already satisfied: namex in c:\\users\\a s u s\\appdata\\roaming\\python\\python311\\site-packages (from keras>=3.0.0->tensorflow-intel==2.16.2->tensorflow) (0.0.8)\n",
      "Requirement already satisfied: optree in c:\\users\\a s u s\\appdata\\roaming\\python\\python311\\site-packages (from keras>=3.0.0->tensorflow-intel==2.16.2->tensorflow) (0.11.0)\n",
      "Requirement already satisfied: markdown>=2.6.8 in c:\\programdata\\anaconda3\\lib\\site-packages (from tensorboard<2.17,>=2.16->tensorflow-intel==2.16.2->tensorflow) (3.4.1)\n",
      "Requirement already satisfied: tensorboard-data-server<0.8.0,>=0.7.0 in c:\\users\\a s u s\\appdata\\roaming\\python\\python311\\site-packages (from tensorboard<2.17,>=2.16->tensorflow-intel==2.16.2->tensorflow) (0.7.2)\n",
      "Requirement already satisfied: werkzeug>=1.0.1 in c:\\programdata\\anaconda3\\lib\\site-packages (from tensorboard<2.17,>=2.16->tensorflow-intel==2.16.2->tensorflow) (2.2.3)\n",
      "Requirement already satisfied: MarkupSafe>=2.1.1 in c:\\programdata\\anaconda3\\lib\\site-packages (from werkzeug>=1.0.1->tensorboard<2.17,>=2.16->tensorflow-intel==2.16.2->tensorflow) (2.1.1)\n",
      "Requirement already satisfied: markdown-it-py>=2.2.0 in c:\\programdata\\anaconda3\\lib\\site-packages (from rich->keras>=3.0.0->tensorflow-intel==2.16.2->tensorflow) (2.2.0)\n",
      "Requirement already satisfied: pygments<3.0.0,>=2.13.0 in c:\\users\\a s u s\\appdata\\roaming\\python\\python311\\site-packages (from rich->keras>=3.0.0->tensorflow-intel==2.16.2->tensorflow) (2.17.2)\n",
      "Requirement already satisfied: mdurl~=0.1 in c:\\programdata\\anaconda3\\lib\\site-packages (from markdown-it-py>=2.2.0->rich->keras>=3.0.0->tensorflow-intel==2.16.2->tensorflow) (0.1.0)\n",
      "Note: you may need to restart the kernel to use updated packages.\n"
     ]
    }
   ],
   "source": [
    "pip install tensorflow tensorflow-datasets"
   ]
  },
  {
   "cell_type": "code",
   "execution_count": 9,
   "id": "1c25a13a",
   "metadata": {},
   "outputs": [
    {
     "name": "stdout",
     "output_type": "stream",
     "text": [
      "Defaulting to user installation because normal site-packages is not writeable\n",
      "Requirement already satisfied: tensorflow-addons in c:\\users\\a s u s\\appdata\\roaming\\python\\python311\\site-packages (0.22.0)\n",
      "Requirement already satisfied: optuna in c:\\users\\a s u s\\appdata\\roaming\\python\\python311\\site-packages (3.6.1)\n",
      "Requirement already satisfied: optuna-integration in c:\\users\\a s u s\\appdata\\roaming\\python\\python311\\site-packages (3.6.0)\n",
      "Requirement already satisfied: typeguard<3.0.0,>=2.7 in c:\\users\\a s u s\\appdata\\roaming\\python\\python311\\site-packages (from tensorflow-addons) (2.13.3)\n",
      "Requirement already satisfied: packaging in c:\\users\\a s u s\\appdata\\roaming\\python\\python311\\site-packages (from tensorflow-addons) (23.2)\n",
      "Requirement already satisfied: alembic>=1.5.0 in c:\\users\\a s u s\\appdata\\roaming\\python\\python311\\site-packages (from optuna) (1.13.2)\n",
      "Requirement already satisfied: colorlog in c:\\users\\a s u s\\appdata\\roaming\\python\\python311\\site-packages (from optuna) (6.8.2)\n",
      "Requirement already satisfied: numpy in c:\\users\\a s u s\\appdata\\roaming\\python\\python311\\site-packages (from optuna) (1.24.4)\n",
      "Requirement already satisfied: sqlalchemy>=1.3.0 in c:\\programdata\\anaconda3\\lib\\site-packages (from optuna) (1.4.39)\n",
      "Requirement already satisfied: tqdm in c:\\programdata\\anaconda3\\lib\\site-packages (from optuna) (4.65.0)\n",
      "Requirement already satisfied: PyYAML in c:\\programdata\\anaconda3\\lib\\site-packages (from optuna) (6.0)\n",
      "Requirement already satisfied: Mako in c:\\users\\a s u s\\appdata\\roaming\\python\\python311\\site-packages (from alembic>=1.5.0->optuna) (1.3.5)\n",
      "Requirement already satisfied: typing-extensions>=4 in c:\\users\\a s u s\\appdata\\roaming\\python\\python311\\site-packages (from alembic>=1.5.0->optuna) (4.11.0)\n",
      "Requirement already satisfied: greenlet!=0.4.17 in c:\\programdata\\anaconda3\\lib\\site-packages (from sqlalchemy>=1.3.0->optuna) (2.0.1)\n",
      "Requirement already satisfied: colorama in c:\\users\\a s u s\\appdata\\roaming\\python\\python311\\site-packages (from colorlog->optuna) (0.4.6)\n",
      "Requirement already satisfied: MarkupSafe>=0.9.2 in c:\\programdata\\anaconda3\\lib\\site-packages (from Mako->alembic>=1.5.0->optuna) (2.1.1)\n"
     ]
    }
   ],
   "source": [
    "!pip install tensorflow-addons optuna optuna-integration"
   ]
  },
  {
   "cell_type": "code",
   "execution_count": 27,
   "id": "e0f09644",
   "metadata": {},
   "outputs": [
    {
     "name": "stdout",
     "output_type": "stream",
     "text": [
      "Defaulting to user installation because normal site-packages is not writeable\n",
      "Requirement already satisfied: tensorflow in c:\\users\\a s u s\\appdata\\roaming\\python\\python311\\site-packages (2.16.1)\n",
      "Collecting tensorflow\n",
      "  Obtaining dependency information for tensorflow from https://files.pythonhosted.org/packages/1f/97/dec9dfa95cfbee631adffbeb0b7eda51ddc93a5f7e8aa8f4d95dde59e69e/tensorflow-2.16.2-cp311-cp311-win_amd64.whl.metadata\n",
      "  Using cached tensorflow-2.16.2-cp311-cp311-win_amd64.whl.metadata (3.3 kB)\n",
      "Requirement already satisfied: tensorflow-intel==2.16.2 in c:\\users\\a s u s\\appdata\\roaming\\python\\python311\\site-packages (from tensorflow) (2.16.2)\n",
      "Requirement already satisfied: absl-py>=1.0.0 in c:\\users\\a s u s\\appdata\\roaming\\python\\python311\\site-packages (from tensorflow-intel==2.16.2->tensorflow) (2.1.0)\n",
      "Requirement already satisfied: astunparse>=1.6.0 in c:\\users\\a s u s\\appdata\\roaming\\python\\python311\\site-packages (from tensorflow-intel==2.16.2->tensorflow) (1.6.3)\n",
      "Requirement already satisfied: flatbuffers>=23.5.26 in c:\\users\\a s u s\\appdata\\roaming\\python\\python311\\site-packages (from tensorflow-intel==2.16.2->tensorflow) (24.3.25)\n",
      "Requirement already satisfied: gast!=0.5.0,!=0.5.1,!=0.5.2,>=0.2.1 in c:\\users\\a s u s\\appdata\\roaming\\python\\python311\\site-packages (from tensorflow-intel==2.16.2->tensorflow) (0.5.4)\n",
      "Requirement already satisfied: google-pasta>=0.1.1 in c:\\users\\a s u s\\appdata\\roaming\\python\\python311\\site-packages (from tensorflow-intel==2.16.2->tensorflow) (0.2.0)\n",
      "Requirement already satisfied: h5py>=3.10.0 in c:\\users\\a s u s\\appdata\\roaming\\python\\python311\\site-packages (from tensorflow-intel==2.16.2->tensorflow) (3.11.0)\n",
      "Requirement already satisfied: libclang>=13.0.0 in c:\\users\\a s u s\\appdata\\roaming\\python\\python311\\site-packages (from tensorflow-intel==2.16.2->tensorflow) (18.1.1)\n",
      "Requirement already satisfied: ml-dtypes~=0.3.1 in c:\\users\\a s u s\\appdata\\roaming\\python\\python311\\site-packages (from tensorflow-intel==2.16.2->tensorflow) (0.3.2)\n",
      "Requirement already satisfied: opt-einsum>=2.3.2 in c:\\users\\a s u s\\appdata\\roaming\\python\\python311\\site-packages (from tensorflow-intel==2.16.2->tensorflow) (3.3.0)\n",
      "Requirement already satisfied: packaging in c:\\users\\a s u s\\appdata\\roaming\\python\\python311\\site-packages (from tensorflow-intel==2.16.2->tensorflow) (23.2)\n",
      "Requirement already satisfied: protobuf!=4.21.0,!=4.21.1,!=4.21.2,!=4.21.3,!=4.21.4,!=4.21.5,<5.0.0dev,>=3.20.3 in c:\\users\\a s u s\\appdata\\roaming\\python\\python311\\site-packages (from tensorflow-intel==2.16.2->tensorflow) (4.25.3)\n",
      "Requirement already satisfied: requests<3,>=2.21.0 in c:\\programdata\\anaconda3\\lib\\site-packages (from tensorflow-intel==2.16.2->tensorflow) (2.31.0)\n",
      "Requirement already satisfied: setuptools in c:\\programdata\\anaconda3\\lib\\site-packages (from tensorflow-intel==2.16.2->tensorflow) (68.0.0)\n",
      "Requirement already satisfied: six>=1.12.0 in c:\\users\\a s u s\\appdata\\roaming\\python\\python311\\site-packages (from tensorflow-intel==2.16.2->tensorflow) (1.16.0)\n",
      "Requirement already satisfied: termcolor>=1.1.0 in c:\\users\\a s u s\\appdata\\roaming\\python\\python311\\site-packages (from tensorflow-intel==2.16.2->tensorflow) (2.4.0)\n",
      "Requirement already satisfied: typing-extensions>=3.6.6 in c:\\users\\a s u s\\appdata\\roaming\\python\\python311\\site-packages (from tensorflow-intel==2.16.2->tensorflow) (4.11.0)\n",
      "Requirement already satisfied: wrapt>=1.11.0 in c:\\programdata\\anaconda3\\lib\\site-packages (from tensorflow-intel==2.16.2->tensorflow) (1.14.1)\n",
      "Requirement already satisfied: grpcio<2.0,>=1.24.3 in c:\\users\\a s u s\\appdata\\roaming\\python\\python311\\site-packages (from tensorflow-intel==2.16.2->tensorflow) (1.64.0)\n",
      "Requirement already satisfied: tensorboard<2.17,>=2.16 in c:\\users\\a s u s\\appdata\\roaming\\python\\python311\\site-packages (from tensorflow-intel==2.16.2->tensorflow) (2.16.2)\n",
      "Requirement already satisfied: keras>=3.0.0 in c:\\users\\a s u s\\appdata\\roaming\\python\\python311\\site-packages (from tensorflow-intel==2.16.2->tensorflow) (3.3.3)\n",
      "Requirement already satisfied: tensorflow-io-gcs-filesystem>=0.23.1 in c:\\users\\a s u s\\appdata\\roaming\\python\\python311\\site-packages (from tensorflow-intel==2.16.2->tensorflow) (0.31.0)\n",
      "Requirement already satisfied: numpy<2.0.0,>=1.23.5 in c:\\users\\a s u s\\appdata\\roaming\\python\\python311\\site-packages (from tensorflow-intel==2.16.2->tensorflow) (1.24.4)\n",
      "Requirement already satisfied: wheel<1.0,>=0.23.0 in c:\\programdata\\anaconda3\\lib\\site-packages (from astunparse>=1.6.0->tensorflow-intel==2.16.2->tensorflow) (0.38.4)\n",
      "Requirement already satisfied: rich in c:\\users\\a s u s\\appdata\\roaming\\python\\python311\\site-packages (from keras>=3.0.0->tensorflow-intel==2.16.2->tensorflow) (13.7.0)\n",
      "Requirement already satisfied: namex in c:\\users\\a s u s\\appdata\\roaming\\python\\python311\\site-packages (from keras>=3.0.0->tensorflow-intel==2.16.2->tensorflow) (0.0.8)\n",
      "Requirement already satisfied: optree in c:\\users\\a s u s\\appdata\\roaming\\python\\python311\\site-packages (from keras>=3.0.0->tensorflow-intel==2.16.2->tensorflow) (0.11.0)\n",
      "Requirement already satisfied: charset-normalizer<4,>=2 in c:\\programdata\\anaconda3\\lib\\site-packages (from requests<3,>=2.21.0->tensorflow-intel==2.16.2->tensorflow) (2.0.4)\n",
      "Requirement already satisfied: idna<4,>=2.5 in c:\\programdata\\anaconda3\\lib\\site-packages (from requests<3,>=2.21.0->tensorflow-intel==2.16.2->tensorflow) (3.4)\n",
      "Requirement already satisfied: urllib3<3,>=1.21.1 in c:\\programdata\\anaconda3\\lib\\site-packages (from requests<3,>=2.21.0->tensorflow-intel==2.16.2->tensorflow) (1.26.16)\n",
      "Requirement already satisfied: certifi>=2017.4.17 in c:\\programdata\\anaconda3\\lib\\site-packages (from requests<3,>=2.21.0->tensorflow-intel==2.16.2->tensorflow) (2023.11.17)\n",
      "Requirement already satisfied: markdown>=2.6.8 in c:\\programdata\\anaconda3\\lib\\site-packages (from tensorboard<2.17,>=2.16->tensorflow-intel==2.16.2->tensorflow) (3.4.1)\n",
      "Requirement already satisfied: tensorboard-data-server<0.8.0,>=0.7.0 in c:\\users\\a s u s\\appdata\\roaming\\python\\python311\\site-packages (from tensorboard<2.17,>=2.16->tensorflow-intel==2.16.2->tensorflow) (0.7.2)\n",
      "Requirement already satisfied: werkzeug>=1.0.1 in c:\\programdata\\anaconda3\\lib\\site-packages (from tensorboard<2.17,>=2.16->tensorflow-intel==2.16.2->tensorflow) (2.2.3)\n",
      "Requirement already satisfied: MarkupSafe>=2.1.1 in c:\\programdata\\anaconda3\\lib\\site-packages (from werkzeug>=1.0.1->tensorboard<2.17,>=2.16->tensorflow-intel==2.16.2->tensorflow) (2.1.1)\n",
      "Requirement already satisfied: markdown-it-py>=2.2.0 in c:\\programdata\\anaconda3\\lib\\site-packages (from rich->keras>=3.0.0->tensorflow-intel==2.16.2->tensorflow) (2.2.0)\n",
      "Requirement already satisfied: pygments<3.0.0,>=2.13.0 in c:\\users\\a s u s\\appdata\\roaming\\python\\python311\\site-packages (from rich->keras>=3.0.0->tensorflow-intel==2.16.2->tensorflow) (2.17.2)\n",
      "Requirement already satisfied: mdurl~=0.1 in c:\\programdata\\anaconda3\\lib\\site-packages (from markdown-it-py>=2.2.0->rich->keras>=3.0.0->tensorflow-intel==2.16.2->tensorflow) (0.1.0)\n",
      "Using cached tensorflow-2.16.2-cp311-cp311-win_amd64.whl (2.1 kB)\n",
      "Installing collected packages: tensorflow\n",
      "  Attempting uninstall: tensorflow\n",
      "    Found existing installation: tensorflow 2.16.1\n",
      "    Uninstalling tensorflow-2.16.1:\n",
      "      Successfully uninstalled tensorflow-2.16.1\n",
      "Successfully installed tensorflow-2.16.2\n"
     ]
    }
   ],
   "source": [
    "!pip install --upgrade tensorflow"
   ]
  },
  {
   "cell_type": "code",
   "execution_count": 4,
   "id": "88179782",
   "metadata": {},
   "outputs": [
    {
     "name": "stdout",
     "output_type": "stream",
     "text": [
      "tfds.core.DatasetInfo(\n",
      "    name='imdb_reviews',\n",
      "    full_name='imdb_reviews/plain_text/1.0.0',\n",
      "    description=\"\"\"\n",
      "    Large Movie Review Dataset. This is a dataset for binary sentiment\n",
      "    classification containing substantially more data than previous benchmark\n",
      "    datasets. We provide a set of 25,000 highly polar movie reviews for training,\n",
      "    and 25,000 for testing. There is additional unlabeled data for use as well.\n",
      "    \"\"\",\n",
      "    config_description=\"\"\"\n",
      "    Plain text\n",
      "    \"\"\",\n",
      "    homepage='http://ai.stanford.edu/~amaas/data/sentiment/',\n",
      "    data_path='C:\\\\Users\\\\A S U S\\\\tensorflow_datasets\\\\imdb_reviews\\\\plain_text\\\\1.0.0',\n",
      "    file_format=tfrecord,\n",
      "    download_size=80.23 MiB,\n",
      "    dataset_size=129.83 MiB,\n",
      "    features=FeaturesDict({\n",
      "        'label': ClassLabel(shape=(), dtype=int64, num_classes=2),\n",
      "        'text': Text(shape=(), dtype=string),\n",
      "    }),\n",
      "    supervised_keys=('text', 'label'),\n",
      "    disable_shuffling=False,\n",
      "    splits={\n",
      "        'test': <SplitInfo num_examples=25000, num_shards=1>,\n",
      "        'train': <SplitInfo num_examples=25000, num_shards=1>,\n",
      "        'unsupervised': <SplitInfo num_examples=50000, num_shards=1>,\n",
      "    },\n",
      "    citation=\"\"\"@InProceedings{maas-EtAl:2011:ACL-HLT2011,\n",
      "      author    = {Maas, Andrew L.  and  Daly, Raymond E.  and  Pham, Peter T.  and  Huang, Dan  and  Ng, Andrew Y.  and  Potts, Christopher},\n",
      "      title     = {Learning Word Vectors for Sentiment Analysis},\n",
      "      booktitle = {Proceedings of the 49th Annual Meeting of the Association for Computational Linguistics: Human Language Technologies},\n",
      "      month     = {June},\n",
      "      year      = {2011},\n",
      "      address   = {Portland, Oregon, USA},\n",
      "      publisher = {Association for Computational Linguistics},\n",
      "      pages     = {142--150},\n",
      "      url       = {http://www.aclweb.org/anthology/P11-1015}\n",
      "    }\"\"\",\n",
      ")\n",
      "Review: This was an absolutely terrible movie. Don't be lured in by Christopher Walken or Michael Ironside. Both are great actors, but this must simply be their worst role in history. Even their great acting could not redeem this movie's ridiculous storyline. This movie is an early nineties US propaganda piece. The most pathetic scenes were those when the Columbian rebels were making their cases for revolutions. Maria Conchita Alonso appeared phony, and her pseudo-love affair with Walken was nothing but a pathetic emotional plug in a movie that was devoid of any real meaning. I am disappointed that there are movies like this, ruining actor's like Christopher Walken's good name. I could barely sit through it.\n",
      "Label: 0\n",
      "Review: I have been known to fall asleep during films, but this is usually due to a combination of things including, really tired, being warm and comfortable on the sette and having just eaten a lot. However on this occasion I fell asleep because the film was rubbish. The plot development was constant. Constantly slow and boring. Things seemed to happen, but with no explanation of what was causing them or why. I admit, I may have missed part of the film, but i watched the majority of it and everything just seemed to happen of its own accord without any real concern for anything else. I cant recommend this film at all.\n",
      "Label: 0\n",
      "Review: Mann photographs the Alberta Rocky Mountains in a superb fashion, and Jimmy Stewart and Walter Brennan give enjoyable performances as they always seem to do. <br /><br />But come on Hollywood - a Mountie telling the people of Dawson City, Yukon to elect themselves a marshal (yes a marshal!) and to enforce the law themselves, then gunfighters battling it out on the streets for control of the town? <br /><br />Nothing even remotely resembling that happened on the Canadian side of the border during the Klondike gold rush. Mr. Mann and company appear to have mistaken Dawson City for Deadwood, the Canadian North for the American Wild West.<br /><br />Canadian viewers be prepared for a Reefer Madness type of enjoyable howl with this ludicrous plot, or, to shake your head in disgust.\n",
      "Label: 0\n",
      "Review: This is the kind of film for a snowy Sunday afternoon when the rest of the world can go ahead with its own business as you descend into a big arm-chair and mellow for a couple of hours. Wonderful performances from Cher and Nicolas Cage (as always) gently row the plot along. There are no rapids to cross, no dangerous waters, just a warm and witty paddle through New York life at its best. A family film in every sense and one that deserves the praise it received.\n",
      "Label: 1\n",
      "Review: As others have mentioned, all the women that go nude in this film are mostly absolutely gorgeous. The plot very ably shows the hypocrisy of the female libido. When men are around they want to be pursued, but when no \"men\" are around, they become the pursuers of a 14 year old boy. And the boy becomes a man really fast (we should all be so lucky at this age!). He then gets up the courage to pursue his true love.\n",
      "Label: 1\n"
     ]
    }
   ],
   "source": [
    "import tensorflow as tf\n",
    "import tensorflow_datasets as tfds\n",
    "from tensorflow.keras.preprocessing.text import Tokenizer\n",
    "from tensorflow.keras.preprocessing.sequence import pad_sequences\n",
    "\n",
    "\n",
    "# Unduh dataset IMDb\n",
    "(train_data, test_data), info = tfds.load('imdb_reviews', split=(tfds.Split.TRAIN, tfds.Split.TEST), with_info=True, as_supervised=True)\n",
    "\n",
    "# Tampilkan informasi dataset\n",
    "print(info)\n",
    "\n",
    "# Tampilkan beberapa contoh data\n",
    "for example in train_data.take(5):\n",
    "    print(f'Review: {example[0].numpy().decode(\"utf-8\")}')\n",
    "    print(f'Label: {example[1].numpy()}')\n"
   ]
  },
  {
   "cell_type": "markdown",
   "id": "d7656d75",
   "metadata": {},
   "source": [
    "**Penjelasan Output:**\n",
    "\n",
    "- Informasi tentang dataset IMDb, termasuk jumlah contoh di set pelatihan dan pengujian, serta deskripsi fitur.\n",
    "- Beberapa contoh data ulasan teks dan label (0 atau 1)."
   ]
  },
  {
   "cell_type": "markdown",
   "id": "2c979ea0",
   "metadata": {},
   "source": [
    "# Analisis Sentimen Menggunakan LSTM dengan Dataset IMDb\n",
    "\n",
    "Analisis sentimen menggunakan model LSTM. Dataset yang digunakan adalah IMDb.\n"
   ]
  },
  {
   "cell_type": "code",
   "execution_count": 5,
   "id": "9b4591e2",
   "metadata": {},
   "outputs": [
    {
     "name": "stdout",
     "output_type": "stream",
     "text": [
      "tfds.core.DatasetInfo(\n",
      "    name='imdb_reviews',\n",
      "    full_name='imdb_reviews/plain_text/1.0.0',\n",
      "    description=\"\"\"\n",
      "    Large Movie Review Dataset. This is a dataset for binary sentiment\n",
      "    classification containing substantially more data than previous benchmark\n",
      "    datasets. We provide a set of 25,000 highly polar movie reviews for training,\n",
      "    and 25,000 for testing. There is additional unlabeled data for use as well.\n",
      "    \"\"\",\n",
      "    config_description=\"\"\"\n",
      "    Plain text\n",
      "    \"\"\",\n",
      "    homepage='http://ai.stanford.edu/~amaas/data/sentiment/',\n",
      "    data_path='C:\\\\Users\\\\A S U S\\\\tensorflow_datasets\\\\imdb_reviews\\\\plain_text\\\\1.0.0',\n",
      "    file_format=tfrecord,\n",
      "    download_size=80.23 MiB,\n",
      "    dataset_size=129.83 MiB,\n",
      "    features=FeaturesDict({\n",
      "        'label': ClassLabel(shape=(), dtype=int64, num_classes=2),\n",
      "        'text': Text(shape=(), dtype=string),\n",
      "    }),\n",
      "    supervised_keys=('text', 'label'),\n",
      "    disable_shuffling=False,\n",
      "    splits={\n",
      "        'test': <SplitInfo num_examples=25000, num_shards=1>,\n",
      "        'train': <SplitInfo num_examples=25000, num_shards=1>,\n",
      "        'unsupervised': <SplitInfo num_examples=50000, num_shards=1>,\n",
      "    },\n",
      "    citation=\"\"\"@InProceedings{maas-EtAl:2011:ACL-HLT2011,\n",
      "      author    = {Maas, Andrew L.  and  Daly, Raymond E.  and  Pham, Peter T.  and  Huang, Dan  and  Ng, Andrew Y.  and  Potts, Christopher},\n",
      "      title     = {Learning Word Vectors for Sentiment Analysis},\n",
      "      booktitle = {Proceedings of the 49th Annual Meeting of the Association for Computational Linguistics: Human Language Technologies},\n",
      "      month     = {June},\n",
      "      year      = {2011},\n",
      "      address   = {Portland, Oregon, USA},\n",
      "      publisher = {Association for Computational Linguistics},\n",
      "      pages     = {142--150},\n",
      "      url       = {http://www.aclweb.org/anthology/P11-1015}\n",
      "    }\"\"\",\n",
      ")\n"
     ]
    }
   ],
   "source": [
    "# Unduh dataset IMDb\n",
    "(train_data, test_data), info = tfds.load('imdb_reviews', split=(tfds.Split.TRAIN, tfds.Split.TEST), with_info=True, as_supervised=True)\n",
    "\n",
    "# Info dataset\n",
    "print(info)\n"
   ]
  },
  {
   "cell_type": "markdown",
   "id": "3e58d753",
   "metadata": {},
   "source": [
    "## Preprocessing Data\n",
    "\n",
    "Langkah-langkah preprocessing meliputi normalisasi teks, tokenisasi, dan padding sequences.\n"
   ]
  },
  {
   "cell_type": "code",
   "execution_count": 7,
   "id": "5880ad53",
   "metadata": {},
   "outputs": [],
   "source": [
    "# Preprocessing teks\n",
    "def preprocess_text(text, label):\n",
    "    text = tf.strings.regex_replace(text, rb\"<br\\s*/?>\", b\" \")\n",
    "    text = tf.strings.regex_replace(text, rb\"[^a-zA-Z0-9\\s]\", b\"\")\n",
    "    return text, label\n",
    "\n",
    "train_data = train_data.map(preprocess_text)\n",
    "test_data = test_data.map(preprocess_text)\n",
    "# Teks ulasan telah dipreproses untuk menghilangkan tag HTML dan karakter non-alfanumerik.\n",
    "\n",
    "# Mengonversi dataset TensorFlow menjadi array Numpy\n",
    "def tensorflow_to_numpy(data):\n",
    "    texts, labels = [], []\n",
    "    for text, label in tfds.as_numpy(data):\n",
    "        texts.append(text.decode('utf-8'))\n",
    "        labels.append(label)\n",
    "    return texts, labels\n",
    "\n",
    "train_texts, train_labels = tensorflow_to_numpy(train_data)\n",
    "test_texts, test_labels = tensorflow_to_numpy(test_data)\n",
    "# Teks ulasan dan label telah dikonversi menjadi array Numpy untuk memudahkan manipulasi data.\n",
    "\n",
    "# Tokenisasi teks\n",
    "tokenizer = Tokenizer(num_words=10000)\n",
    "tokenizer.fit_on_texts(train_texts)\n",
    "\n",
    "train_sequences = tokenizer.texts_to_sequences(train_texts)\n",
    "test_sequences = tokenizer.texts_to_sequences(test_texts)\n",
    "\n",
    "# Padding sequences\n",
    "MAX_SEQ_LENGTH = 250\n",
    "train_padded = pad_sequences(train_sequences, maxlen=MAX_SEQ_LENGTH, padding='post')\n",
    "test_padded = pad_sequences(test_sequences, maxlen=MAX_SEQ_LENGTH, padding='post')\n",
    "\n",
    "# Konversi label menjadi array Numpy\n",
    "train_labels = tf.convert_to_tensor(train_labels)\n",
    "test_labels = tf.convert_to_tensor(test_labels)\n",
    "\n",
    "# Teks ulasan telah ditokenisasi dan dipadding ke panjang yang sama (250 kata).\n",
    "# Label telah dikonversi menjadi tensor.\n"
   ]
  },
  {
   "cell_type": "markdown",
   "id": "e6ab757e",
   "metadata": {},
   "source": [
    "## Buat Model Dasar Menggunakan LSTM\n",
    "\n",
    "Model dasar menggunakan LSTM dengan embedding layer.\n"
   ]
  },
  {
   "cell_type": "code",
   "execution_count": 8,
   "id": "6cec68b4",
   "metadata": {
    "scrolled": false
   },
   "outputs": [
    {
     "name": "stdout",
     "output_type": "stream",
     "text": [
      "Model: \"sequential\"\n",
      "_________________________________________________________________\n",
      " Layer (type)                Output Shape              Param #   \n",
      "=================================================================\n",
      " embedding (Embedding)       (None, 250, 64)           640000    \n",
      "                                                                 \n",
      " lstm (LSTM)                 (None, 250, 64)           33024     \n",
      "                                                                 \n",
      " global_max_pooling1d (Glob  (None, 64)                0         \n",
      " alMaxPooling1D)                                                 \n",
      "                                                                 \n",
      " dense (Dense)               (None, 1)                 65        \n",
      "                                                                 \n",
      "=================================================================\n",
      "Total params: 673089 (2.57 MB)\n",
      "Trainable params: 673089 (2.57 MB)\n",
      "Non-trainable params: 0 (0.00 Byte)\n",
      "_________________________________________________________________\n"
     ]
    }
   ],
   "source": [
    "from tensorflow.keras.models import Sequential\n",
    "from tensorflow.keras.layers import Embedding, LSTM, Dense, GlobalMaxPooling1D\n",
    "\n",
    "def create_model(embedding_dim=64, lstm_units=64):\n",
    "    model = Sequential([\n",
    "        Embedding(input_dim=10000, output_dim=embedding_dim, input_length=250),\n",
    "        LSTM(lstm_units, return_sequences=True),\n",
    "        GlobalMaxPooling1D(),\n",
    "        Dense(1, activation='sigmoid')\n",
    "    ])\n",
    "    model.compile(optimizer='adam', loss='binary_crossentropy', metrics=['accuracy'])\n",
    "    return model\n",
    "\n",
    "model = create_model()\n",
    "model.summary()\n"
   ]
  },
  {
   "cell_type": "markdown",
   "id": "9017a64f",
   "metadata": {},
   "source": [
    "**Penjelasan Output:**\n",
    "\n",
    "- Struktur model LSTM yang dibangun.\n",
    "- \"model.summary()\" akan menampilkan ringkasan arsitektur model, termasuk jumlah parameter pada setiap lapisan."
   ]
  },
  {
   "cell_type": "markdown",
   "id": "9b7fa07f",
   "metadata": {},
   "source": [
    "## Hyperparameter Tuning dengan GridSearch\n"
   ]
  },
  {
   "cell_type": "code",
   "execution_count": 10,
   "id": "48034517",
   "metadata": {},
   "outputs": [
    {
     "name": "stdout",
     "output_type": "stream",
     "text": [
      "Params: 32, 32, 32 - Score: 0.8564000129699707\n",
      "Params: 32, 32, 64 - Score: 0.8654000163078308\n",
      "Params: 32, 64, 32 - Score: 0.8596000075340271\n",
      "Params: 32, 64, 64 - Score: 0.86080002784729\n",
      "Params: 64, 32, 32 - Score: 0.8557999730110168\n",
      "Params: 64, 32, 64 - Score: 0.8640000224113464\n",
      "Params: 64, 64, 32 - Score: 0.8644000291824341\n",
      "Params: 64, 64, 64 - Score: 0.8676000237464905\n",
      "Best: 0.8676000237464905 using {'embedding_dim': 64, 'lstm_units': 64, 'batch_size': 64}\n"
     ]
    }
   ],
   "source": [
    "import numpy as np\n",
    "from tensorflow.keras.models import Sequential\n",
    "from tensorflow.keras.layers import Embedding, LSTM, GlobalMaxPooling1D, Dense\n",
    "from tensorflow.keras.preprocessing.sequence import pad_sequences\n",
    "from sklearn.model_selection import train_test_split, GridSearchCV\n",
    "from sklearn.preprocessing import LabelEncoder\n",
    "from keras.datasets import imdb\n",
    "\n",
    "# Persiapan Data\n",
    "max_features = 10000\n",
    "max_len = 250\n",
    "(X_train, y_train), (X_test, y_test) = imdb.load_data(num_words=max_features)\n",
    "X_train = pad_sequences(X_train, maxlen=max_len)\n",
    "X_test = pad_sequences(X_test, maxlen=max_len)\n",
    "\n",
    "# Membuat fungsi untuk membangun model\n",
    "def create_model(embedding_dim=64, lstm_units=64):\n",
    "    model = Sequential([\n",
    "        Embedding(input_dim=max_features, output_dim=embedding_dim, input_length=max_len),\n",
    "        LSTM(lstm_units, return_sequences=True),\n",
    "        GlobalMaxPooling1D(),\n",
    "        Dense(1, activation='sigmoid')\n",
    "    ])\n",
    "    model.compile(optimizer='adam', loss='binary_crossentropy', metrics=['accuracy'])\n",
    "    return model\n",
    "\n",
    "# Fungsi untuk melatih model\n",
    "def model_fit(X_train, y_train, X_val, y_val, embedding_dim, lstm_units, batch_size, epochs=5):\n",
    "    model = create_model(embedding_dim, lstm_units)\n",
    "    model.fit(X_train, y_train, epochs=epochs, batch_size=batch_size, validation_data=(X_val, y_val), verbose=0)\n",
    "    return model\n",
    "\n",
    "# Grid Search untuk mencari hyperparameter terbaik\n",
    "def grid_search(X, y):\n",
    "    param_grid = {\n",
    "        'embedding_dim': [32, 64],\n",
    "        'lstm_units': [32, 64],\n",
    "        'batch_size': [32, 64]\n",
    "    }\n",
    "    \n",
    "    best_score = 0\n",
    "    best_params = None\n",
    "\n",
    "    for embedding_dim in param_grid['embedding_dim']:\n",
    "        for lstm_units in param_grid['lstm_units']:\n",
    "            for batch_size in param_grid['batch_size']:\n",
    "                X_train, X_val, y_train, y_val = train_test_split(X, y, test_size=0.2, random_state=42)\n",
    "                model = model_fit(X_train, y_train, X_val, y_val, embedding_dim, lstm_units, batch_size)\n",
    "                score = model.evaluate(X_val, y_val, verbose=0)[1]\n",
    "                if score > best_score:\n",
    "                    best_score = score\n",
    "                    best_params = {'embedding_dim': embedding_dim, 'lstm_units': lstm_units, 'batch_size': batch_size}\n",
    "                print(f\"Params: {embedding_dim}, {lstm_units}, {batch_size} - Score: {score}\")\n",
    "\n",
    "    return best_score, best_params\n",
    "\n",
    "best_score, best_params = grid_search(X_train, y_train)\n",
    "print(f\"Best: {best_score} using {best_params}\")\n"
   ]
  },
  {
   "cell_type": "markdown",
   "id": "d814cb74",
   "metadata": {},
   "source": [
    "**Penjelasan Output:**\n",
    "\n",
    "- Kode menampilkan hasil dari setiap kombinasi parameter yang diuji beserta nilai akurasi validasinya (Score).\n",
    "- Menampilkan kombinasi terbaik berdasarkan akurasi validasi."
   ]
  },
  {
   "cell_type": "markdown",
   "id": "80169950",
   "metadata": {},
   "source": [
    "## Hyperparameter Tuning dengan Optuna"
   ]
  },
  {
   "cell_type": "code",
   "execution_count": 12,
   "id": "48705244",
   "metadata": {},
   "outputs": [
    {
     "name": "stderr",
     "output_type": "stream",
     "text": [
      "[I 2024-07-08 15:44:18,130] A new study created in memory with name: no-name-262e8b4b-5bad-4612-9f00-f7e0ffb80366\n",
      "[I 2024-07-08 15:47:56,288] Trial 0 finished with value: 0.8633599877357483 and parameters: {'embedding_dim': 32, 'lstm_units': 32, 'batch_size': 32}. Best is trial 0 with value: 0.8633599877357483.\n",
      "[I 2024-07-08 15:51:10,723] Trial 1 finished with value: 0.862559974193573 and parameters: {'embedding_dim': 64, 'lstm_units': 32, 'batch_size': 64}. Best is trial 0 with value: 0.8633599877357483.\n",
      "[I 2024-07-08 15:57:23,448] Trial 2 finished with value: 0.8636800050735474 and parameters: {'embedding_dim': 32, 'lstm_units': 64, 'batch_size': 48}. Best is trial 2 with value: 0.8636800050735474.\n",
      "[I 2024-07-08 16:03:46,348] Trial 3 finished with value: 0.8569599986076355 and parameters: {'embedding_dim': 64, 'lstm_units': 64, 'batch_size': 48}. Best is trial 2 with value: 0.8636800050735474.\n",
      "[I 2024-07-08 16:06:49,868] Trial 4 finished with value: 0.8595600128173828 and parameters: {'embedding_dim': 32, 'lstm_units': 32, 'batch_size': 64}. Best is trial 2 with value: 0.8636800050735474.\n",
      "[I 2024-07-08 16:14:11,310] Trial 5 finished with value: 0.8648399710655212 and parameters: {'embedding_dim': 32, 'lstm_units': 64, 'batch_size': 32}. Best is trial 5 with value: 0.8648399710655212.\n",
      "[I 2024-07-08 16:15:13,315] Trial 6 pruned. Trial was pruned at epoch 0.\n",
      "[I 2024-07-08 16:18:17,224] Trial 7 pruned. Trial was pruned at epoch 3.\n",
      "[I 2024-07-08 16:19:48,517] Trial 8 pruned. Trial was pruned at epoch 0.\n",
      "[I 2024-07-08 16:20:50,048] Trial 9 pruned. Trial was pruned at epoch 0.\n"
     ]
    },
    {
     "name": "stdout",
     "output_type": "stream",
     "text": [
      "Best trial:\n",
      "  Value: 0.8648399710655212\n",
      "  Params: \n",
      "    embedding_dim: 32\n",
      "    lstm_units: 64\n",
      "    batch_size: 32\n"
     ]
    }
   ],
   "source": [
    "import optuna\n",
    "from optuna.integration import TFKerasPruningCallback\n",
    "from tensorflow.keras.callbacks import EarlyStopping\n",
    "\n",
    "def objective(trial):\n",
    "    embedding_dim = trial.suggest_categorical('embedding_dim', [32, 64])\n",
    "    lstm_units = trial.suggest_categorical('lstm_units', [32, 64])\n",
    "    batch_size = trial.suggest_int('batch_size', 32, 64, step=16)\n",
    "    \n",
    "    model = Sequential([\n",
    "        Embedding(input_dim=10000, output_dim=embedding_dim, input_length=250),\n",
    "        LSTM(lstm_units, return_sequences=True),\n",
    "        GlobalMaxPooling1D(),\n",
    "        Dense(1, activation='sigmoid')\n",
    "    ])\n",
    "    model.compile(optimizer='adam', loss='binary_crossentropy', metrics=['accuracy'])\n",
    "    \n",
    "    history = model.fit(train_padded, train_labels, \n",
    "                        epochs=5, \n",
    "                        validation_data=(test_padded, test_labels),\n",
    "                        batch_size=batch_size, \n",
    "                        verbose=0, \n",
    "                        callbacks=[EarlyStopping(monitor='val_loss', patience=2),\n",
    "                                   TFKerasPruningCallback(trial, 'val_loss')])\n",
    "    \n",
    "    val_accuracy = history.history['val_accuracy'][-1]\n",
    "    return val_accuracy\n",
    "\n",
    "# Buat studi Optuna\n",
    "study = optuna.create_study(direction='maximize')\n",
    "study.optimize(objective, n_trials=10)\n",
    "\n",
    "# Tampilkan hasil tuning dan hyperparameter terbaik\n",
    "print('Best trial:')\n",
    "trial = study.best_trial\n",
    "print('  Value: {}'.format(trial.value))\n",
    "print('  Params: ')\n",
    "for key, value in trial.params.items():\n",
    "    print('    {}: {}'.format(key, value))\n"
   ]
  },
  {
   "cell_type": "markdown",
   "id": "bbec117a",
   "metadata": {},
   "source": [
    "**Penjelasan Output:**\n",
    "\n",
    "- Optuna menemukan kombinasi hyperparameter terbaik berdasarkan akurasi validasi.\n",
    "- Hasil terbaik dan hyperparameter terbaik ditampilkan."
   ]
  },
  {
   "cell_type": "markdown",
   "id": "b320a112",
   "metadata": {},
   "source": [
    "# Klasifikasi Gambar Menggunakan CNN dengan Dataset CIFAR-10\n",
    "\n",
    "Klasifikasi gambar menggunakan model CNN. Dataset yang digunakan adalah CIFAR-10.\n"
   ]
  },
  {
   "cell_type": "code",
   "execution_count": 13,
   "id": "09c8a171",
   "metadata": {},
   "outputs": [
    {
     "name": "stdout",
     "output_type": "stream",
     "text": [
      "x_train shape: (50000, 32, 32, 3)\n",
      "y_train shape: (50000, 1)\n",
      "x_test shape: (10000, 32, 32, 3)\n",
      "y_test shape: (10000, 1)\n"
     ]
    }
   ],
   "source": [
    "import tensorflow as tf\n",
    "from tensorflow.keras.datasets import cifar10\n",
    "\n",
    "# Unduh dataset CIFAR-10\n",
    "(x_train, y_train), (x_test, y_test) = cifar10.load_data()\n",
    "\n",
    "# Tampilkan informasi dataset\n",
    "print(f'x_train shape: {x_train.shape}')\n",
    "print(f'y_train shape: {y_train.shape}')\n",
    "print(f'x_test shape: {x_test.shape}')\n",
    "print(f'y_test shape: {y_test.shape}')\n"
   ]
  },
  {
   "cell_type": "markdown",
   "id": "8f40bda2",
   "metadata": {},
   "source": [
    "**Penjelasan Output:**\n",
    "\n",
    "- Informasi tentang bentuk (dimensi) dari set pelatihan dan pengujian CIFAR-10."
   ]
  },
  {
   "cell_type": "markdown",
   "id": "1e18f7a3",
   "metadata": {},
   "source": [
    "## Preprocessing Data\n",
    "\n",
    "Langkah-langkah preprocessing meliputi normalisasi gambar.\n"
   ]
  },
  {
   "cell_type": "code",
   "execution_count": 14,
   "id": "4cddd139",
   "metadata": {},
   "outputs": [],
   "source": [
    "# Normalisasi gambar\n",
    "x_train = x_train.astype('float32') / 255.0\n",
    "x_test = x_test.astype('float32') / 255.0\n",
    "\n",
    "# One-hot encoding label\n",
    "y_train = tf.keras.utils.to_categorical(y_train, 10)\n",
    "y_test = tf.keras.utils.to_categorical(y_test, 10)\n"
   ]
  },
  {
   "cell_type": "markdown",
   "id": "0373e215",
   "metadata": {},
   "source": [
    "**Penjelasan Output:**\n",
    "\n",
    "- Gambar telah dinormalisasi menjadi rentang [0, 1].\n",
    "- Label telah dikonversi menjadi bentuk one-hot encoding."
   ]
  },
  {
   "cell_type": "markdown",
   "id": "67603348",
   "metadata": {},
   "source": [
    "## Buat Model Dasar Menggunakan CNN\n",
    "\n",
    "Model dasar menggunakan CNN dengan beberapa convolutional layer dan dense layer.\n"
   ]
  },
  {
   "cell_type": "code",
   "execution_count": 15,
   "id": "a6cc6239",
   "metadata": {},
   "outputs": [
    {
     "name": "stdout",
     "output_type": "stream",
     "text": [
      "Model: \"sequential_19\"\n",
      "_________________________________________________________________\n",
      " Layer (type)                Output Shape              Param #   \n",
      "=================================================================\n",
      " conv2d (Conv2D)             (None, 30, 30, 32)        896       \n",
      "                                                                 \n",
      " max_pooling2d (MaxPooling2  (None, 15, 15, 32)        0         \n",
      " D)                                                              \n",
      "                                                                 \n",
      " conv2d_1 (Conv2D)           (None, 13, 13, 32)        9248      \n",
      "                                                                 \n",
      " max_pooling2d_1 (MaxPoolin  (None, 6, 6, 32)          0         \n",
      " g2D)                                                            \n",
      "                                                                 \n",
      " flatten (Flatten)           (None, 1152)              0         \n",
      "                                                                 \n",
      " dense_19 (Dense)            (None, 128)               147584    \n",
      "                                                                 \n",
      " dropout (Dropout)           (None, 128)               0         \n",
      "                                                                 \n",
      " dense_20 (Dense)            (None, 10)                1290      \n",
      "                                                                 \n",
      "=================================================================\n",
      "Total params: 159018 (621.16 KB)\n",
      "Trainable params: 159018 (621.16 KB)\n",
      "Non-trainable params: 0 (0.00 Byte)\n",
      "_________________________________________________________________\n"
     ]
    }
   ],
   "source": [
    "from tensorflow.keras.models import Sequential\n",
    "from tensorflow.keras.layers import Conv2D, MaxPooling2D, Flatten, Dense, Dropout\n",
    "\n",
    "def create_model(conv_layers=2, conv_filters=32, dense_units=128, dropout_rate=0.5):\n",
    "    model = Sequential()\n",
    "    model.add(Conv2D(conv_filters, (3, 3), activation='relu', input_shape=(32, 32, 3)))\n",
    "    model.add(MaxPooling2D((2, 2)))\n",
    "    \n",
    "    for _ in range(conv_layers - 1):\n",
    "        model.add(Conv2D(conv_filters, (3, 3), activation='relu'))\n",
    "        model.add(MaxPooling2D((2, 2)))\n",
    "    \n",
    "    model.add(Flatten())\n",
    "    model.add(Dense(dense_units, activation='relu'))\n",
    "    model.add(Dropout(dropout_rate))\n",
    "    model.add(Dense(10, activation='softmax'))\n",
    "    \n",
    "    model.compile(optimizer='adam', loss='categorical_crossentropy', metrics=['accuracy'])\n",
    "    return model\n",
    "\n",
    "model = create_model()\n",
    "model.summary()\n"
   ]
  },
  {
   "cell_type": "markdown",
   "id": "ce4ef279",
   "metadata": {},
   "source": [
    "**Penjelasan Output:**\n",
    "\n",
    "- Struktur model CNN yang dibangun.\n",
    "- model.summary() akan menampilkan ringkasan arsitektur model, termasuk jumlah parameter pada setiap lapisan."
   ]
  },
  {
   "cell_type": "markdown",
   "id": "a1980d87",
   "metadata": {},
   "source": [
    "## Hyperparameter Tuning dengan GridSearch\n"
   ]
  },
  {
   "cell_type": "code",
   "execution_count": 1,
   "id": "6d6dfcd1",
   "metadata": {},
   "outputs": [
    {
     "name": "stdout",
     "output_type": "stream",
     "text": [
      "Params: 2, 32, 128, 0.3, 32 - Score: 0.6866999864578247\n",
      "Params: 2, 32, 128, 0.3, 64 - Score: 0.6679999828338623\n",
      "Params: 2, 32, 128, 0.5, 32 - Score: 0.6959999799728394\n",
      "Params: 2, 32, 128, 0.5, 64 - Score: 0.6611999869346619\n",
      "Params: 2, 32, 256, 0.3, 32 - Score: 0.7019000053405762\n",
      "Params: 2, 32, 256, 0.3, 64 - Score: 0.6905999779701233\n",
      "Params: 2, 32, 256, 0.5, 32 - Score: 0.6851000189781189\n",
      "Params: 2, 32, 256, 0.5, 64 - Score: 0.6901999711990356\n",
      "Params: 2, 64, 128, 0.3, 32 - Score: 0.6965000033378601\n",
      "Params: 2, 64, 128, 0.3, 64 - Score: 0.6951000094413757\n",
      "Params: 2, 64, 128, 0.5, 32 - Score: 0.6880000233650208\n",
      "Params: 2, 64, 128, 0.5, 64 - Score: 0.6830999851226807\n",
      "Params: 2, 64, 256, 0.3, 32 - Score: 0.7049999833106995\n",
      "Params: 2, 64, 256, 0.3, 64 - Score: 0.7128999829292297\n",
      "Params: 2, 64, 256, 0.5, 32 - Score: 0.7078999876976013\n",
      "Params: 2, 64, 256, 0.5, 64 - Score: 0.6924999952316284\n",
      "Params: 3, 32, 128, 0.3, 32 - Score: 0.6406999826431274\n",
      "Params: 3, 32, 128, 0.3, 64 - Score: 0.6703000068664551\n",
      "Params: 3, 32, 128, 0.5, 32 - Score: 0.6353999972343445\n",
      "Params: 3, 32, 128, 0.5, 64 - Score: 0.633899986743927\n",
      "Params: 3, 32, 256, 0.3, 32 - Score: 0.6668999791145325\n",
      "Params: 3, 32, 256, 0.3, 64 - Score: 0.675000011920929\n",
      "Params: 3, 32, 256, 0.5, 32 - Score: 0.6567999720573425\n",
      "Params: 3, 32, 256, 0.5, 64 - Score: 0.6470999717712402\n",
      "Params: 3, 64, 128, 0.3, 32 - Score: 0.669700026512146\n",
      "Params: 3, 64, 128, 0.3, 64 - Score: 0.6794000267982483\n",
      "Params: 3, 64, 128, 0.5, 32 - Score: 0.6948999762535095\n",
      "Params: 3, 64, 128, 0.5, 64 - Score: 0.6913999915122986\n",
      "Params: 3, 64, 256, 0.3, 32 - Score: 0.6938999891281128\n",
      "Params: 3, 64, 256, 0.3, 64 - Score: 0.701200008392334\n",
      "Params: 3, 64, 256, 0.5, 32 - Score: 0.699400007724762\n",
      "Params: 3, 64, 256, 0.5, 64 - Score: 0.7052000164985657\n",
      "Best: 0.7128999829292297 using {'conv_layers': 2, 'conv_filters': 64, 'dense_units': 256, 'dropout_rate': 0.3, 'batch_size': 64}\n"
     ]
    }
   ],
   "source": [
    "import numpy as np\n",
    "import tensorflow as tf\n",
    "from tensorflow.keras.datasets import cifar10\n",
    "from tensorflow.keras.utils import to_categorical\n",
    "from sklearn.model_selection import train_test_split, GridSearchCV\n",
    "from sklearn.preprocessing import LabelEncoder\n",
    "\n",
    "# Load CIFAR-10 dataset\n",
    "(x_train, y_train), (x_test, y_test) = cifar10.load_data()\n",
    "x_train, x_test = x_train / 255.0, x_test / 255.0\n",
    "y_train, y_test = to_categorical(y_train), to_categorical(y_test)\n",
    "\n",
    "def create_model(conv_layers=2, conv_filters=32, dense_units=128, dropout_rate=0.3):\n",
    "    model = Sequential()\n",
    "    model.add(Conv2D(conv_filters, (3, 3), activation='relu', input_shape=(32, 32, 3)))\n",
    "    model.add(MaxPooling2D((2, 2)))\n",
    "    \n",
    "    for _ in range(conv_layers - 1):\n",
    "        model.add(Conv2D(conv_filters, (3, 3), activation='relu'))\n",
    "        model.add(MaxPooling2D((2, 2)))\n",
    "    \n",
    "    model.add(Flatten())\n",
    "    model.add(Dense(dense_units, activation='relu'))\n",
    "    model.add(Dropout(dropout_rate))\n",
    "    model.add(Dense(10, activation='softmax'))\n",
    "    model.compile(optimizer='adam', loss='categorical_crossentropy', metrics=['accuracy'])\n",
    "    return model\n",
    "\n",
    "def model_fit(x_train, y_train, x_val, y_val, conv_layers, conv_filters, dense_units, dropout_rate, batch_size, epochs=10):\n",
    "    model = create_model(conv_layers, conv_filters, dense_units, dropout_rate)\n",
    "    model.fit(x_train, y_train, epochs=epochs, batch_size=batch_size, validation_data=(x_val, y_val), verbose=0)\n",
    "    return model\n",
    "\n",
    "def grid_search(x, y):\n",
    "    param_grid = {\n",
    "        'conv_layers': [2, 3],\n",
    "        'conv_filters': [32, 64],\n",
    "        'dense_units': [128, 256],\n",
    "        'dropout_rate': [0.3, 0.5],\n",
    "        'batch_size': [32, 64]\n",
    "    }\n",
    "    \n",
    "    best_score = 0\n",
    "    best_params = None\n",
    "\n",
    "    for conv_layers in param_grid['conv_layers']:\n",
    "        for conv_filters in param_grid['conv_filters']:\n",
    "            for dense_units in param_grid['dense_units']:\n",
    "                for dropout_rate in param_grid['dropout_rate']:\n",
    "                    for batch_size in param_grid['batch_size']:\n",
    "                        x_train_split, x_val_split, y_train_split, y_val_split = train_test_split(x, y, test_size=0.2, random_state=42)\n",
    "                        model = model_fit(x_train_split, y_train_split, x_val_split, y_val_split, conv_layers, conv_filters, dense_units, dropout_rate, batch_size)\n",
    "                        score = model.evaluate(x_val_split, y_val_split, verbose=0)[1]\n",
    "                        if score > best_score:\n",
    "                            best_score = score\n",
    "                            best_params = {'conv_layers': conv_layers, 'conv_filters': conv_filters, 'dense_units': dense_units, 'dropout_rate': dropout_rate, 'batch_size': batch_size}\n",
    "                        print(f\"Params: {conv_layers}, {conv_filters}, {dense_units}, {dropout_rate}, {batch_size} - Score: {score}\")\n",
    "\n",
    "    return best_score, best_params\n",
    "# menampilkan hasil grid search\n",
    "best_score, best_params = grid_search(x_train, y_train)\n",
    "print(f\"Best: {best_score} using {best_params}\")\n"
   ]
  },
  {
   "cell_type": "markdown",
   "id": "fce31e85",
   "metadata": {},
   "source": [
    "**Penjelasan Output:**\n",
    "\n",
    "- Grid search menemukan kombinasi hyperparameter terbaik untuk model CNN berdasarkan akurasi validasi.\n",
    "- Menampilkan hasil terbaik dan hyperparameter terbaik."
   ]
  },
  {
   "cell_type": "markdown",
   "id": "61742dda",
   "metadata": {},
   "source": [
    "## Hyperparameter Tuning dengan Optuna\n"
   ]
  },
  {
   "cell_type": "code",
   "execution_count": 3,
   "id": "340343fe",
   "metadata": {},
   "outputs": [
    {
     "name": "stderr",
     "output_type": "stream",
     "text": [
      "[I 2024-07-09 14:19:18,850] A new study created in memory with name: no-name-d6d2affd-c270-4419-9595-00540c116d37\n",
      "[I 2024-07-09 14:23:17,082] Trial 0 finished with value: 0.663100004196167 and parameters: {'conv_layers': 3, 'conv_filters': 32, 'dense_units': 256, 'dropout_rate': 0.3, 'batch_size': 32}. Best is trial 0 with value: 0.663100004196167.\n",
      "[I 2024-07-09 14:27:25,385] Trial 1 finished with value: 0.6898000240325928 and parameters: {'conv_layers': 2, 'conv_filters': 32, 'dense_units': 128, 'dropout_rate': 0.3, 'batch_size': 64}. Best is trial 1 with value: 0.6898000240325928.\n",
      "[I 2024-07-09 14:31:43,663] Trial 2 finished with value: 0.6582000255584717 and parameters: {'conv_layers': 3, 'conv_filters': 32, 'dense_units': 256, 'dropout_rate': 0.5, 'batch_size': 64}. Best is trial 1 with value: 0.6898000240325928.\n",
      "[I 2024-07-09 14:36:24,933] Trial 3 finished with value: 0.6675999760627747 and parameters: {'conv_layers': 3, 'conv_filters': 32, 'dense_units': 256, 'dropout_rate': 0.3, 'batch_size': 32}. Best is trial 1 with value: 0.6898000240325928.\n",
      "[I 2024-07-09 14:45:00,028] Trial 4 finished with value: 0.6866999864578247 and parameters: {'conv_layers': 3, 'conv_filters': 64, 'dense_units': 128, 'dropout_rate': 0.5, 'batch_size': 64}. Best is trial 1 with value: 0.6898000240325928.\n",
      "[I 2024-07-09 14:45:33,356] Trial 5 pruned. Trial was pruned at epoch 0.\n",
      "[I 2024-07-09 14:46:26,105] Trial 6 pruned. Trial was pruned at epoch 0.\n",
      "[I 2024-07-09 14:47:01,712] Trial 7 pruned. Trial was pruned at epoch 0.\n",
      "[I 2024-07-09 14:47:54,576] Trial 8 pruned. Trial was pruned at epoch 0.\n",
      "[I 2024-07-09 14:55:56,656] Trial 9 finished with value: 0.6805999875068665 and parameters: {'conv_layers': 3, 'conv_filters': 64, 'dense_units': 128, 'dropout_rate': 0.5, 'batch_size': 64}. Best is trial 1 with value: 0.6898000240325928.\n"
     ]
    },
    {
     "name": "stdout",
     "output_type": "stream",
     "text": [
      "Best trial:\n",
      "  Value: 0.6898000240325928\n",
      "  Params: \n",
      "    conv_layers: 2\n",
      "    conv_filters: 32\n",
      "    dense_units: 128\n",
      "    dropout_rate: 0.3\n",
      "    batch_size: 64\n"
     ]
    }
   ],
   "source": [
    "import optuna\n",
    "from optuna.integration import TFKerasPruningCallback\n",
    "from tensorflow.keras.callbacks import EarlyStopping\n",
    "\n",
    "# Mendefinisikan Fungsi Objective\n",
    "def objective(trial):\n",
    "    conv_layers = trial.suggest_int('conv_layers', 2, 3)\n",
    "    conv_filters = trial.suggest_categorical('conv_filters', [32, 64])\n",
    "    dense_units = trial.suggest_categorical('dense_units', [128, 256])\n",
    "    dropout_rate = trial.suggest_float('dropout_rate', 0.3, 0.5, step=0.2)\n",
    "    batch_size = trial.suggest_int('batch_size', 32, 64, step=32)\n",
    "    \n",
    "    model = Sequential()\n",
    "    model.add(Conv2D(conv_filters, (3, 3), activation='relu', input_shape=(32, 32, 3)))\n",
    "    model.add(MaxPooling2D((2, 2)))\n",
    "    \n",
    "    for _ in range(conv_layers - 1):\n",
    "        model.add(Conv2D(conv_filters, (3, 3), activation='relu'))\n",
    "        model.add(MaxPooling2D((2, 2)))\n",
    "    \n",
    "    model.add(Flatten())\n",
    "    model.add(Dense(dense_units, activation='relu'))\n",
    "    model.add(Dropout(dropout_rate))\n",
    "    model.add(Dense(10, activation='softmax'))\n",
    "    \n",
    "    model.compile(optimizer='adam', loss='categorical_crossentropy', metrics=['accuracy'])\n",
    "    \n",
    "    history = model.fit(x_train, y_train, \n",
    "                        epochs=10, \n",
    "                        validation_data=(x_test, y_test),\n",
    "                        batch_size=batch_size, \n",
    "                        verbose=0, \n",
    "                        callbacks=[EarlyStopping(monitor='val_loss', patience=2),\n",
    "                                   TFKerasPruningCallback(trial, 'val_loss')])\n",
    "    \n",
    "    val_accuracy = history.history['val_accuracy'][-1]\n",
    "    return val_accuracy\n",
    "\n",
    "# Buat studi Optuna dan mengoptimasi\n",
    "study = optuna.create_study(direction='maximize')\n",
    "study.optimize(objective, n_trials=10)\n",
    "\n",
    "# Tampilkan hasil tuning dan hyperparameter terbaik\n",
    "print('Best trial:')\n",
    "trial = study.best_trial\n",
    "print('  Value: {}'.format(trial.value))\n",
    "print('  Params: ')\n",
    "for key, value in trial.params.items():\n",
    "    print('    {}: {}'.format(key, value))\n"
   ]
  },
  {
   "cell_type": "markdown",
   "id": "4cafce35",
   "metadata": {},
   "source": [
    "** Penjelasan Fungsi Objective:**\n",
    "\n",
    "- Menentukan jumlah lapisan convolutional (conv_layers), jumlah filter pada convolutional layer (conv_filters), jumlah unit pada dense layer (dense_units), tingkat dropout (dropout_rate), dan batch size (batch_size).\n",
    "- Model Sequential dibangun dengan menambahkan beberapa lapisan convolutional, pooling, flatten, dense, dan dropout.\n",
    "- Model dikompilasi dan dilatih menggunakan x_train dan y_train, dengan validasi menggunakan x_test dan y_test.\n",
    "- Callbacks EarlyStopping dan TFKerasPruningCallback digunakan untuk menghentikan pelatihan jika performa tidak membaik.\n",
    "- Fungsi mengembalikan akurasi validasi dari model yang dilatih.\n",
    "\n",
    "** Penjelasan output:**\n",
    "\n",
    "- Setiap trial di Optuna mencoba kombinasi hyperparameter yang berbeda dan mencatat nilai akurasi validasi (value).\n",
    "- Misalnya, trial 0 mencoba kombinasi {'conv_layers': 3, 'conv_filters': 32, 'dense_units': 256, 'dropout_rate': 0.3, 'batch_size': 32} dan mendapatkan nilai akurasi validasi 0.6631.\n",
    "- Ada beberapa trial yang dihentikan di awal karena pruning (misalnya trial 5, 6, 7, dan 8), yang berarti Optuna mendeteksi bahwa model tersebut tidak menjanjikan dan menghentikan pelatihan lebih awal.\n",
    "- Kombinasi hyperparameter terbaik ditemukan pada trial 1 dengan nilai akurasi validasi 0.6898 dan kombinasi hyperparameter {'conv_layers': 2, 'conv_filters': 32, 'dense_units': 128, 'dropout_rate': 0.3, 'batch_size': 64}.\n"
   ]
  },
  {
   "cell_type": "code",
   "execution_count": 1,
   "id": "1b01e7f4",
   "metadata": {},
   "outputs": [
    {
     "name": "stdout",
     "output_type": "stream",
     "text": [
      "Epoch 1/10\n",
      "782/782 [==============================] - 49s 62ms/step - loss: 1.5783 - accuracy: 0.4246 - val_loss: 1.2597 - val_accuracy: 0.5538 - lr: 0.0010\n",
      "Epoch 2/10\n",
      "782/782 [==============================] - 52s 67ms/step - loss: 1.2375 - accuracy: 0.5606 - val_loss: 1.1062 - val_accuracy: 0.6161 - lr: 0.0010\n",
      "Epoch 3/10\n",
      "782/782 [==============================] - 51s 65ms/step - loss: 1.0941 - accuracy: 0.6147 - val_loss: 1.0260 - val_accuracy: 0.6347 - lr: 0.0010\n",
      "Epoch 4/10\n",
      "782/782 [==============================] - 52s 66ms/step - loss: 1.0067 - accuracy: 0.6483 - val_loss: 0.9766 - val_accuracy: 0.6559 - lr: 0.0010\n",
      "Epoch 5/10\n",
      "782/782 [==============================] - 53s 67ms/step - loss: 0.9418 - accuracy: 0.6699 - val_loss: 0.8953 - val_accuracy: 0.6817 - lr: 0.0010\n",
      "Epoch 6/10\n",
      "782/782 [==============================] - 52s 67ms/step - loss: 0.8879 - accuracy: 0.6888 - val_loss: 0.8645 - val_accuracy: 0.6924 - lr: 0.0010\n",
      "Epoch 7/10\n",
      "782/782 [==============================] - 52s 66ms/step - loss: 0.8408 - accuracy: 0.7049 - val_loss: 0.8806 - val_accuracy: 0.6940 - lr: 0.0010\n",
      "Epoch 8/10\n",
      "782/782 [==============================] - 52s 66ms/step - loss: 0.8053 - accuracy: 0.7190 - val_loss: 0.8533 - val_accuracy: 0.7030 - lr: 0.0010\n",
      "Epoch 9/10\n",
      "782/782 [==============================] - 51s 66ms/step - loss: 0.7542 - accuracy: 0.7331 - val_loss: 0.8268 - val_accuracy: 0.7117 - lr: 0.0010\n",
      "Epoch 10/10\n",
      "782/782 [==============================] - 51s 66ms/step - loss: 0.7230 - accuracy: 0.7421 - val_loss: 0.8192 - val_accuracy: 0.7152 - lr: 0.0010\n"
     ]
    },
    {
     "data": {
      "image/png": "[encoded data removed]",
      "text/plain": [
       "<Figure size 1000x600 with 1 Axes>"
      ]
     },
     "metadata": {},
     "output_type": "display_data"
    },
    {
     "data": {
      "image/png": "[encoded data removed]",
      "text/plain": [
       "<Figure size 1000x600 with 1 Axes>"
      ]
     },
     "metadata": {},
     "output_type": "display_data"
    }
   ],
   "source": [
    "import tensorflow as tf\n",
    "from tensorflow.keras.models import Sequential\n",
    "from tensorflow.keras.layers import Conv2D, MaxPooling2D, Flatten, Dense, Dropout\n",
    "from tensorflow.keras.datasets import cifar10\n",
    "from tensorflow.keras.callbacks import EarlyStopping, ReduceLROnPlateau\n",
    "import matplotlib.pyplot as plt\n",
    "\n",
    "# Membuat Model\n",
    "def create_model(conv_layers=2, conv_filters=32, dense_units=128, dropout_rate=0.3):\n",
    "    model = Sequential()\n",
    "    model.add(Conv2D(conv_filters, (3, 3), activation='relu', input_shape=(32, 32, 3)))\n",
    "    model.add(MaxPooling2D((2, 2)))\n",
    "    \n",
    "    for _ in range(conv_layers - 1):\n",
    "        model.add(Conv2D(conv_filters, (3, 3), activation='relu'))\n",
    "        model.add(MaxPooling2D((2, 2)))\n",
    "    \n",
    "    model.add(Flatten())\n",
    "    model.add(Dense(dense_units, activation='relu'))\n",
    "    model.add(Dropout(dropout_rate))\n",
    "    model.add(Dense(10, activation='softmax'))\n",
    "    \n",
    "    model.compile(optimizer='adam', loss='categorical_crossentropy', metrics=['accuracy'])\n",
    "    return model\n",
    "\n",
    "# Plotting History\n",
    "def plot_history(history):\n",
    "    # Plot loss\n",
    "    plt.figure(figsize=(10, 6))\n",
    "    plt.plot(history.history['loss'], label='Train Loss')\n",
    "    plt.plot(history.history['val_loss'], label='Validation Loss')\n",
    "    plt.title('Model Loss')\n",
    "    plt.xlabel('Epochs')\n",
    "    plt.ylabel('Loss')\n",
    "    plt.legend()\n",
    "    plt.show()\n",
    "\n",
    "    # Plot accuracy\n",
    "    plt.figure(figsize=(10, 6))\n",
    "    plt.plot(history.history['accuracy'], label='Train Accuracy')\n",
    "    plt.plot(history.history['val_accuracy'], label='Validation Accuracy')\n",
    "    plt.title('Model Accuracy')\n",
    "    plt.xlabel('Epochs')\n",
    "    plt.ylabel('Accuracy')\n",
    "    plt.legend()\n",
    "    plt.show()\n",
    "\n",
    "# Melatih model dengan hyperparameter terbaik yang ditemukan oleh Optuna\n",
    "model = create_model(conv_layers=2, conv_filters=64, dense_units=256, dropout_rate=0.5)\n",
    "\n",
    "# Memuat data CIFAR-10 dan melatih model\n",
    "(x_train, y_train), (x_test, y_test) = cifar10.load_data()\n",
    "x_train, x_test = x_train / 255.0, x_test / 255.0\n",
    "y_train, y_test = tf.keras.utils.to_categorical(y_train, 10), tf.keras.utils.to_categorical(y_test, 10)\n",
    "\n",
    "# Menggunakan EarlyStopping dan ReduceLROnPlateau\n",
    "early_stopping = EarlyStopping(monitor='val_loss', patience=3, restore_best_weights=True)\n",
    "reduce_lr = ReduceLROnPlateau(monitor='val_loss', factor=0.2, patience=2, min_lr=0.001)\n",
    "\n",
    "history = model.fit(x_train, y_train, epochs=10, batch_size=64, validation_data=(x_test, y_test), verbose=1,\n",
    "                    callbacks=[early_stopping, reduce_lr])\n",
    "\n",
    "# Memvisualisasikan hasil training\n",
    "plot_history(history)\n"
   ]
  },
  {
   "cell_type": "markdown",
   "id": "99f22490",
   "metadata": {},
   "source": [
    "**Penjelasan output:**\n",
    "\n",
    "- Setiap epoch menunjukkan loss dan akurasi untuk set pelatihan (loss, accuracy) dan set validasi (val_loss, val_accuracy).\n",
    "- Learning rate (lr) juga dicantumkan, menunjukkan bahwa learning rate tetap 0.001 selama pelatihan.\n",
    "- Model mengalami peningkatan akurasi dan penurunan loss dari epoch ke epoch, dengan hasil akhir val_accuracy sebesar 71.52% dan val_loss sebesar 0.8192."
   ]
  },
  {
   "cell_type": "code",
   "execution_count": 3,
   "id": "91e63711",
   "metadata": {},
   "outputs": [
    {
     "name": "stdout",
     "output_type": "stream",
     "text": [
      "313/313 [==============================] - 2s 7ms/step\n"
     ]
    },
    {
     "data": {
      "image/png": "[encoded data removed]",
      "text/plain": [
       "<Figure size 1000x800 with 2 Axes>"
      ]
     },
     "metadata": {},
     "output_type": "display_data"
    },
    {
     "name": "stdout",
     "output_type": "stream",
     "text": [
      "Classification Report:\n",
      "              precision    recall  f1-score   support\n",
      "\n",
      "    airplane       0.78      0.71      0.74      1000\n",
      "  automobile       0.85      0.82      0.83      1000\n",
      "        bird       0.62      0.60      0.61      1000\n",
      "         cat       0.53      0.53      0.53      1000\n",
      "        deer       0.66      0.69      0.67      1000\n",
      "         dog       0.59      0.62      0.61      1000\n",
      "        frog       0.76      0.82      0.79      1000\n",
      "       horse       0.78      0.73      0.76      1000\n",
      "        ship       0.80      0.84      0.82      1000\n",
      "       truck       0.80      0.78      0.79      1000\n",
      "\n",
      "    accuracy                           0.72     10000\n",
      "   macro avg       0.72      0.72      0.72     10000\n",
      "weighted avg       0.72      0.72      0.72     10000\n",
      "\n"
     ]
    }
   ],
   "source": [
    "import numpy as np\n",
    "from sklearn.metrics import confusion_matrix, classification_report\n",
    "import seaborn as sns\n",
    "import matplotlib.pyplot as plt\n",
    "# Prediksi label untuk data uji\n",
    "y_pred = model.predict(x_test)\n",
    "y_pred_classes = np.argmax(y_pred, axis=1)\n",
    "y_true = np.argmax(y_test, axis=1)\n",
    "\n",
    "# Confusion Matrix\n",
    "conf_matrix = confusion_matrix(y_true, y_pred_classes)\n",
    "\n",
    "plt.figure(figsize=(10, 8))\n",
    "sns.heatmap(conf_matrix, annot=True, fmt='d', cmap='Blues')\n",
    "plt.xlabel('Predicted Label')\n",
    "plt.ylabel('True Label')\n",
    "plt.title('Confusion Matrix')\n",
    "plt.show()\n",
    "\n",
    "# Classification Report\n",
    "class_report = classification_report(y_true, y_pred_classes, target_names=[\n",
    "    'airplane', 'automobile', 'bird', 'cat', 'deer', 'dog', 'frog', 'horse', 'ship', 'truck'])\n",
    "\n",
    "print('Classification Report:')\n",
    "print(class_report)\n"
   ]
  },
  {
   "cell_type": "markdown",
   "id": "dbcd14c6",
   "metadata": {},
   "source": [
    "** Penjelasan:**\n",
    "- Model melakukan prediksi pada data uji dan hasilnya dievaluasi menggunakan confusion matrix dan classification report.\n",
    "- Confusion_matrix memberikan matriks kesalahan yang menunjukkan berapa banyak prediksi yang benar dan salah untuk setiap kelas.\n",
    "- Classification_report memberikan metrik evaluasi seperti precision, recall, dan f1-score untuk setiap kelas."
   ]
  },
  {
   "cell_type": "code",
   "execution_count": null,
   "id": "fd3544af",
   "metadata": {},
   "outputs": [],
   "source": []
  }
 ],
 "metadata": {
  "kernelspec": {
   "display_name": "Python 3 (myenv)",
   "language": "python",
   "name": "myenv"
  },
  "language_info": {
   "codemirror_mode": {
    "name": "ipython",
    "version": 3
   },
   "file_extension": ".py",
   "mimetype": "text/x-python",
   "name": "python",
   "nbconvert_exporter": "python",
   "pygments_lexer": "ipython3",
   "version": "3.8.8"
  }
 },
 "nbformat": 4,
 "nbformat_minor": 5
}
